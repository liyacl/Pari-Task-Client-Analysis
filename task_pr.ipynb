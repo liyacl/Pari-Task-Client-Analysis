{
 "cells": [
  {
   "attachments": {},
   "cell_type": "markdown",
   "id": "1f969fa2-2868-47b7-9031-6194544b992b",
   "metadata": {},
   "source": [
    "## Входные данные\n",
    "У вас есть две таблицы: Customer_info.xlsx (информация о клиентах) и Transactions_info.xlsx (транзакции за период с 01.06.2015 по 01.06.2016).\n",
    "\n",
    "## Легенда\n",
    "Вы работаете аналитиком в онлайн-платформе по продаже подписок на цифровые сервисы (музыка, фильмы, софт, облачное хранение и т. д.). Бизнес заинтересован в анализе клиентской базы и транзакций, чтобы определить наиболее ценных клиентов, их поведенческие паттерны и ключевые сегменты.\n",
    "\n",
    "## Анализ структуры данных\n",
    "Таблица Transactions_info.xlsx содержит date_new (дата покупки), Id_check (ID заказа), ID_client (ID клиента), Count_products (количество купленных товаров), Sum_payment (сумма платежа).\n",
    "Таблица Customer_info.xlsx содержит Id_client (ID клиента), Total_amount (общая сумма покупок), Gender (пол: M/F/NA), Age (возраст), Count_city (количество городов, где клиент делал покупки), Response_communcation (реакция на коммуникации), Communication_3month (контактировали ли с клиентом за 3 месяца), Tenure (стаж клиента в месяцах).\n",
    "\n",
    "## Задания\n",
    "1.\tОпределение ключевых клиентов. Ключевые клиенты — те, кто оформлял подписку 3 и более месяцев подряд. Определите таких клиентов, посчитайте их количество, рассчитайте их долю в общей выручке и охарактеризуйте этот сегмент (возраст, пол, другие характеристики).\n",
    "2.\tПомесячный анализ. Рассчитайте среднюю сумму платежа, среднее количество транзакций, среднее количество активных клиентов, долю операций в каждом месяце от общего количества за год, долю месячной выручки от общей суммы, половой состав (M/F/NA) с их долей в каждом месяце. Сделайте краткие выводы с акцентом на интересные моменты.\n",
    "3.\tАнализ возрастных групп. Разбейте клиентов по возрастным группам с шагом 10 лет, отдельно выделите клиентов без данных о возрасте. Для каждой группы и неизвестного возраста рассчитайте сумму платежей за весь период, количество транзакций, средние показатели по кварталам и долю каждой группы.\n",
    "\n",
    "## Формат результата\n",
    "\n",
    "Презентационный отчет с читаемыми графиками и аналитическими представлениями. Отдельный файл (идеально гит) с кодом и графиками для технического разбора результатов. Выводы должны исходить из информации в визуализации или фактах, а визуализация — легко интерпретируемой для любого уровня читателя."
   ]
  },
  {
   "cell_type": "code",
   "execution_count": 105,
   "id": "22348380-5db1-4f8a-a01c-1b5cb9ac6ba8",
   "metadata": {},
   "outputs": [],
   "source": [
    "import pandas as pd\n",
    "import plotly.express as px\n",
    "import plotly.graph_objects as go\n",
    "from plotly.subplots import make_subplots\n",
    "import warnings\n",
    "warnings.filterwarnings(\"ignore\")"
   ]
  },
  {
   "cell_type": "code",
   "execution_count": 6,
   "id": "1474595c-4988-4f05-9afc-f0836eb6fd2f",
   "metadata": {},
   "outputs": [
    {
     "data": {
      "text/html": [
       "<div>\n",
       "<style scoped>\n",
       "    .dataframe tbody tr th:only-of-type {\n",
       "        vertical-align: middle;\n",
       "    }\n",
       "\n",
       "    .dataframe tbody tr th {\n",
       "        vertical-align: top;\n",
       "    }\n",
       "\n",
       "    .dataframe thead th {\n",
       "        text-align: right;\n",
       "    }\n",
       "</style>\n",
       "<table border=\"1\" class=\"dataframe\">\n",
       "  <thead>\n",
       "    <tr style=\"text-align: right;\">\n",
       "      <th></th>\n",
       "      <th>Id_client</th>\n",
       "      <th>Total_amount</th>\n",
       "      <th>Gender</th>\n",
       "      <th>Age</th>\n",
       "      <th>Count_city</th>\n",
       "      <th>Response_communcation</th>\n",
       "      <th>Communication_3month</th>\n",
       "      <th>Tenure</th>\n",
       "    </tr>\n",
       "  </thead>\n",
       "  <tbody>\n",
       "    <tr>\n",
       "      <th>0</th>\n",
       "      <td>16052</td>\n",
       "      <td>1636.81</td>\n",
       "      <td>F</td>\n",
       "      <td>65.0</td>\n",
       "      <td>1</td>\n",
       "      <td>1</td>\n",
       "      <td>1</td>\n",
       "      <td>5</td>\n",
       "    </tr>\n",
       "    <tr>\n",
       "      <th>1</th>\n",
       "      <td>25027</td>\n",
       "      <td>4539.09</td>\n",
       "      <td>M</td>\n",
       "      <td>29.0</td>\n",
       "      <td>1</td>\n",
       "      <td>1</td>\n",
       "      <td>1</td>\n",
       "      <td>10</td>\n",
       "    </tr>\n",
       "    <tr>\n",
       "      <th>2</th>\n",
       "      <td>25659</td>\n",
       "      <td>6342.11</td>\n",
       "      <td>F</td>\n",
       "      <td>44.0</td>\n",
       "      <td>1</td>\n",
       "      <td>0</td>\n",
       "      <td>1</td>\n",
       "      <td>10</td>\n",
       "    </tr>\n",
       "  </tbody>\n",
       "</table>\n",
       "</div>"
      ],
      "text/plain": [
       "   Id_client  Total_amount Gender   Age  Count_city  Response_communcation  \\\n",
       "0      16052       1636.81      F  65.0           1                      1   \n",
       "1      25027       4539.09      M  29.0           1                      1   \n",
       "2      25659       6342.11      F  44.0           1                      0   \n",
       "\n",
       "   Communication_3month  Tenure  \n",
       "0                     1       5  \n",
       "1                     1      10  \n",
       "2                     1      10  "
      ]
     },
     "execution_count": 6,
     "metadata": {},
     "output_type": "execute_result"
    }
   ],
   "source": [
    "customers = pd.read_excel('customer_info.xlsx')\n",
    "customers.head(3)"
   ]
  },
  {
   "cell_type": "code",
   "execution_count": 9,
   "id": "90f937e6-d64e-4f37-9ab8-37c6b71312c9",
   "metadata": {},
   "outputs": [
    {
     "data": {
      "text/plain": [
       "(2429, 8)"
      ]
     },
     "execution_count": 9,
     "metadata": {},
     "output_type": "execute_result"
    }
   ],
   "source": [
    "customers.shape"
   ]
  },
  {
   "cell_type": "code",
   "execution_count": 71,
   "id": "11f2b144-ece0-4a58-853f-e82c200c9c6c",
   "metadata": {},
   "outputs": [
    {
     "data": {
      "text/plain": [
       "Id_client                  int64\n",
       "Total_amount             float64\n",
       "Gender                    object\n",
       "Age                      float64\n",
       "Count_city                 int64\n",
       "Response_communcation      int64\n",
       "Communication_3month       int64\n",
       "Tenure                     int64\n",
       "dtype: object"
      ]
     },
     "execution_count": 71,
     "metadata": {},
     "output_type": "execute_result"
    }
   ],
   "source": [
    "customers.dtypes"
   ]
  },
  {
   "cell_type": "code",
   "execution_count": 144,
   "id": "35582fb4-df54-4624-86a8-7f5f82aaa75f",
   "metadata": {},
   "outputs": [
    {
     "data": {
      "text/plain": [
       "Id_client                 0\n",
       "Total_amount              0\n",
       "Gender                   64\n",
       "Age                      35\n",
       "Count_city                0\n",
       "Response_communcation     0\n",
       "Communication_3month      0\n",
       "Tenure                    0\n",
       "dtype: int64"
      ]
     },
     "execution_count": 144,
     "metadata": {},
     "output_type": "execute_result"
    }
   ],
   "source": [
    "customers.isna().sum()"
   ]
  },
  {
   "cell_type": "code",
   "execution_count": 93,
   "id": "e6e79de3-5104-4f9d-99ba-d27d5f972280",
   "metadata": {},
   "outputs": [
    {
     "data": {
      "text/html": [
       "<div>\n",
       "<style scoped>\n",
       "    .dataframe tbody tr th:only-of-type {\n",
       "        vertical-align: middle;\n",
       "    }\n",
       "\n",
       "    .dataframe tbody tr th {\n",
       "        vertical-align: top;\n",
       "    }\n",
       "\n",
       "    .dataframe thead th {\n",
       "        text-align: right;\n",
       "    }\n",
       "</style>\n",
       "<table border=\"1\" class=\"dataframe\">\n",
       "  <thead>\n",
       "    <tr style=\"text-align: right;\">\n",
       "      <th></th>\n",
       "      <th>date_new</th>\n",
       "      <th>Id_check</th>\n",
       "      <th>ID_client</th>\n",
       "      <th>Count_products</th>\n",
       "      <th>Sum_payment</th>\n",
       "    </tr>\n",
       "  </thead>\n",
       "  <tbody>\n",
       "    <tr>\n",
       "      <th>0</th>\n",
       "      <td>2016-03-01</td>\n",
       "      <td>2271145</td>\n",
       "      <td>104027</td>\n",
       "      <td>2.034</td>\n",
       "      <td>23.31</td>\n",
       "    </tr>\n",
       "    <tr>\n",
       "      <th>1</th>\n",
       "      <td>2016-03-01</td>\n",
       "      <td>2271145</td>\n",
       "      <td>104027</td>\n",
       "      <td>1.000</td>\n",
       "      <td>31.75</td>\n",
       "    </tr>\n",
       "    <tr>\n",
       "      <th>2</th>\n",
       "      <td>2016-03-01</td>\n",
       "      <td>2271145</td>\n",
       "      <td>104027</td>\n",
       "      <td>1.000</td>\n",
       "      <td>6.80</td>\n",
       "    </tr>\n",
       "  </tbody>\n",
       "</table>\n",
       "</div>"
      ],
      "text/plain": [
       "    date_new  Id_check  ID_client  Count_products  Sum_payment\n",
       "0 2016-03-01   2271145     104027           2.034        23.31\n",
       "1 2016-03-01   2271145     104027           1.000        31.75\n",
       "2 2016-03-01   2271145     104027           1.000         6.80"
      ]
     },
     "execution_count": 93,
     "metadata": {},
     "output_type": "execute_result"
    }
   ],
   "source": [
    "transactions = pd.read_excel('transactions_info.xlsx')\n",
    "transactions.head(3)"
   ]
  },
  {
   "cell_type": "code",
   "execution_count": 94,
   "id": "ecbd01be-61b7-4513-9f2e-6d4999b1bea7",
   "metadata": {},
   "outputs": [
    {
     "data": {
      "text/plain": [
       "(419122, 5)"
      ]
     },
     "execution_count": 94,
     "metadata": {},
     "output_type": "execute_result"
    }
   ],
   "source": [
    "transactions.shape"
   ]
  },
  {
   "cell_type": "code",
   "execution_count": 95,
   "id": "d24bdee5-e277-4505-8216-a22507ee9580",
   "metadata": {},
   "outputs": [
    {
     "data": {
      "text/plain": [
       "date_new          datetime64[ns]\n",
       "Id_check                   int64\n",
       "ID_client                  int64\n",
       "Count_products           float64\n",
       "Sum_payment              float64\n",
       "dtype: object"
      ]
     },
     "execution_count": 95,
     "metadata": {},
     "output_type": "execute_result"
    }
   ],
   "source": [
    "transactions.dtypes"
   ]
  },
  {
   "cell_type": "code",
   "execution_count": 96,
   "id": "f2931c29-2f44-4725-882f-165a6da41329",
   "metadata": {},
   "outputs": [
    {
     "data": {
      "text/plain": [
       "(Timestamp('2015-06-01 00:00:00'), Timestamp('2016-06-01 00:00:00'))"
      ]
     },
     "execution_count": 96,
     "metadata": {},
     "output_type": "execute_result"
    }
   ],
   "source": [
    "transactions.date_new.min(), transactions.date_new.max()"
   ]
  },
  {
   "cell_type": "code",
   "execution_count": 143,
   "id": "82a024b1-2ee9-4cb5-b02f-b7f3010ee6e2",
   "metadata": {},
   "outputs": [
    {
     "data": {
      "text/plain": [
       "date_new          0\n",
       "Id_check          0\n",
       "ID_client         0\n",
       "Count_products    0\n",
       "Sum_payment       0\n",
       "month             0\n",
       "year              0\n",
       "dtype: int64"
      ]
     },
     "execution_count": 143,
     "metadata": {},
     "output_type": "execute_result"
    }
   ],
   "source": [
    "transactions.isna().sum()"
   ]
  },
  {
   "cell_type": "markdown",
   "id": "5a689bf4-487e-41aa-b776-91be2dce210b",
   "metadata": {},
   "source": [
    "### **1. Определение ключевых клиентов. Ключевые клиенты — те, кто оформлял подписку 3 и более месяцев подряд. Определите таких клиентов, посчитайте их количество, рассчитайте их долю в общей выручке и охарактеризуйте этот сегмент (возраст, пол, другие характеристики)**"
   ]
  },
  {
   "cell_type": "code",
   "execution_count": 108,
   "id": "efe05896-5cb9-494b-851c-661fda3e5272",
   "metadata": {},
   "outputs": [
    {
     "data": {
      "text/html": [
       "<div>\n",
       "<style scoped>\n",
       "    .dataframe tbody tr th:only-of-type {\n",
       "        vertical-align: middle;\n",
       "    }\n",
       "\n",
       "    .dataframe tbody tr th {\n",
       "        vertical-align: top;\n",
       "    }\n",
       "\n",
       "    .dataframe thead th {\n",
       "        text-align: right;\n",
       "    }\n",
       "</style>\n",
       "<table border=\"1\" class=\"dataframe\">\n",
       "  <thead>\n",
       "    <tr style=\"text-align: right;\">\n",
       "      <th></th>\n",
       "      <th>date_new</th>\n",
       "      <th>Id_check</th>\n",
       "      <th>ID_client</th>\n",
       "      <th>Count_products</th>\n",
       "      <th>Sum_payment</th>\n",
       "      <th>month</th>\n",
       "      <th>year</th>\n",
       "    </tr>\n",
       "  </thead>\n",
       "  <tbody>\n",
       "    <tr>\n",
       "      <th>0</th>\n",
       "      <td>2016-03-01</td>\n",
       "      <td>2271145</td>\n",
       "      <td>104027</td>\n",
       "      <td>2.034</td>\n",
       "      <td>23.31</td>\n",
       "      <td>3</td>\n",
       "      <td>2016</td>\n",
       "    </tr>\n",
       "    <tr>\n",
       "      <th>1</th>\n",
       "      <td>2016-03-01</td>\n",
       "      <td>2271145</td>\n",
       "      <td>104027</td>\n",
       "      <td>1.000</td>\n",
       "      <td>31.75</td>\n",
       "      <td>3</td>\n",
       "      <td>2016</td>\n",
       "    </tr>\n",
       "    <tr>\n",
       "      <th>2</th>\n",
       "      <td>2016-03-01</td>\n",
       "      <td>2271145</td>\n",
       "      <td>104027</td>\n",
       "      <td>1.000</td>\n",
       "      <td>6.80</td>\n",
       "      <td>3</td>\n",
       "      <td>2016</td>\n",
       "    </tr>\n",
       "  </tbody>\n",
       "</table>\n",
       "</div>"
      ],
      "text/plain": [
       "    date_new  Id_check  ID_client  Count_products  Sum_payment  month  year\n",
       "0 2016-03-01   2271145     104027           2.034        23.31      3  2016\n",
       "1 2016-03-01   2271145     104027           1.000        31.75      3  2016\n",
       "2 2016-03-01   2271145     104027           1.000         6.80      3  2016"
      ]
     },
     "execution_count": 108,
     "metadata": {},
     "output_type": "execute_result"
    }
   ],
   "source": [
    "# выделяю отдельные колонки с годом и месяцем\n",
    "transactions['month'] = transactions['date_new'].dt.month\n",
    "transactions['year'] = transactions['date_new'].dt.year\n",
    "transactions.head(3)"
   ]
  },
  {
   "cell_type": "code",
   "execution_count": 109,
   "id": "fd6429f6-2150-4ad2-8755-c9cc6037d242",
   "metadata": {},
   "outputs": [
    {
     "data": {
      "text/html": [
       "<div>\n",
       "<style scoped>\n",
       "    .dataframe tbody tr th:only-of-type {\n",
       "        vertical-align: middle;\n",
       "    }\n",
       "\n",
       "    .dataframe tbody tr th {\n",
       "        vertical-align: top;\n",
       "    }\n",
       "\n",
       "    .dataframe thead th {\n",
       "        text-align: right;\n",
       "    }\n",
       "</style>\n",
       "<table border=\"1\" class=\"dataframe\">\n",
       "  <thead>\n",
       "    <tr style=\"text-align: right;\">\n",
       "      <th></th>\n",
       "      <th>ID_client</th>\n",
       "      <th>year</th>\n",
       "      <th>month</th>\n",
       "      <th>sub_counts</th>\n",
       "    </tr>\n",
       "  </thead>\n",
       "  <tbody>\n",
       "    <tr>\n",
       "      <th>0</th>\n",
       "      <td>16052</td>\n",
       "      <td>2015</td>\n",
       "      <td>6</td>\n",
       "      <td>548</td>\n",
       "    </tr>\n",
       "    <tr>\n",
       "      <th>1</th>\n",
       "      <td>16052</td>\n",
       "      <td>2015</td>\n",
       "      <td>7</td>\n",
       "      <td>5307</td>\n",
       "    </tr>\n",
       "    <tr>\n",
       "      <th>2</th>\n",
       "      <td>16052</td>\n",
       "      <td>2015</td>\n",
       "      <td>8</td>\n",
       "      <td>6450</td>\n",
       "    </tr>\n",
       "    <tr>\n",
       "      <th>3</th>\n",
       "      <td>16052</td>\n",
       "      <td>2015</td>\n",
       "      <td>9</td>\n",
       "      <td>4673</td>\n",
       "    </tr>\n",
       "    <tr>\n",
       "      <th>4</th>\n",
       "      <td>16052</td>\n",
       "      <td>2015</td>\n",
       "      <td>10</td>\n",
       "      <td>4194</td>\n",
       "    </tr>\n",
       "    <tr>\n",
       "      <th>...</th>\n",
       "      <td>...</td>\n",
       "      <td>...</td>\n",
       "      <td>...</td>\n",
       "      <td>...</td>\n",
       "    </tr>\n",
       "    <tr>\n",
       "      <th>12716</th>\n",
       "      <td>410975</td>\n",
       "      <td>2016</td>\n",
       "      <td>6</td>\n",
       "      <td>9</td>\n",
       "    </tr>\n",
       "    <tr>\n",
       "      <th>12717</th>\n",
       "      <td>410992</td>\n",
       "      <td>2016</td>\n",
       "      <td>4</td>\n",
       "      <td>8</td>\n",
       "    </tr>\n",
       "    <tr>\n",
       "      <th>12718</th>\n",
       "      <td>431325</td>\n",
       "      <td>2016</td>\n",
       "      <td>2</td>\n",
       "      <td>5</td>\n",
       "    </tr>\n",
       "    <tr>\n",
       "      <th>12719</th>\n",
       "      <td>431325</td>\n",
       "      <td>2016</td>\n",
       "      <td>3</td>\n",
       "      <td>14</td>\n",
       "    </tr>\n",
       "    <tr>\n",
       "      <th>12720</th>\n",
       "      <td>431325</td>\n",
       "      <td>2016</td>\n",
       "      <td>5</td>\n",
       "      <td>2</td>\n",
       "    </tr>\n",
       "  </tbody>\n",
       "</table>\n",
       "<p>12721 rows × 4 columns</p>\n",
       "</div>"
      ],
      "text/plain": [
       "       ID_client  year  month  sub_counts\n",
       "0          16052  2015      6         548\n",
       "1          16052  2015      7        5307\n",
       "2          16052  2015      8        6450\n",
       "3          16052  2015      9        4673\n",
       "4          16052  2015     10        4194\n",
       "...          ...   ...    ...         ...\n",
       "12716     410975  2016      6           9\n",
       "12717     410992  2016      4           8\n",
       "12718     431325  2016      2           5\n",
       "12719     431325  2016      3          14\n",
       "12720     431325  2016      5           2\n",
       "\n",
       "[12721 rows x 4 columns]"
      ]
     },
     "execution_count": 109,
     "metadata": {},
     "output_type": "execute_result"
    }
   ],
   "source": [
    "# делаю группировку по клиент - год - месяц\n",
    "# всего 12721 уников\n",
    "key_clients = transactions.groupby(['ID_client', 'year', 'month']).size().reset_index(name='sub_counts')\n",
    "key_clients"
   ]
  },
  {
   "cell_type": "code",
   "execution_count": 110,
   "id": "4671d9ad-64fb-4112-8db3-6c3557ceb28c",
   "metadata": {},
   "outputs": [
    {
     "name": "stdout",
     "output_type": "stream",
     "text": [
      "Число ключевых клиентов: 1591\n"
     ]
    }
   ],
   "source": [
    "# 1) отбираю клиентов с 3+ месяцами подписки подряд и считаю их кол-во\n",
    "key_clients = key_clients.groupby('ID_client')['month'].count().reset_index(name='correct_months')\n",
    "key_clients = key_clients[key_clients['correct_months'] >= 3]['ID_client'].tolist()\n",
    "print(f\"Число ключевых клиентов: {len(key_clients)}\")"
   ]
  },
  {
   "cell_type": "code",
   "execution_count": 117,
   "id": "a1f4a810-1eed-49a6-b485-0f432fa029ed",
   "metadata": {},
   "outputs": [
    {
     "data": {
      "text/plain": [
       "0.13"
      ]
     },
     "execution_count": 117,
     "metadata": {},
     "output_type": "execute_result"
    }
   ],
   "source": [
    "# доля ключевых клиентов\n",
    "round(len(key_clients)/12721, 2)"
   ]
  },
  {
   "cell_type": "code",
   "execution_count": 111,
   "id": "3bd8979a-281c-4e8e-a5b7-64e57d3d637e",
   "metadata": {},
   "outputs": [
    {
     "name": "stdout",
     "output_type": "stream",
     "text": [
      "Долю клиентов с 3 и более месяцами подписки в общей выручке: 96%\n"
     ]
    }
   ],
   "source": [
    "# 2) считаю долю key_clients в общей выручке\n",
    "key_clients_money = transactions[transactions['ID_client'].isin(key_clients)]['Sum_payment'].sum()\n",
    "print(f\"Долю клиентов с 3 и более месяцами подписки в общей выручке: {round((key_clients_money / transactions['Sum_payment'].sum()) * 100)}%\")"
   ]
  },
  {
   "cell_type": "markdown",
   "id": "9bfe679f-0bdb-4049-aae9-a7f79aaa5886",
   "metadata": {},
   "source": [
    "#### **Вывод: клиенты с 3 и более месяцами подписки приносят большую часть прибыли**"
   ]
  },
  {
   "cell_type": "code",
   "execution_count": 112,
   "id": "e599285d-5560-4b41-b257-e51da49e6a0e",
   "metadata": {},
   "outputs": [
    {
     "data": {
      "text/html": [
       "<div>\n",
       "<style scoped>\n",
       "    .dataframe tbody tr th:only-of-type {\n",
       "        vertical-align: middle;\n",
       "    }\n",
       "\n",
       "    .dataframe tbody tr th {\n",
       "        vertical-align: top;\n",
       "    }\n",
       "\n",
       "    .dataframe thead th {\n",
       "        text-align: right;\n",
       "    }\n",
       "</style>\n",
       "<table border=\"1\" class=\"dataframe\">\n",
       "  <thead>\n",
       "    <tr style=\"text-align: right;\">\n",
       "      <th></th>\n",
       "      <th>Id_client</th>\n",
       "      <th>Total_amount</th>\n",
       "      <th>Gender</th>\n",
       "      <th>Age</th>\n",
       "      <th>Count_city</th>\n",
       "      <th>Response_communcation</th>\n",
       "      <th>Communication_3month</th>\n",
       "      <th>Tenure</th>\n",
       "    </tr>\n",
       "  </thead>\n",
       "  <tbody>\n",
       "    <tr>\n",
       "      <th>0</th>\n",
       "      <td>16052</td>\n",
       "      <td>1636.81</td>\n",
       "      <td>F</td>\n",
       "      <td>65.0</td>\n",
       "      <td>1</td>\n",
       "      <td>1</td>\n",
       "      <td>1</td>\n",
       "      <td>5</td>\n",
       "    </tr>\n",
       "    <tr>\n",
       "      <th>3</th>\n",
       "      <td>33297</td>\n",
       "      <td>9755.31</td>\n",
       "      <td>F</td>\n",
       "      <td>32.0</td>\n",
       "      <td>1</td>\n",
       "      <td>0</td>\n",
       "      <td>1</td>\n",
       "      <td>12</td>\n",
       "    </tr>\n",
       "    <tr>\n",
       "      <th>5</th>\n",
       "      <td>43063</td>\n",
       "      <td>2838.66</td>\n",
       "      <td>M</td>\n",
       "      <td>28.0</td>\n",
       "      <td>1</td>\n",
       "      <td>0</td>\n",
       "      <td>1</td>\n",
       "      <td>9</td>\n",
       "    </tr>\n",
       "    <tr>\n",
       "      <th>6</th>\n",
       "      <td>56311</td>\n",
       "      <td>2434.96</td>\n",
       "      <td>F</td>\n",
       "      <td>48.0</td>\n",
       "      <td>1</td>\n",
       "      <td>1</td>\n",
       "      <td>1</td>\n",
       "      <td>11</td>\n",
       "    </tr>\n",
       "    <tr>\n",
       "      <th>9</th>\n",
       "      <td>112005</td>\n",
       "      <td>1743.74</td>\n",
       "      <td>F</td>\n",
       "      <td>40.0</td>\n",
       "      <td>1</td>\n",
       "      <td>1</td>\n",
       "      <td>1</td>\n",
       "      <td>6</td>\n",
       "    </tr>\n",
       "    <tr>\n",
       "      <th>...</th>\n",
       "      <td>...</td>\n",
       "      <td>...</td>\n",
       "      <td>...</td>\n",
       "      <td>...</td>\n",
       "      <td>...</td>\n",
       "      <td>...</td>\n",
       "      <td>...</td>\n",
       "      <td>...</td>\n",
       "    </tr>\n",
       "    <tr>\n",
       "      <th>2418</th>\n",
       "      <td>410793</td>\n",
       "      <td>2959.00</td>\n",
       "      <td>F</td>\n",
       "      <td>32.0</td>\n",
       "      <td>1</td>\n",
       "      <td>1</td>\n",
       "      <td>1</td>\n",
       "      <td>6</td>\n",
       "    </tr>\n",
       "    <tr>\n",
       "      <th>2423</th>\n",
       "      <td>410920</td>\n",
       "      <td>2524.42</td>\n",
       "      <td>F</td>\n",
       "      <td>26.0</td>\n",
       "      <td>2</td>\n",
       "      <td>1</td>\n",
       "      <td>1</td>\n",
       "      <td>3</td>\n",
       "    </tr>\n",
       "    <tr>\n",
       "      <th>2424</th>\n",
       "      <td>410941</td>\n",
       "      <td>4244.38</td>\n",
       "      <td>M</td>\n",
       "      <td>19.0</td>\n",
       "      <td>1</td>\n",
       "      <td>1</td>\n",
       "      <td>1</td>\n",
       "      <td>6</td>\n",
       "    </tr>\n",
       "    <tr>\n",
       "      <th>2426</th>\n",
       "      <td>410975</td>\n",
       "      <td>3625.07</td>\n",
       "      <td>F</td>\n",
       "      <td>28.0</td>\n",
       "      <td>1</td>\n",
       "      <td>1</td>\n",
       "      <td>1</td>\n",
       "      <td>7</td>\n",
       "    </tr>\n",
       "    <tr>\n",
       "      <th>2428</th>\n",
       "      <td>431325</td>\n",
       "      <td>3293.59</td>\n",
       "      <td>F</td>\n",
       "      <td>58.0</td>\n",
       "      <td>1</td>\n",
       "      <td>0</td>\n",
       "      <td>1</td>\n",
       "      <td>7</td>\n",
       "    </tr>\n",
       "  </tbody>\n",
       "</table>\n",
       "<p>1591 rows × 8 columns</p>\n",
       "</div>"
      ],
      "text/plain": [
       "      Id_client  Total_amount Gender   Age  Count_city  Response_communcation  \\\n",
       "0         16052       1636.81      F  65.0           1                      1   \n",
       "3         33297       9755.31      F  32.0           1                      0   \n",
       "5         43063       2838.66      M  28.0           1                      0   \n",
       "6         56311       2434.96      F  48.0           1                      1   \n",
       "9        112005       1743.74      F  40.0           1                      1   \n",
       "...         ...           ...    ...   ...         ...                    ...   \n",
       "2418     410793       2959.00      F  32.0           1                      1   \n",
       "2423     410920       2524.42      F  26.0           2                      1   \n",
       "2424     410941       4244.38      M  19.0           1                      1   \n",
       "2426     410975       3625.07      F  28.0           1                      1   \n",
       "2428     431325       3293.59      F  58.0           1                      0   \n",
       "\n",
       "      Communication_3month  Tenure  \n",
       "0                        1       5  \n",
       "3                        1      12  \n",
       "5                        1       9  \n",
       "6                        1      11  \n",
       "9                        1       6  \n",
       "...                    ...     ...  \n",
       "2418                     1       6  \n",
       "2423                     1       3  \n",
       "2424                     1       6  \n",
       "2426                     1       7  \n",
       "2428                     1       7  \n",
       "\n",
       "[1591 rows x 8 columns]"
      ]
     },
     "execution_count": 112,
     "metadata": {},
     "output_type": "execute_result"
    }
   ],
   "source": [
    "# вывожу инфу о ключевых клиентов в табличке customers\n",
    "key_customers = customers[customers['Id_client'].isin(key_clients)]\n",
    "key_customers"
   ]
  },
  {
   "cell_type": "code",
   "execution_count": 139,
   "id": "08616f86-bc45-4076-a5f1-2981e3671ba5",
   "metadata": {},
   "outputs": [
    {
     "data": {
      "application/vnd.plotly.v1+json": {
       "config": {
        "plotlyServerURL": "https://plot.ly"
       },
       "data": [
        {
         "marker": {
          "color": [
           "blue",
           "pink"
          ]
         },
         "name": "Пол",
         "type": "bar",
         "x": [
          "F",
          "M"
         ],
         "xaxis": "x",
         "y": [
          67.8,
          32.2
         ],
         "yaxis": "y"
        },
        {
         "marker": {
          "color": "salmon"
         },
         "name": "Возраст женщин",
         "nbinsx": 20,
         "type": "histogram",
         "x": [
          65,
          32,
          48,
          40,
          58,
          32,
          45,
          42,
          50,
          43,
          78,
          56,
          22,
          19,
          51,
          23,
          38,
          20,
          20,
          28,
          27,
          33,
          29,
          45,
          73,
          26,
          28,
          39,
          23,
          57,
          33,
          57,
          33,
          42,
          17,
          38,
          54,
          18,
          36,
          36,
          37,
          28,
          46,
          27,
          79,
          24,
          55,
          27,
          39,
          35,
          78,
          22,
          18,
          15,
          24,
          23,
          57,
          42,
          25,
          29,
          40,
          24,
          34,
          39,
          23,
          34,
          37,
          25,
          57,
          38,
          31,
          38,
          47,
          27,
          28,
          36,
          15,
          49,
          24,
          49,
          22,
          20,
          46,
          25,
          25,
          36,
          18,
          36,
          28,
          34,
          55,
          24,
          34,
          20,
          59,
          59,
          32,
          27,
          51,
          51,
          53,
          19,
          61,
          39,
          25,
          28,
          65,
          64,
          43,
          50,
          28,
          28,
          35,
          36,
          32,
          35,
          40,
          59,
          52,
          38,
          66,
          63,
          40,
          23,
          79,
          17,
          53,
          58,
          21,
          21,
          45,
          35,
          36,
          41,
          29,
          34,
          48,
          39,
          32,
          24,
          39,
          25,
          27,
          34,
          54,
          43,
          28,
          22,
          42,
          77,
          55,
          67,
          60,
          38,
          27,
          38,
          26,
          22,
          32,
          43,
          25,
          27,
          47,
          40,
          50,
          23,
          41,
          34,
          19,
          42,
          19,
          42,
          23,
          19,
          24,
          42,
          25,
          44,
          21,
          19,
          37,
          51,
          73,
          45,
          28,
          65,
          32,
          47,
          61,
          42,
          40,
          68,
          20,
          75,
          33,
          68,
          37,
          63,
          17,
          31,
          48,
          51,
          42,
          22,
          23,
          55,
          41,
          46,
          50,
          39,
          48,
          24,
          53,
          48,
          25,
          31,
          33,
          33,
          59,
          38,
          33,
          26,
          37,
          40,
          39,
          24,
          32,
          26,
          37,
          68,
          27,
          37,
          61,
          21,
          25,
          53,
          78,
          41,
          57,
          38,
          70,
          47,
          38,
          51,
          28,
          25,
          64,
          28,
          21,
          40,
          32,
          63,
          47,
          60,
          58,
          56,
          49,
          42,
          24,
          45,
          23,
          32,
          33,
          22,
          72,
          34,
          54,
          33,
          67,
          57,
          33,
          25,
          57,
          57,
          47,
          34,
          59,
          28,
          58,
          26,
          48,
          26,
          61,
          52,
          48,
          64,
          42,
          51,
          19,
          21,
          23,
          29,
          33,
          50,
          56,
          36,
          67,
          50,
          24,
          40,
          36,
          61,
          45,
          31,
          42,
          35,
          53,
          43,
          65,
          33,
          55,
          76,
          40,
          43,
          41,
          33,
          41,
          71,
          36,
          25,
          20,
          28,
          24,
          36,
          72,
          35,
          21,
          11,
          39,
          77,
          29,
          22,
          29,
          64,
          35,
          44,
          64,
          27,
          42,
          38,
          55,
          21,
          35,
          32,
          31,
          60,
          16,
          67,
          38,
          21,
          29,
          67,
          72,
          47,
          63,
          72,
          23,
          49,
          31,
          37,
          66,
          41,
          54,
          43,
          38,
          34,
          24,
          69,
          43,
          18,
          59,
          61,
          88,
          23,
          67,
          60,
          38,
          39,
          16,
          65,
          60,
          64,
          72,
          73,
          25,
          45,
          39,
          52,
          22,
          24,
          27,
          56,
          64,
          57,
          27,
          17,
          26,
          58,
          63,
          26,
          66,
          29,
          30,
          28,
          54,
          35,
          66,
          70,
          52,
          47,
          39,
          26,
          26,
          47,
          21,
          49,
          60,
          73,
          51,
          35,
          32,
          22,
          47,
          77,
          20,
          77,
          77,
          46,
          76,
          30,
          53,
          41,
          20,
          18,
          65,
          32,
          29,
          41,
          78,
          23,
          36,
          19,
          36,
          53,
          31,
          34,
          25,
          25,
          43,
          44,
          28,
          37,
          29,
          55,
          68,
          31,
          32,
          58,
          68,
          49,
          52,
          51,
          66,
          42,
          33,
          33,
          28,
          32,
          43,
          42,
          52,
          44,
          60,
          51,
          52,
          61,
          41,
          61,
          47,
          81,
          34,
          32,
          78,
          55,
          34,
          74,
          41,
          43,
          47,
          50,
          30,
          54,
          60,
          53,
          44,
          64,
          30,
          32,
          50,
          42,
          53,
          19,
          18,
          38,
          60,
          61,
          66,
          50,
          33,
          36,
          48,
          37,
          54,
          21,
          32,
          59,
          53,
          61,
          55,
          61,
          26,
          38,
          26,
          24,
          41,
          1,
          66,
          31,
          65,
          39,
          48,
          53,
          59,
          71,
          55,
          57,
          45,
          63,
          43,
          47,
          41,
          24,
          45,
          52,
          62,
          57,
          29,
          23,
          57,
          56,
          29,
          61,
          29,
          29,
          32,
          23,
          51,
          39,
          40,
          56,
          72,
          32,
          46,
          75,
          48,
          20,
          48,
          33,
          23,
          52,
          41,
          58,
          38,
          33,
          40,
          67,
          72,
          49,
          51,
          60,
          43,
          67,
          35,
          63,
          37,
          44,
          64,
          60,
          33,
          58,
          59,
          33,
          38,
          67,
          54,
          50,
          54,
          66,
          38,
          32,
          39,
          63,
          64,
          37,
          26,
          44,
          40,
          54,
          58,
          44,
          42,
          22,
          27,
          26,
          27,
          22,
          20,
          30,
          20,
          20,
          33,
          48,
          61,
          41,
          32,
          54,
          56,
          23,
          36,
          45,
          45,
          20,
          47,
          28,
          22,
          51,
          46,
          42,
          62,
          28,
          36,
          39,
          26,
          31,
          46,
          44,
          54,
          38,
          52,
          64,
          52,
          31,
          42,
          54,
          79,
          56,
          18,
          28,
          28,
          55,
          56,
          29,
          26,
          61,
          27,
          15,
          37,
          58,
          63,
          58,
          40,
          65,
          27,
          69,
          57,
          70,
          40,
          17,
          47,
          50,
          23,
          66,
          27,
          74,
          30,
          73,
          43,
          66,
          66,
          78,
          30,
          63,
          47,
          18,
          23,
          65,
          26,
          1,
          37,
          21,
          26,
          22,
          29,
          67,
          34,
          56,
          19,
          58,
          37,
          34,
          51,
          52,
          26,
          72,
          35,
          71,
          58,
          67,
          38,
          18,
          53,
          43,
          53,
          40,
          55,
          46,
          65,
          41,
          34,
          56,
          49,
          46,
          35,
          22,
          42,
          61,
          24,
          53,
          40,
          55,
          39,
          23,
          44,
          26,
          68,
          35,
          42,
          21,
          55,
          50,
          77,
          61,
          68,
          24,
          32,
          29,
          39,
          63,
          51,
          43,
          19,
          31,
          33,
          30,
          25,
          61,
          28,
          35,
          37,
          29,
          52,
          41,
          29,
          55,
          1,
          55,
          32,
          42,
          25,
          49,
          35,
          51,
          30,
          51,
          44,
          60,
          63,
          41,
          44,
          35,
          19,
          25,
          35,
          26,
          25,
          66,
          30,
          70,
          47,
          73,
          44,
          31,
          57,
          47,
          41,
          30,
          37,
          32,
          46,
          35,
          42,
          26,
          16,
          44,
          66,
          57,
          49,
          41,
          53,
          36,
          66,
          35,
          17,
          50,
          30,
          32,
          22,
          56,
          65,
          24,
          79,
          74,
          28,
          51,
          46,
          30,
          41,
          30,
          25,
          63,
          52,
          42,
          68,
          28,
          54,
          25,
          45,
          57,
          67,
          71,
          40,
          66,
          50,
          57,
          32,
          52,
          38,
          28,
          62,
          41,
          58,
          24,
          32,
          63,
          53,
          31,
          47,
          26,
          35,
          42,
          61,
          59,
          63,
          39,
          64,
          50,
          64,
          52,
          18,
          37,
          24,
          24,
          40,
          22,
          66,
          25,
          56,
          24,
          50,
          62,
          58,
          30,
          39,
          65,
          31,
          28,
          59,
          25,
          41,
          53,
          34,
          36,
          61,
          47,
          46,
          54,
          41,
          59,
          34,
          50,
          26,
          30,
          34,
          56,
          35,
          56,
          30,
          28,
          33,
          42,
          56,
          59,
          33,
          53,
          29,
          18,
          34,
          30,
          35,
          21,
          58,
          73,
          44,
          28,
          57,
          42,
          52,
          39,
          40,
          28,
          32,
          71,
          20,
          77,
          26,
          66,
          44,
          58,
          37,
          55,
          61,
          59,
          69,
          39,
          36,
          26,
          55,
          36,
          51,
          40,
          59,
          37,
          23,
          35,
          68,
          28,
          25,
          83,
          49,
          52,
          48,
          38,
          33,
          51,
          28,
          58,
          56,
          36,
          37,
          43,
          57,
          51,
          49,
          31,
          65,
          38,
          41,
          58,
          60,
          54,
          54,
          61,
          56,
          69,
          22,
          53,
          41,
          47,
          25,
          48,
          40,
          33,
          72,
          49,
          26,
          27,
          23,
          33,
          20,
          45,
          35,
          55,
          19,
          67,
          20,
          61,
          36,
          30,
          43,
          20,
          48,
          27,
          36,
          30,
          24,
          59,
          25,
          56,
          39,
          35,
          31,
          27,
          51,
          57,
          61,
          73,
          34,
          51,
          25,
          50,
          28,
          23,
          76,
          32,
          26,
          28,
          58
         ],
         "xaxis": "x2",
         "yaxis": "y2"
        },
        {
         "marker": {
          "color": "orange"
         },
         "name": "Возраст мужчин",
         "nbinsx": 20,
         "type": "histogram",
         "x": [
          28,
          47,
          28,
          42,
          35,
          24,
          18,
          40,
          18,
          26,
          43,
          85,
          34,
          63,
          32,
          65,
          43,
          39,
          67,
          36,
          50,
          37,
          25,
          33,
          19,
          37,
          1,
          25,
          53,
          19,
          25,
          23,
          21,
          1,
          19,
          50,
          43,
          29,
          62,
          35,
          31,
          25,
          27,
          36,
          23,
          26,
          27,
          31,
          25,
          26,
          25,
          30,
          55,
          60,
          1,
          37,
          68,
          21,
          28,
          32,
          29,
          23,
          29,
          20,
          24,
          38,
          51,
          56,
          30,
          54,
          29,
          38,
          49,
          23,
          23,
          29,
          32,
          26,
          29,
          25,
          33,
          23,
          39,
          21,
          43,
          31,
          40,
          63,
          55,
          44,
          61,
          33,
          47,
          21,
          30,
          60,
          29,
          15,
          48,
          23,
          70,
          64,
          38,
          26,
          55,
          29,
          45,
          28,
          26,
          22,
          22,
          32,
          26,
          37,
          8,
          21,
          39,
          28,
          31,
          39,
          22,
          28,
          24,
          62,
          66,
          55,
          23,
          59,
          46,
          19,
          21,
          34,
          23,
          32,
          33,
          29,
          42,
          46,
          32,
          38,
          51,
          48,
          38,
          34,
          57,
          29,
          65,
          32,
          66,
          25,
          32,
          46,
          45,
          52,
          33,
          54,
          58,
          23,
          32,
          32,
          29,
          36,
          28,
          33,
          31,
          27,
          25,
          31,
          36,
          29,
          27,
          18,
          21,
          17,
          28,
          67,
          29,
          29,
          36,
          19,
          53,
          38,
          29,
          24,
          33,
          37,
          23,
          74,
          31,
          40,
          20,
          48,
          26,
          35,
          37,
          25,
          21,
          31,
          43,
          32,
          23,
          21,
          39,
          48,
          50,
          31,
          52,
          45,
          38,
          54,
          65,
          22,
          69,
          35,
          44,
          43,
          62,
          28,
          35,
          26,
          44,
          68,
          22,
          32,
          48,
          35,
          40,
          35,
          37,
          37,
          22,
          24,
          52,
          48,
          42,
          24,
          29,
          48,
          66,
          53,
          51,
          29,
          26,
          29,
          30,
          53,
          55,
          24,
          45,
          44,
          49,
          38,
          47,
          36,
          57,
          56,
          47,
          40,
          45,
          65,
          71,
          40,
          33,
          38,
          41,
          33,
          38,
          27,
          11,
          43,
          48,
          31,
          33,
          45,
          27,
          28,
          18,
          22,
          19,
          56,
          31,
          37,
          23,
          47,
          33,
          25,
          40,
          19,
          37,
          57,
          21,
          42,
          25,
          46,
          43,
          27,
          29,
          43,
          45,
          30,
          34,
          63,
          53,
          30,
          28,
          31,
          22,
          22,
          46,
          34,
          20,
          42,
          39,
          59,
          66,
          35,
          27,
          26,
          25,
          49,
          42,
          31,
          71,
          56,
          31,
          48,
          41,
          65,
          53,
          41,
          33,
          38,
          45,
          33,
          56,
          47,
          57,
          30,
          47,
          20,
          52,
          55,
          43,
          27,
          32,
          36,
          22,
          46,
          33,
          55,
          20,
          39,
          28,
          27,
          30,
          41,
          46,
          24,
          23,
          55,
          37,
          33,
          33,
          44,
          39,
          65,
          42,
          58,
          50,
          39,
          55,
          43,
          36,
          31,
          47,
          54,
          38,
          64,
          58,
          21,
          46,
          32,
          54,
          49,
          62,
          26,
          60,
          26,
          24,
          45,
          72,
          40,
          33,
          55,
          20,
          36,
          24,
          53,
          42,
          71,
          52,
          57,
          37,
          34,
          30,
          47,
          83,
          22,
          28,
          16,
          27,
          24,
          26,
          34,
          49,
          36,
          41,
          31,
          47,
          51,
          52,
          36,
          37,
          31,
          38,
          45,
          36,
          56,
          35,
          40,
          36,
          34,
          47,
          29,
          23,
          24,
          53,
          23,
          39,
          30,
          30,
          30,
          45,
          32,
          47,
          57,
          52,
          44,
          35,
          58,
          19,
          24,
          67,
          30,
          25,
          50,
          32,
          65,
          50,
          25,
          36,
          57,
          33,
          36,
          23,
          59,
          43,
          53,
          29,
          42,
          45,
          20,
          23,
          24,
          44,
          41,
          55,
          58,
          21,
          41,
          32,
          29,
          44,
          68,
          27,
          53,
          63,
          42,
          29,
          21,
          30,
          29,
          39,
          38,
          17,
          21,
          19
         ],
         "xaxis": "x3",
         "yaxis": "y3"
        },
        {
         "marker": {
          "color": "lightgreen"
         },
         "name": "Стаж",
         "type": "box",
         "xaxis": "x4",
         "y": [
          5,
          12,
          9,
          11,
          6,
          12,
          9,
          4,
          12,
          12,
          4,
          10,
          10,
          3,
          7,
          12,
          6,
          10,
          11,
          12,
          9,
          10,
          11,
          11,
          5,
          4,
          9,
          7,
          12,
          10,
          10,
          11,
          10,
          12,
          12,
          9,
          10,
          5,
          11,
          12,
          12,
          10,
          12,
          5,
          8,
          7,
          12,
          10,
          11,
          10,
          5,
          9,
          8,
          9,
          11,
          12,
          11,
          9,
          11,
          10,
          9,
          5,
          9,
          10,
          11,
          5,
          8,
          10,
          6,
          11,
          9,
          12,
          11,
          8,
          11,
          10,
          11,
          11,
          10,
          8,
          12,
          10,
          12,
          11,
          6,
          12,
          12,
          10,
          12,
          12,
          11,
          5,
          11,
          11,
          11,
          11,
          8,
          11,
          9,
          6,
          5,
          12,
          12,
          8,
          12,
          11,
          11,
          12,
          4,
          9,
          6,
          6,
          12,
          7,
          12,
          11,
          4,
          9,
          9,
          11,
          9,
          10,
          8,
          9,
          11,
          12,
          9,
          9,
          11,
          12,
          8,
          12,
          8,
          6,
          12,
          12,
          6,
          7,
          6,
          8,
          11,
          2,
          9,
          12,
          12,
          10,
          11,
          7,
          3,
          9,
          8,
          11,
          8,
          6,
          10,
          10,
          7,
          3,
          9,
          5,
          10,
          9,
          10,
          10,
          5,
          10,
          9,
          11,
          12,
          2,
          9,
          11,
          11,
          12,
          9,
          9,
          12,
          10,
          8,
          7,
          6,
          9,
          9,
          8,
          9,
          9,
          8,
          8,
          2,
          2,
          7,
          6,
          6,
          9,
          11,
          10,
          7,
          12,
          8,
          5,
          7,
          4,
          5,
          6,
          6,
          4,
          7,
          5,
          7,
          9,
          3,
          6,
          5,
          12,
          11,
          8,
          2,
          9,
          10,
          7,
          12,
          8,
          12,
          7,
          9,
          7,
          5,
          8,
          8,
          7,
          9,
          9,
          4,
          8,
          7,
          4,
          6,
          5,
          5,
          7,
          3,
          9,
          9,
          8,
          7,
          8,
          8,
          4,
          8,
          6,
          5,
          11,
          11,
          9,
          3,
          8,
          8,
          8,
          3,
          9,
          7,
          4,
          5,
          9,
          8,
          10,
          9,
          7,
          7,
          10,
          7,
          5,
          5,
          3,
          9,
          9,
          4,
          12,
          12,
          9,
          10,
          10,
          8,
          10,
          12,
          8,
          12,
          6,
          12,
          9,
          10,
          8,
          10,
          11,
          6,
          6,
          12,
          12,
          10,
          11,
          11,
          9,
          7,
          8,
          9,
          11,
          8,
          7,
          12,
          2,
          12,
          10,
          12,
          8,
          12,
          8,
          6,
          4,
          12,
          10,
          12,
          12,
          3,
          12,
          7,
          10,
          9,
          12,
          9,
          5,
          10,
          7,
          7,
          9,
          7,
          11,
          12,
          12,
          8,
          10,
          8,
          9,
          12,
          9,
          8,
          11,
          12,
          12,
          11,
          10,
          8,
          12,
          7,
          10,
          8,
          12,
          12,
          9,
          9,
          12,
          11,
          12,
          4,
          8,
          7,
          9,
          12,
          12,
          8,
          7,
          12,
          9,
          5,
          7,
          5,
          11,
          6,
          12,
          10,
          11,
          11,
          12,
          12,
          10,
          12,
          12,
          11,
          10,
          10,
          8,
          11,
          7,
          12,
          10,
          10,
          9,
          12,
          10,
          9,
          5,
          9,
          9,
          5,
          11,
          9,
          5,
          12,
          12,
          10,
          8,
          12,
          7,
          8,
          11,
          9,
          8,
          9,
          12,
          10,
          11,
          3,
          3,
          12,
          7,
          11,
          11,
          4,
          9,
          9,
          8,
          12,
          9,
          4,
          9,
          7,
          12,
          9,
          9,
          10,
          10,
          12,
          8,
          6,
          10,
          9,
          10,
          9,
          4,
          5,
          11,
          12,
          12,
          11,
          8,
          12,
          11,
          12,
          11,
          12,
          12,
          12,
          11,
          3,
          12,
          12,
          12,
          7,
          9,
          9,
          12,
          9,
          7,
          5,
          9,
          8,
          7,
          4,
          12,
          12,
          10,
          12,
          12,
          12,
          12,
          7,
          12,
          10,
          12,
          9,
          11,
          7,
          12,
          12,
          10,
          6,
          12,
          6,
          9,
          7,
          11,
          5,
          11,
          10,
          12,
          11,
          5,
          6,
          11,
          12,
          11,
          12,
          10,
          5,
          7,
          11,
          9,
          11,
          11,
          12,
          11,
          8,
          11,
          8,
          5,
          6,
          8,
          12,
          12,
          12,
          11,
          11,
          12,
          5,
          11,
          8,
          12,
          9,
          12,
          4,
          11,
          5,
          12,
          12,
          12,
          12,
          12,
          7,
          11,
          12,
          11,
          8,
          9,
          11,
          12,
          9,
          10,
          10,
          7,
          11,
          7,
          9,
          10,
          10,
          11,
          12,
          11,
          6,
          12,
          5,
          12,
          11,
          5,
          6,
          12,
          4,
          9,
          11,
          12,
          12,
          9,
          12,
          7,
          12,
          6,
          12,
          7,
          10,
          12,
          11,
          4,
          7,
          11,
          12,
          7,
          9,
          12,
          7,
          11,
          12,
          12,
          12,
          12,
          4,
          9,
          9,
          8,
          8,
          12,
          8,
          12,
          3,
          5,
          12,
          12,
          6,
          11,
          7,
          11,
          11,
          12,
          12,
          11,
          12,
          5,
          10,
          10,
          6,
          12,
          5,
          5,
          12,
          10,
          12,
          10,
          11,
          12,
          10,
          10,
          12,
          7,
          3,
          7,
          12,
          11,
          11,
          12,
          12,
          12,
          10,
          6,
          12,
          12,
          12,
          12,
          5,
          12,
          12,
          10,
          11,
          9,
          5,
          5,
          12,
          6,
          12,
          10,
          5,
          12,
          11,
          12,
          12,
          11,
          6,
          10,
          10,
          9,
          11,
          12,
          12,
          8,
          8,
          7,
          7,
          9,
          10,
          10,
          11,
          10,
          8,
          12,
          7,
          8,
          9,
          11,
          12,
          10,
          7,
          6,
          8,
          8,
          9,
          6,
          4,
          11,
          10,
          12,
          5,
          12,
          7,
          11,
          11,
          12,
          10,
          12,
          8,
          11,
          9,
          6,
          12,
          7,
          10,
          9,
          10,
          10,
          12,
          9,
          11,
          11,
          6,
          5,
          11,
          9,
          11,
          12,
          11,
          9,
          9,
          5,
          6,
          11,
          6,
          10,
          9,
          9,
          12,
          9,
          3,
          12,
          10,
          11,
          12,
          7,
          9,
          5,
          7,
          12,
          10,
          11,
          11,
          9,
          8,
          7,
          12,
          6,
          12,
          12,
          12,
          9,
          7,
          12,
          5,
          11,
          11,
          12,
          9,
          11,
          12,
          7,
          8,
          12,
          12,
          6,
          6,
          12,
          9,
          10,
          12,
          12,
          10,
          7,
          12,
          12,
          10,
          12,
          11,
          12,
          4,
          9,
          12,
          12,
          12,
          8,
          8,
          11,
          7,
          12,
          11,
          11,
          11,
          9,
          11,
          9,
          3,
          9,
          7,
          11,
          12,
          12,
          6,
          2,
          11,
          7,
          11,
          10,
          8,
          6,
          10,
          12,
          12,
          3,
          9,
          11,
          11,
          12,
          6,
          5,
          9,
          11,
          8,
          4,
          10,
          10,
          10,
          5,
          8,
          10,
          8,
          2,
          12,
          6,
          8,
          11,
          10,
          9,
          11,
          8,
          8,
          9,
          8,
          9,
          12,
          10,
          8,
          11,
          8,
          7,
          10,
          12,
          6,
          6,
          8,
          8,
          11,
          11,
          11,
          4,
          10,
          10,
          10,
          11,
          5,
          11,
          12,
          12,
          11,
          8,
          5,
          9,
          9,
          8,
          8,
          8,
          6,
          6,
          4,
          9,
          11,
          10,
          5,
          9,
          8,
          9,
          12,
          8,
          8,
          8,
          11,
          10,
          11,
          11,
          10,
          8,
          3,
          11,
          8,
          9,
          11,
          11,
          6,
          11,
          8,
          12,
          4,
          8,
          8,
          8,
          7,
          11,
          8,
          11,
          6,
          12,
          7,
          3,
          6,
          11,
          6,
          8,
          11,
          11,
          11,
          11,
          10,
          11,
          11,
          7,
          5,
          10,
          8,
          11,
          6,
          8,
          8,
          9,
          9,
          11,
          11,
          10,
          10,
          10,
          11,
          11,
          8,
          5,
          9,
          9,
          7,
          7,
          7,
          7,
          10,
          11,
          10,
          5,
          10,
          10,
          8,
          7,
          7,
          9,
          10,
          8,
          11,
          12,
          10,
          9,
          11,
          8,
          7,
          9,
          11,
          8,
          11,
          6,
          8,
          9,
          11,
          11,
          8,
          9,
          12,
          10,
          10,
          11,
          11,
          11,
          5,
          8,
          11,
          10,
          10,
          10,
          11,
          5,
          8,
          11,
          11,
          11,
          6,
          9,
          11,
          6,
          9,
          8,
          10,
          11,
          7,
          10,
          11,
          11,
          11,
          11,
          8,
          11,
          9,
          9,
          11,
          10,
          11,
          10,
          11,
          12,
          9,
          5,
          11,
          8,
          11,
          6,
          11,
          4,
          9,
          6,
          10,
          7,
          9,
          10,
          10,
          7,
          10,
          7,
          11,
          10,
          9,
          8,
          11,
          11,
          10,
          11,
          9,
          3,
          8,
          6,
          5,
          11,
          8,
          9,
          10,
          11,
          3,
          11,
          11,
          11,
          10,
          7,
          8,
          5,
          11,
          7,
          11,
          11,
          9,
          9,
          11,
          8,
          10,
          11,
          11,
          11,
          11,
          8,
          11,
          11,
          11,
          11,
          11,
          11,
          11,
          10,
          10,
          11,
          11,
          12,
          10,
          8,
          10,
          11,
          10,
          10,
          6,
          9,
          8,
          6,
          11,
          11,
          10,
          9,
          10,
          6,
          8,
          11,
          7,
          8,
          7,
          10,
          11,
          5,
          11,
          11,
          11,
          9,
          11,
          8,
          5,
          11,
          11,
          11,
          8,
          11,
          12,
          10,
          11,
          8,
          11,
          7,
          10,
          9,
          6,
          10,
          7,
          10,
          12,
          9,
          10,
          11,
          6,
          4,
          9,
          9,
          6,
          12,
          9,
          6,
          10,
          11,
          7,
          7,
          10,
          11,
          11,
          10,
          11,
          9,
          9,
          11,
          6,
          3,
          6,
          7,
          10,
          9,
          10,
          6,
          8,
          11,
          7,
          9,
          11,
          10,
          6,
          10,
          9,
          10,
          10,
          10,
          11,
          4,
          9,
          11,
          8,
          12,
          11,
          10,
          11,
          9,
          9,
          9,
          7,
          7,
          10,
          9,
          7,
          10,
          8,
          8,
          10,
          8,
          10,
          10,
          6,
          6,
          9,
          4,
          10,
          10,
          8,
          11,
          7,
          5,
          6,
          10,
          3,
          9,
          9,
          10,
          8,
          10,
          10,
          5,
          9,
          9,
          10,
          10,
          5,
          10,
          8,
          10,
          10,
          8,
          8,
          11,
          8,
          8,
          9,
          8,
          10,
          8,
          9,
          10,
          10,
          10,
          10,
          7,
          10,
          7,
          10,
          9,
          6,
          9,
          5,
          4,
          9,
          10,
          8,
          10,
          10,
          6,
          6,
          10,
          9,
          10,
          6,
          6,
          5,
          8,
          9,
          5,
          8,
          8,
          6,
          6,
          10,
          4,
          7,
          6,
          6,
          9,
          6,
          4,
          7,
          10,
          8,
          9,
          7,
          10,
          5,
          9,
          9,
          9,
          7,
          9,
          8,
          9,
          7,
          8,
          9,
          7,
          7,
          8,
          5,
          7,
          10,
          5,
          8,
          10,
          8,
          10,
          7,
          8,
          8,
          9,
          9,
          6,
          8,
          8,
          4,
          7,
          9,
          9,
          9,
          9,
          6,
          11,
          10,
          8,
          4,
          9,
          4,
          10,
          8,
          8,
          10,
          8,
          9,
          9,
          9,
          7,
          9,
          12,
          10,
          9,
          6,
          8,
          7,
          9,
          4,
          9,
          9,
          10,
          9,
          8,
          8,
          9,
          9,
          9,
          9,
          9,
          10,
          4,
          8,
          9,
          3,
          5,
          9,
          8,
          4,
          9,
          9,
          9,
          9,
          11,
          12,
          3,
          6,
          8,
          4,
          6,
          2,
          6,
          6,
          9,
          10,
          8,
          5,
          10,
          10,
          10,
          9,
          9,
          4,
          8,
          9,
          7,
          5,
          9,
          9,
          5,
          8,
          9,
          9,
          6,
          6,
          7,
          9,
          4,
          7,
          5,
          7,
          10,
          9,
          9,
          4,
          9,
          9,
          5,
          6,
          9,
          11,
          6,
          6,
          9,
          9,
          8,
          9,
          8,
          7,
          8,
          6,
          8,
          7,
          8,
          9,
          6,
          2,
          9,
          5,
          7,
          6,
          6,
          4,
          7,
          4,
          7,
          5,
          6,
          6,
          7,
          5,
          7,
          7,
          4,
          7,
          2,
          6,
          7,
          5,
          7,
          7,
          7,
          7,
          6,
          4,
          7,
          5,
          7,
          7,
          4,
          9,
          7,
          6,
          5,
          2,
          7,
          7,
          6,
          7,
          7,
          6,
          6,
          4,
          6,
          5,
          7,
          7,
          7,
          11,
          5,
          4,
          6,
          7,
          5,
          6,
          5,
          7,
          6,
          7,
          7,
          7,
          6,
          6,
          6,
          7,
          2,
          5,
          3,
          2,
          7,
          7,
          4,
          5,
          6,
          6,
          7,
          6,
          5,
          7,
          7,
          5,
          5,
          6,
          4,
          7,
          7,
          7,
          7,
          4,
          5,
          6,
          6,
          5,
          7,
          5,
          6,
          5,
          7,
          7,
          6,
          11,
          7,
          7,
          2,
          5,
          4,
          7,
          7,
          5,
          7,
          3,
          5,
          6,
          6,
          5,
          7,
          9,
          8,
          3,
          5,
          6,
          3,
          6,
          7,
          7
         ],
         "yaxis": "y4"
        },
        {
         "marker": {
          "color": "gold"
         },
         "name": "Города",
         "type": "bar",
         "x": [
          "1",
          "2",
          "3"
         ],
         "xaxis": "x5",
         "y": [
          1483,
          102,
          6
         ],
         "yaxis": "y5"
        },
        {
         "marker": {
          "color": "purple"
         },
         "name": "Реакции на коммуникации",
         "nbinsx": 3,
         "type": "histogram",
         "x": [
          1,
          0,
          0,
          1,
          1,
          1,
          1,
          1,
          0,
          0,
          0,
          0,
          0,
          1,
          0,
          1,
          0,
          1,
          1,
          1,
          0,
          1,
          1,
          1,
          1,
          1,
          1,
          1,
          1,
          0,
          1,
          1,
          1,
          0,
          1,
          1,
          0,
          0,
          1,
          1,
          0,
          1,
          1,
          1,
          1,
          1,
          1,
          1,
          1,
          1,
          0,
          1,
          1,
          0,
          0,
          1,
          1,
          0,
          1,
          1,
          1,
          1,
          1,
          1,
          0,
          1,
          1,
          1,
          1,
          1,
          1,
          1,
          1,
          1,
          1,
          1,
          0,
          0,
          1,
          1,
          0,
          1,
          0,
          1,
          1,
          0,
          0,
          1,
          1,
          1,
          1,
          1,
          0,
          0,
          0,
          1,
          1,
          1,
          1,
          1,
          1,
          0,
          1,
          1,
          1,
          0,
          1,
          0,
          1,
          1,
          1,
          1,
          0,
          0,
          0,
          1,
          1,
          1,
          1,
          1,
          1,
          1,
          1,
          1,
          0,
          1,
          0,
          0,
          1,
          1,
          1,
          0,
          1,
          1,
          0,
          0,
          0,
          1,
          1,
          1,
          1,
          1,
          1,
          1,
          1,
          1,
          1,
          1,
          1,
          1,
          1,
          1,
          1,
          1,
          0,
          0,
          1,
          1,
          1,
          1,
          0,
          1,
          1,
          0,
          1,
          1,
          1,
          0,
          0,
          1,
          1,
          1,
          0,
          0,
          1,
          1,
          1,
          1,
          1,
          1,
          1,
          1,
          1,
          1,
          1,
          1,
          1,
          1,
          1,
          1,
          0,
          1,
          0,
          1,
          0,
          0,
          1,
          1,
          1,
          1,
          1,
          1,
          1,
          1,
          1,
          1,
          0,
          1,
          1,
          1,
          1,
          1,
          1,
          1,
          1,
          1,
          1,
          1,
          1,
          0,
          0,
          1,
          0,
          1,
          0,
          0,
          0,
          1,
          1,
          1,
          1,
          0,
          1,
          1,
          0,
          1,
          1,
          1,
          0,
          1,
          1,
          0,
          0,
          0,
          1,
          0,
          0,
          0,
          1,
          1,
          1,
          0,
          1,
          0,
          1,
          1,
          1,
          1,
          1,
          1,
          1,
          1,
          0,
          0,
          0,
          0,
          1,
          0,
          1,
          1,
          0,
          1,
          1,
          1,
          0,
          1,
          1,
          1,
          1,
          1,
          0,
          1,
          1,
          1,
          0,
          1,
          0,
          1,
          1,
          0,
          1,
          1,
          1,
          1,
          1,
          1,
          0,
          0,
          0,
          0,
          1,
          1,
          1,
          1,
          1,
          0,
          1,
          1,
          1,
          1,
          0,
          0,
          0,
          1,
          0,
          1,
          1,
          1,
          0,
          1,
          1,
          1,
          1,
          0,
          1,
          1,
          1,
          1,
          1,
          1,
          1,
          0,
          1,
          1,
          1,
          0,
          0,
          0,
          1,
          0,
          1,
          1,
          1,
          1,
          1,
          0,
          1,
          0,
          0,
          1,
          1,
          0,
          1,
          1,
          1,
          1,
          1,
          1,
          1,
          1,
          1,
          0,
          0,
          1,
          1,
          1,
          0,
          1,
          1,
          0,
          0,
          0,
          0,
          1,
          1,
          1,
          1,
          1,
          1,
          0,
          0,
          0,
          0,
          1,
          0,
          1,
          1,
          1,
          1,
          1,
          1,
          1,
          1,
          1,
          1,
          1,
          0,
          1,
          1,
          1,
          1,
          1,
          0,
          1,
          1,
          1,
          1,
          1,
          1,
          0,
          1,
          1,
          0,
          0,
          1,
          1,
          1,
          1,
          1,
          1,
          1,
          1,
          1,
          1,
          1,
          1,
          1,
          1,
          0,
          1,
          0,
          0,
          1,
          1,
          0,
          0,
          0,
          1,
          1,
          0,
          0,
          0,
          1,
          1,
          1,
          0,
          1,
          1,
          1,
          1,
          1,
          0,
          1,
          1,
          0,
          0,
          0,
          0,
          1,
          0,
          1,
          1,
          1,
          0,
          1,
          0,
          1,
          1,
          1,
          0,
          1,
          1,
          1,
          1,
          1,
          1,
          1,
          0,
          0,
          1,
          1,
          1,
          0,
          1,
          1,
          1,
          1,
          0,
          1,
          1,
          1,
          0,
          0,
          1,
          1,
          1,
          1,
          1,
          1,
          1,
          1,
          1,
          1,
          1,
          1,
          0,
          1,
          1,
          0,
          1,
          0,
          1,
          1,
          1,
          0,
          0,
          0,
          0,
          0,
          1,
          1,
          1,
          1,
          1,
          1,
          1,
          0,
          0,
          1,
          1,
          1,
          1,
          1,
          1,
          1,
          1,
          1,
          1,
          1,
          1,
          1,
          0,
          1,
          1,
          0,
          1,
          1,
          1,
          1,
          0,
          1,
          1,
          1,
          0,
          1,
          1,
          1,
          1,
          1,
          1,
          1,
          1,
          1,
          1,
          0,
          0,
          1,
          0,
          1,
          1,
          0,
          1,
          1,
          1,
          1,
          1,
          1,
          0,
          0,
          0,
          0,
          1,
          1,
          1,
          1,
          1,
          1,
          0,
          0,
          1,
          1,
          1,
          0,
          1,
          1,
          1,
          1,
          1,
          0,
          0,
          1,
          1,
          1,
          1,
          1,
          0,
          1,
          0,
          1,
          1,
          1,
          1,
          0,
          0,
          1,
          1,
          1,
          0,
          1,
          0,
          0,
          1,
          0,
          1,
          1,
          0,
          1,
          0,
          1,
          1,
          1,
          0,
          1,
          1,
          1,
          1,
          1,
          1,
          1,
          1,
          1,
          1,
          1,
          1,
          1,
          1,
          1,
          1,
          1,
          1,
          0,
          0,
          1,
          1,
          1,
          1,
          0,
          1,
          1,
          0,
          1,
          1,
          1,
          0,
          1,
          1,
          1,
          1,
          1,
          0,
          0,
          0,
          0,
          0,
          1,
          1,
          1,
          1,
          0,
          1,
          1,
          1,
          1,
          1,
          1,
          1,
          0,
          1,
          1,
          0,
          1,
          0,
          1,
          1,
          1,
          0,
          1,
          1,
          1,
          1,
          1,
          1,
          1,
          1,
          0,
          1,
          1,
          1,
          1,
          1,
          0,
          0,
          1,
          1,
          1,
          1,
          1,
          1,
          1,
          1,
          1,
          1,
          1,
          1,
          0,
          1,
          1,
          1,
          1,
          1,
          0,
          1,
          1,
          1,
          1,
          0,
          0,
          1,
          1,
          1,
          1,
          0,
          1,
          1,
          1,
          0,
          1,
          1,
          0,
          1,
          1,
          1,
          1,
          1,
          1,
          1,
          1,
          0,
          0,
          1,
          1,
          1,
          1,
          1,
          1,
          1,
          1,
          1,
          1,
          0,
          1,
          1,
          0,
          1,
          1,
          0,
          0,
          1,
          1,
          0,
          1,
          1,
          1,
          1,
          1,
          1,
          0,
          0,
          1,
          1,
          0,
          1,
          1,
          1,
          1,
          1,
          1,
          1,
          1,
          0,
          1,
          0,
          1,
          1,
          1,
          1,
          1,
          1,
          0,
          1,
          1,
          1,
          1,
          1,
          1,
          0,
          1,
          0,
          1,
          1,
          1,
          1,
          1,
          1,
          1,
          1,
          1,
          0,
          1,
          1,
          1,
          1,
          1,
          0,
          1,
          1,
          1,
          1,
          1,
          1,
          1,
          1,
          0,
          1,
          1,
          1,
          1,
          1,
          1,
          1,
          0,
          0,
          0,
          1,
          0,
          0,
          1,
          0,
          1,
          1,
          0,
          1,
          1,
          1,
          0,
          1,
          1,
          0,
          1,
          1,
          0,
          1,
          1,
          1,
          1,
          1,
          0,
          0,
          1,
          0,
          1,
          0,
          0,
          1,
          1,
          1,
          1,
          1,
          0,
          1,
          1,
          1,
          1,
          1,
          1,
          1,
          0,
          1,
          1,
          1,
          1,
          1,
          0,
          0,
          1,
          1,
          1,
          1,
          0,
          1,
          1,
          0,
          1,
          1,
          1,
          1,
          0,
          0,
          1,
          0,
          1,
          0,
          0,
          1,
          1,
          1,
          1,
          0,
          1,
          0,
          1,
          0,
          1,
          1,
          1,
          0,
          1,
          0,
          1,
          1,
          1,
          1,
          0,
          1,
          1,
          1,
          1,
          0,
          0,
          1,
          0,
          1,
          0,
          0,
          0,
          1,
          1,
          1,
          1,
          1,
          1,
          1,
          1,
          0,
          1,
          1,
          1,
          1,
          0,
          1,
          1,
          1,
          1,
          1,
          1,
          1,
          0,
          0,
          0,
          1,
          0,
          1,
          1,
          1,
          0,
          1,
          1,
          0,
          1,
          1,
          1,
          1,
          1,
          0,
          1,
          0,
          1,
          1,
          0,
          1,
          1,
          1,
          1,
          1,
          1,
          1,
          0,
          1,
          1,
          1,
          1,
          1,
          1,
          0,
          0,
          1,
          1,
          1,
          0,
          0,
          1,
          1,
          1,
          0,
          1,
          1,
          0,
          1,
          1,
          1,
          1,
          1,
          0,
          1,
          1,
          0,
          1,
          1,
          1,
          1,
          1,
          1,
          0,
          1,
          1,
          1,
          1,
          1,
          0,
          0,
          1,
          0,
          1,
          1,
          1,
          1,
          1,
          0,
          0,
          1,
          1,
          1,
          0,
          1,
          1,
          1,
          0,
          1,
          1,
          1,
          1,
          0,
          1,
          1,
          0,
          0,
          1,
          1,
          1,
          1,
          1,
          1,
          1,
          0,
          0,
          0,
          1,
          0,
          1,
          1,
          1,
          1,
          1,
          0,
          1,
          1,
          1,
          1,
          1,
          1,
          1,
          1,
          1,
          1,
          1,
          1,
          1,
          1,
          1,
          1,
          1,
          1,
          1,
          0,
          1,
          0,
          1,
          1,
          1,
          1,
          1,
          1,
          1,
          1,
          1,
          0,
          1,
          1,
          0,
          1,
          1,
          1,
          1,
          1,
          0,
          1,
          1,
          1,
          1,
          0,
          1,
          0,
          0,
          1,
          0,
          1,
          0,
          1,
          1,
          1,
          1,
          0,
          1,
          0,
          1,
          1,
          0,
          1,
          1,
          1,
          1,
          0,
          1,
          1,
          0,
          1,
          1,
          1,
          0,
          1,
          1,
          1,
          1,
          1,
          0,
          1,
          0,
          1,
          1,
          1,
          1,
          1,
          0,
          1,
          1,
          0,
          0,
          1,
          1,
          1,
          1,
          0,
          1,
          1,
          1,
          1,
          1,
          1,
          0,
          0,
          1,
          1,
          1,
          1,
          1,
          1,
          0,
          1,
          0,
          1,
          1,
          1,
          1,
          0,
          1,
          1,
          1,
          0,
          1,
          0,
          0,
          1,
          0,
          0,
          1,
          0,
          0,
          1,
          0,
          0,
          1,
          0,
          1,
          0,
          0,
          0,
          0,
          0,
          1,
          1,
          0,
          1,
          1,
          0,
          0,
          1,
          1,
          1,
          1,
          0,
          1,
          0,
          0,
          0,
          0,
          1,
          0,
          1,
          1,
          1,
          0,
          1,
          0,
          0,
          1,
          0,
          0,
          1,
          1,
          1,
          1,
          0,
          1,
          0,
          0,
          0,
          1,
          0,
          0,
          1,
          0,
          1,
          1,
          0,
          1,
          0,
          0,
          1,
          0,
          1,
          1,
          1,
          0,
          0,
          1,
          0,
          0,
          0,
          1,
          0,
          1,
          0,
          0,
          0,
          1,
          1,
          0,
          0,
          0,
          1,
          1,
          1,
          0,
          0,
          1,
          0,
          1,
          1,
          1,
          1,
          1,
          0,
          0,
          0,
          1,
          1,
          0,
          1,
          0,
          0,
          1,
          0,
          0,
          0,
          0,
          1,
          0,
          0,
          1,
          1,
          0,
          0,
          0,
          1,
          0,
          1,
          0,
          1,
          1,
          0,
          0,
          1,
          1,
          1,
          0,
          0,
          1,
          1,
          0,
          1,
          1,
          0,
          0,
          0,
          1,
          0,
          0,
          0,
          0,
          1,
          1,
          1,
          1,
          1,
          0,
          0,
          1,
          0,
          1,
          0,
          0,
          1,
          1,
          1,
          1,
          1,
          1,
          0,
          0,
          1,
          1,
          1,
          1,
          1,
          0,
          1,
          1,
          1,
          1,
          0,
          0,
          0,
          1,
          0,
          0,
          0,
          0,
          0,
          0,
          1,
          1,
          0,
          0,
          0,
          1,
          1,
          0,
          1,
          0,
          1,
          1,
          0,
          1,
          1,
          1,
          0,
          0,
          0,
          1,
          1,
          1,
          1,
          1,
          1,
          1,
          1,
          1,
          1,
          1,
          0,
          0,
          0,
          1,
          1,
          1,
          1,
          0,
          1,
          1,
          1,
          1,
          1,
          0,
          0,
          0,
          1,
          0,
          1,
          0,
          0,
          0,
          0,
          0,
          0,
          1,
          1,
          1,
          1,
          1,
          0,
          1,
          1,
          1,
          1,
          1,
          0,
          1,
          0,
          1,
          1,
          0,
          1,
          1,
          0,
          1,
          0,
          1,
          0,
          0,
          1,
          1,
          1,
          1,
          1,
          1,
          1,
          0,
          1,
          1,
          1,
          1,
          1,
          0,
          1,
          1,
          0,
          1,
          1,
          1,
          1,
          1,
          1,
          1,
          1,
          0,
          1,
          1,
          1,
          0,
          1,
          1,
          1,
          0,
          1,
          1,
          0,
          1,
          1,
          1,
          1,
          1,
          1,
          1,
          1,
          1,
          1,
          0,
          1,
          1,
          1,
          1,
          0,
          1,
          1,
          1,
          1,
          1,
          1,
          1,
          1,
          1,
          0,
          1,
          0,
          1,
          1,
          1,
          0,
          1,
          1,
          1,
          1,
          1,
          1,
          1,
          1,
          1,
          0,
          1,
          1,
          1,
          1,
          1,
          1,
          1,
          1,
          1,
          1,
          1,
          1,
          1,
          0,
          0,
          1,
          1,
          1,
          1,
          1,
          1,
          1,
          0
         ],
         "xaxis": "x6",
         "yaxis": "y6"
        }
       ],
       "layout": {
        "annotations": [
         {
          "font": {
           "size": 16
          },
          "showarrow": false,
          "text": "Распределение по полу",
          "x": 0.14444444444444446,
          "xanchor": "center",
          "xref": "paper",
          "y": 1,
          "yanchor": "bottom",
          "yref": "paper"
         },
         {
          "font": {
           "size": 16
          },
          "showarrow": false,
          "text": "Распределение по возрасту (женщины)",
          "x": 0.5,
          "xanchor": "center",
          "xref": "paper",
          "y": 1,
          "yanchor": "bottom",
          "yref": "paper"
         },
         {
          "font": {
           "size": 16
          },
          "showarrow": false,
          "text": "Распределение по возрасту (мужчины)",
          "x": 0.8555555555555556,
          "xanchor": "center",
          "xref": "paper",
          "y": 1,
          "yanchor": "bottom",
          "yref": "paper"
         },
         {
          "font": {
           "size": 16
          },
          "showarrow": false,
          "text": "Распределение стажа клиентов",
          "x": 0.14444444444444446,
          "xanchor": "center",
          "xref": "paper",
          "y": 0.375,
          "yanchor": "bottom",
          "yref": "paper"
         },
         {
          "font": {
           "size": 16
          },
          "showarrow": false,
          "text": "Количество городов покупок",
          "x": 0.5,
          "xanchor": "center",
          "xref": "paper",
          "y": 0.375,
          "yanchor": "bottom",
          "yref": "paper"
         },
         {
          "font": {
           "size": 16
          },
          "showarrow": false,
          "text": "Распределение по реакциям на коммуникации",
          "x": 0.8555555555555556,
          "xanchor": "center",
          "xref": "paper",
          "y": 0.375,
          "yanchor": "bottom",
          "yref": "paper"
         }
        ],
        "autosize": true,
        "showlegend": false,
        "template": {
         "data": {
          "bar": [
           {
            "error_x": {
             "color": "#2a3f5f"
            },
            "error_y": {
             "color": "#2a3f5f"
            },
            "marker": {
             "line": {
              "color": "#E5ECF6",
              "width": 0.5
             },
             "pattern": {
              "fillmode": "overlay",
              "size": 10,
              "solidity": 0.2
             }
            },
            "type": "bar"
           }
          ],
          "barpolar": [
           {
            "marker": {
             "line": {
              "color": "#E5ECF6",
              "width": 0.5
             },
             "pattern": {
              "fillmode": "overlay",
              "size": 10,
              "solidity": 0.2
             }
            },
            "type": "barpolar"
           }
          ],
          "carpet": [
           {
            "aaxis": {
             "endlinecolor": "#2a3f5f",
             "gridcolor": "white",
             "linecolor": "white",
             "minorgridcolor": "white",
             "startlinecolor": "#2a3f5f"
            },
            "baxis": {
             "endlinecolor": "#2a3f5f",
             "gridcolor": "white",
             "linecolor": "white",
             "minorgridcolor": "white",
             "startlinecolor": "#2a3f5f"
            },
            "type": "carpet"
           }
          ],
          "choropleth": [
           {
            "colorbar": {
             "outlinewidth": 0,
             "ticks": ""
            },
            "type": "choropleth"
           }
          ],
          "contour": [
           {
            "colorbar": {
             "outlinewidth": 0,
             "ticks": ""
            },
            "colorscale": [
             [
              0,
              "#0d0887"
             ],
             [
              0.1111111111111111,
              "#46039f"
             ],
             [
              0.2222222222222222,
              "#7201a8"
             ],
             [
              0.3333333333333333,
              "#9c179e"
             ],
             [
              0.4444444444444444,
              "#bd3786"
             ],
             [
              0.5555555555555556,
              "#d8576b"
             ],
             [
              0.6666666666666666,
              "#ed7953"
             ],
             [
              0.7777777777777778,
              "#fb9f3a"
             ],
             [
              0.8888888888888888,
              "#fdca26"
             ],
             [
              1,
              "#f0f921"
             ]
            ],
            "type": "contour"
           }
          ],
          "contourcarpet": [
           {
            "colorbar": {
             "outlinewidth": 0,
             "ticks": ""
            },
            "type": "contourcarpet"
           }
          ],
          "heatmap": [
           {
            "colorbar": {
             "outlinewidth": 0,
             "ticks": ""
            },
            "colorscale": [
             [
              0,
              "#0d0887"
             ],
             [
              0.1111111111111111,
              "#46039f"
             ],
             [
              0.2222222222222222,
              "#7201a8"
             ],
             [
              0.3333333333333333,
              "#9c179e"
             ],
             [
              0.4444444444444444,
              "#bd3786"
             ],
             [
              0.5555555555555556,
              "#d8576b"
             ],
             [
              0.6666666666666666,
              "#ed7953"
             ],
             [
              0.7777777777777778,
              "#fb9f3a"
             ],
             [
              0.8888888888888888,
              "#fdca26"
             ],
             [
              1,
              "#f0f921"
             ]
            ],
            "type": "heatmap"
           }
          ],
          "heatmapgl": [
           {
            "colorbar": {
             "outlinewidth": 0,
             "ticks": ""
            },
            "colorscale": [
             [
              0,
              "#0d0887"
             ],
             [
              0.1111111111111111,
              "#46039f"
             ],
             [
              0.2222222222222222,
              "#7201a8"
             ],
             [
              0.3333333333333333,
              "#9c179e"
             ],
             [
              0.4444444444444444,
              "#bd3786"
             ],
             [
              0.5555555555555556,
              "#d8576b"
             ],
             [
              0.6666666666666666,
              "#ed7953"
             ],
             [
              0.7777777777777778,
              "#fb9f3a"
             ],
             [
              0.8888888888888888,
              "#fdca26"
             ],
             [
              1,
              "#f0f921"
             ]
            ],
            "type": "heatmapgl"
           }
          ],
          "histogram": [
           {
            "marker": {
             "pattern": {
              "fillmode": "overlay",
              "size": 10,
              "solidity": 0.2
             }
            },
            "type": "histogram"
           }
          ],
          "histogram2d": [
           {
            "colorbar": {
             "outlinewidth": 0,
             "ticks": ""
            },
            "colorscale": [
             [
              0,
              "#0d0887"
             ],
             [
              0.1111111111111111,
              "#46039f"
             ],
             [
              0.2222222222222222,
              "#7201a8"
             ],
             [
              0.3333333333333333,
              "#9c179e"
             ],
             [
              0.4444444444444444,
              "#bd3786"
             ],
             [
              0.5555555555555556,
              "#d8576b"
             ],
             [
              0.6666666666666666,
              "#ed7953"
             ],
             [
              0.7777777777777778,
              "#fb9f3a"
             ],
             [
              0.8888888888888888,
              "#fdca26"
             ],
             [
              1,
              "#f0f921"
             ]
            ],
            "type": "histogram2d"
           }
          ],
          "histogram2dcontour": [
           {
            "colorbar": {
             "outlinewidth": 0,
             "ticks": ""
            },
            "colorscale": [
             [
              0,
              "#0d0887"
             ],
             [
              0.1111111111111111,
              "#46039f"
             ],
             [
              0.2222222222222222,
              "#7201a8"
             ],
             [
              0.3333333333333333,
              "#9c179e"
             ],
             [
              0.4444444444444444,
              "#bd3786"
             ],
             [
              0.5555555555555556,
              "#d8576b"
             ],
             [
              0.6666666666666666,
              "#ed7953"
             ],
             [
              0.7777777777777778,
              "#fb9f3a"
             ],
             [
              0.8888888888888888,
              "#fdca26"
             ],
             [
              1,
              "#f0f921"
             ]
            ],
            "type": "histogram2dcontour"
           }
          ],
          "mesh3d": [
           {
            "colorbar": {
             "outlinewidth": 0,
             "ticks": ""
            },
            "type": "mesh3d"
           }
          ],
          "parcoords": [
           {
            "line": {
             "colorbar": {
              "outlinewidth": 0,
              "ticks": ""
             }
            },
            "type": "parcoords"
           }
          ],
          "pie": [
           {
            "automargin": true,
            "type": "pie"
           }
          ],
          "scatter": [
           {
            "fillpattern": {
             "fillmode": "overlay",
             "size": 10,
             "solidity": 0.2
            },
            "type": "scatter"
           }
          ],
          "scatter3d": [
           {
            "line": {
             "colorbar": {
              "outlinewidth": 0,
              "ticks": ""
             }
            },
            "marker": {
             "colorbar": {
              "outlinewidth": 0,
              "ticks": ""
             }
            },
            "type": "scatter3d"
           }
          ],
          "scattercarpet": [
           {
            "marker": {
             "colorbar": {
              "outlinewidth": 0,
              "ticks": ""
             }
            },
            "type": "scattercarpet"
           }
          ],
          "scattergeo": [
           {
            "marker": {
             "colorbar": {
              "outlinewidth": 0,
              "ticks": ""
             }
            },
            "type": "scattergeo"
           }
          ],
          "scattergl": [
           {
            "marker": {
             "colorbar": {
              "outlinewidth": 0,
              "ticks": ""
             }
            },
            "type": "scattergl"
           }
          ],
          "scattermapbox": [
           {
            "marker": {
             "colorbar": {
              "outlinewidth": 0,
              "ticks": ""
             }
            },
            "type": "scattermapbox"
           }
          ],
          "scatterpolar": [
           {
            "marker": {
             "colorbar": {
              "outlinewidth": 0,
              "ticks": ""
             }
            },
            "type": "scatterpolar"
           }
          ],
          "scatterpolargl": [
           {
            "marker": {
             "colorbar": {
              "outlinewidth": 0,
              "ticks": ""
             }
            },
            "type": "scatterpolargl"
           }
          ],
          "scatterternary": [
           {
            "marker": {
             "colorbar": {
              "outlinewidth": 0,
              "ticks": ""
             }
            },
            "type": "scatterternary"
           }
          ],
          "surface": [
           {
            "colorbar": {
             "outlinewidth": 0,
             "ticks": ""
            },
            "colorscale": [
             [
              0,
              "#0d0887"
             ],
             [
              0.1111111111111111,
              "#46039f"
             ],
             [
              0.2222222222222222,
              "#7201a8"
             ],
             [
              0.3333333333333333,
              "#9c179e"
             ],
             [
              0.4444444444444444,
              "#bd3786"
             ],
             [
              0.5555555555555556,
              "#d8576b"
             ],
             [
              0.6666666666666666,
              "#ed7953"
             ],
             [
              0.7777777777777778,
              "#fb9f3a"
             ],
             [
              0.8888888888888888,
              "#fdca26"
             ],
             [
              1,
              "#f0f921"
             ]
            ],
            "type": "surface"
           }
          ],
          "table": [
           {
            "cells": {
             "fill": {
              "color": "#EBF0F8"
             },
             "line": {
              "color": "white"
             }
            },
            "header": {
             "fill": {
              "color": "#C8D4E3"
             },
             "line": {
              "color": "white"
             }
            },
            "type": "table"
           }
          ]
         },
         "layout": {
          "annotationdefaults": {
           "arrowcolor": "#2a3f5f",
           "arrowhead": 0,
           "arrowwidth": 1
          },
          "autotypenumbers": "strict",
          "coloraxis": {
           "colorbar": {
            "outlinewidth": 0,
            "ticks": ""
           }
          },
          "colorscale": {
           "diverging": [
            [
             0,
             "#8e0152"
            ],
            [
             0.1,
             "#c51b7d"
            ],
            [
             0.2,
             "#de77ae"
            ],
            [
             0.3,
             "#f1b6da"
            ],
            [
             0.4,
             "#fde0ef"
            ],
            [
             0.5,
             "#f7f7f7"
            ],
            [
             0.6,
             "#e6f5d0"
            ],
            [
             0.7,
             "#b8e186"
            ],
            [
             0.8,
             "#7fbc41"
            ],
            [
             0.9,
             "#4d9221"
            ],
            [
             1,
             "#276419"
            ]
           ],
           "sequential": [
            [
             0,
             "#0d0887"
            ],
            [
             0.1111111111111111,
             "#46039f"
            ],
            [
             0.2222222222222222,
             "#7201a8"
            ],
            [
             0.3333333333333333,
             "#9c179e"
            ],
            [
             0.4444444444444444,
             "#bd3786"
            ],
            [
             0.5555555555555556,
             "#d8576b"
            ],
            [
             0.6666666666666666,
             "#ed7953"
            ],
            [
             0.7777777777777778,
             "#fb9f3a"
            ],
            [
             0.8888888888888888,
             "#fdca26"
            ],
            [
             1,
             "#f0f921"
            ]
           ],
           "sequentialminus": [
            [
             0,
             "#0d0887"
            ],
            [
             0.1111111111111111,
             "#46039f"
            ],
            [
             0.2222222222222222,
             "#7201a8"
            ],
            [
             0.3333333333333333,
             "#9c179e"
            ],
            [
             0.4444444444444444,
             "#bd3786"
            ],
            [
             0.5555555555555556,
             "#d8576b"
            ],
            [
             0.6666666666666666,
             "#ed7953"
            ],
            [
             0.7777777777777778,
             "#fb9f3a"
            ],
            [
             0.8888888888888888,
             "#fdca26"
            ],
            [
             1,
             "#f0f921"
            ]
           ]
          },
          "colorway": [
           "#636efa",
           "#EF553B",
           "#00cc96",
           "#ab63fa",
           "#FFA15A",
           "#19d3f3",
           "#FF6692",
           "#B6E880",
           "#FF97FF",
           "#FECB52"
          ],
          "font": {
           "color": "#2a3f5f"
          },
          "geo": {
           "bgcolor": "white",
           "lakecolor": "white",
           "landcolor": "#E5ECF6",
           "showlakes": true,
           "showland": true,
           "subunitcolor": "white"
          },
          "hoverlabel": {
           "align": "left"
          },
          "hovermode": "closest",
          "mapbox": {
           "style": "light"
          },
          "paper_bgcolor": "white",
          "plot_bgcolor": "#E5ECF6",
          "polar": {
           "angularaxis": {
            "gridcolor": "white",
            "linecolor": "white",
            "ticks": ""
           },
           "bgcolor": "#E5ECF6",
           "radialaxis": {
            "gridcolor": "white",
            "linecolor": "white",
            "ticks": ""
           }
          },
          "scene": {
           "xaxis": {
            "backgroundcolor": "#E5ECF6",
            "gridcolor": "white",
            "gridwidth": 2,
            "linecolor": "white",
            "showbackground": true,
            "ticks": "",
            "zerolinecolor": "white"
           },
           "yaxis": {
            "backgroundcolor": "#E5ECF6",
            "gridcolor": "white",
            "gridwidth": 2,
            "linecolor": "white",
            "showbackground": true,
            "ticks": "",
            "zerolinecolor": "white"
           },
           "zaxis": {
            "backgroundcolor": "#E5ECF6",
            "gridcolor": "white",
            "gridwidth": 2,
            "linecolor": "white",
            "showbackground": true,
            "ticks": "",
            "zerolinecolor": "white"
           }
          },
          "shapedefaults": {
           "line": {
            "color": "#2a3f5f"
           }
          },
          "ternary": {
           "aaxis": {
            "gridcolor": "white",
            "linecolor": "white",
            "ticks": ""
           },
           "baxis": {
            "gridcolor": "white",
            "linecolor": "white",
            "ticks": ""
           },
           "bgcolor": "#E5ECF6",
           "caxis": {
            "gridcolor": "white",
            "linecolor": "white",
            "ticks": ""
           }
          },
          "title": {
           "x": 0.05
          },
          "xaxis": {
           "automargin": true,
           "gridcolor": "white",
           "linecolor": "white",
           "ticks": "",
           "title": {
            "standoff": 15
           },
           "zerolinecolor": "white",
           "zerolinewidth": 2
          },
          "yaxis": {
           "automargin": true,
           "gridcolor": "white",
           "linecolor": "white",
           "ticks": "",
           "title": {
            "standoff": 15
           },
           "zerolinecolor": "white",
           "zerolinewidth": 2
          }
         }
        },
        "title": {
         "text": "Информация о ключевых клиентах"
        },
        "xaxis": {
         "anchor": "y",
         "autorange": true,
         "domain": [
          0,
          0.2888888888888889
         ],
         "range": [
          -0.5,
          1.5
         ],
         "type": "category"
        },
        "xaxis2": {
         "anchor": "y2",
         "autorange": true,
         "domain": [
          0.35555555555555557,
          0.6444444444444445
         ],
         "range": [
          -0.5,
          89.5
         ],
         "type": "linear"
        },
        "xaxis3": {
         "anchor": "y3",
         "autorange": true,
         "domain": [
          0.7111111111111111,
          1
         ],
         "range": [
          -0.5,
          89.5
         ],
         "type": "linear"
        },
        "xaxis4": {
         "anchor": "y4",
         "autorange": true,
         "domain": [
          0,
          0.2888888888888889
         ],
         "range": [
          -0.5,
          0.5
         ],
         "type": "category"
        },
        "xaxis5": {
         "anchor": "y5",
         "autorange": true,
         "domain": [
          0.35555555555555557,
          0.6444444444444445
         ],
         "range": [
          -0.5,
          2.5
         ],
         "type": "category"
        },
        "xaxis6": {
         "anchor": "y6",
         "autorange": true,
         "domain": [
          0.7111111111111111,
          1
         ],
         "range": [
          -0.25,
          1.25
         ],
         "type": "linear"
        },
        "yaxis": {
         "anchor": "x",
         "autorange": true,
         "domain": [
          0.625,
          1
         ],
         "range": [
          0,
          71.36842105263158
         ],
         "type": "linear"
        },
        "yaxis2": {
         "anchor": "x2",
         "autorange": true,
         "domain": [
          0.625,
          1
         ],
         "range": [
          0,
          135.78947368421052
         ]
        },
        "yaxis3": {
         "anchor": "x3",
         "autorange": true,
         "domain": [
          0.625,
          1
         ],
         "range": [
          0,
          82.10526315789474
         ]
        },
        "yaxis4": {
         "anchor": "x4",
         "autorange": true,
         "domain": [
          0,
          0.375
         ],
         "range": [
          1.4444444444444444,
          12.555555555555555
         ],
         "type": "linear"
        },
        "yaxis5": {
         "anchor": "x5",
         "autorange": true,
         "domain": [
          0,
          0.375
         ],
         "range": [
          0,
          1561.0526315789473
         ],
         "type": "linear"
        },
        "yaxis6": {
         "anchor": "x6",
         "autorange": true,
         "domain": [
          0,
          0.375
         ],
         "range": [
          0,
          1174.7368421052631
         ]
        }
       }
      },
      "image/png": "[encoded data removed]",
      "text/html": [
       "<div>                            <div id=\"09ca5d98-635c-48cc-a26c-6773b4aa2d9f\" class=\"plotly-graph-div\" style=\"height:800px; width:100%;\"></div>            <script type=\"text/javascript\">                require([\"plotly\"], function(Plotly) {                    window.PLOTLYENV=window.PLOTLYENV || {};                                    if (document.getElementById(\"09ca5d98-635c-48cc-a26c-6773b4aa2d9f\")) {                    Plotly.newPlot(                        \"09ca5d98-635c-48cc-a26c-6773b4aa2d9f\",                        [{\"marker\":{\"color\":[\"blue\",\"pink\"]},\"name\":\"\\u041f\\u043e\\u043b\",\"x\":[\"F\",\"M\"],\"y\":[67.8,32.2],\"type\":\"bar\",\"xaxis\":\"x\",\"yaxis\":\"y\"},{\"marker\":{\"color\":\"salmon\"},\"name\":\"\\u0412\\u043e\\u0437\\u0440\\u0430\\u0441\\u0442 \\u0436\\u0435\\u043d\\u0449\\u0438\\u043d\",\"nbinsx\":20,\"x\":[65.0,32.0,48.0,40.0,58.0,32.0,45.0,42.0,50.0,43.0,78.0,56.0,22.0,19.0,51.0,23.0,38.0,20.0,20.0,28.0,27.0,33.0,29.0,45.0,73.0,26.0,28.0,39.0,23.0,57.0,33.0,57.0,33.0,42.0,17.0,38.0,54.0,18.0,36.0,36.0,37.0,28.0,46.0,27.0,79.0,24.0,55.0,27.0,39.0,35.0,78.0,22.0,18.0,15.0,24.0,23.0,57.0,42.0,25.0,29.0,40.0,24.0,34.0,39.0,23.0,34.0,37.0,25.0,57.0,38.0,31.0,38.0,47.0,27.0,28.0,36.0,15.0,49.0,24.0,49.0,22.0,20.0,46.0,25.0,25.0,36.0,18.0,36.0,28.0,34.0,55.0,24.0,34.0,20.0,59.0,59.0,32.0,27.0,51.0,51.0,53.0,19.0,61.0,39.0,25.0,28.0,65.0,64.0,43.0,50.0,28.0,28.0,35.0,36.0,32.0,35.0,40.0,59.0,52.0,38.0,66.0,63.0,40.0,23.0,79.0,17.0,53.0,58.0,21.0,21.0,45.0,35.0,36.0,41.0,29.0,34.0,48.0,39.0,32.0,24.0,39.0,25.0,27.0,34.0,54.0,43.0,28.0,22.0,42.0,77.0,55.0,67.0,60.0,38.0,27.0,38.0,26.0,22.0,32.0,43.0,25.0,27.0,47.0,40.0,50.0,23.0,41.0,34.0,19.0,42.0,19.0,42.0,23.0,19.0,24.0,42.0,25.0,44.0,21.0,19.0,37.0,51.0,73.0,45.0,28.0,65.0,32.0,47.0,61.0,42.0,40.0,68.0,20.0,75.0,33.0,68.0,37.0,63.0,17.0,31.0,48.0,51.0,42.0,22.0,23.0,55.0,41.0,46.0,50.0,39.0,48.0,24.0,53.0,48.0,25.0,31.0,33.0,33.0,59.0,38.0,33.0,26.0,37.0,40.0,39.0,24.0,32.0,26.0,37.0,68.0,27.0,37.0,61.0,21.0,25.0,53.0,78.0,41.0,57.0,38.0,70.0,47.0,38.0,51.0,28.0,25.0,64.0,28.0,21.0,40.0,32.0,63.0,47.0,60.0,58.0,56.0,49.0,42.0,24.0,45.0,23.0,32.0,33.0,22.0,72.0,34.0,54.0,33.0,67.0,57.0,33.0,25.0,57.0,57.0,47.0,34.0,59.0,28.0,58.0,26.0,48.0,26.0,61.0,52.0,48.0,64.0,42.0,51.0,19.0,21.0,23.0,29.0,33.0,50.0,56.0,36.0,67.0,50.0,24.0,40.0,36.0,61.0,45.0,31.0,42.0,35.0,53.0,43.0,65.0,33.0,55.0,76.0,40.0,43.0,41.0,33.0,41.0,71.0,36.0,25.0,20.0,28.0,24.0,36.0,72.0,35.0,21.0,11.0,39.0,77.0,29.0,22.0,29.0,64.0,35.0,44.0,64.0,27.0,42.0,38.0,55.0,21.0,35.0,32.0,31.0,60.0,16.0,67.0,38.0,21.0,29.0,67.0,72.0,47.0,63.0,72.0,23.0,49.0,31.0,37.0,66.0,41.0,54.0,43.0,38.0,34.0,24.0,69.0,43.0,18.0,59.0,61.0,88.0,23.0,67.0,60.0,38.0,39.0,16.0,65.0,60.0,64.0,72.0,73.0,25.0,45.0,39.0,52.0,22.0,24.0,27.0,56.0,64.0,57.0,27.0,17.0,26.0,58.0,63.0,26.0,66.0,29.0,30.0,28.0,54.0,35.0,66.0,70.0,52.0,47.0,39.0,26.0,26.0,47.0,21.0,49.0,60.0,73.0,51.0,35.0,32.0,22.0,47.0,77.0,20.0,77.0,77.0,46.0,76.0,30.0,53.0,41.0,20.0,18.0,65.0,32.0,29.0,41.0,78.0,23.0,36.0,19.0,36.0,53.0,31.0,34.0,25.0,25.0,43.0,44.0,28.0,37.0,29.0,55.0,68.0,31.0,32.0,58.0,68.0,49.0,52.0,51.0,66.0,42.0,33.0,33.0,28.0,32.0,43.0,42.0,52.0,44.0,60.0,51.0,52.0,61.0,41.0,61.0,47.0,81.0,34.0,32.0,78.0,55.0,34.0,74.0,41.0,43.0,47.0,50.0,30.0,54.0,60.0,53.0,44.0,64.0,30.0,32.0,50.0,42.0,53.0,19.0,18.0,38.0,60.0,61.0,66.0,50.0,33.0,36.0,48.0,37.0,54.0,21.0,32.0,59.0,53.0,61.0,55.0,61.0,26.0,38.0,26.0,24.0,41.0,1.0,66.0,31.0,65.0,39.0,48.0,53.0,59.0,71.0,55.0,57.0,45.0,63.0,43.0,47.0,41.0,24.0,45.0,52.0,62.0,57.0,29.0,23.0,57.0,56.0,29.0,61.0,29.0,29.0,32.0,23.0,51.0,39.0,40.0,56.0,72.0,32.0,46.0,75.0,48.0,20.0,48.0,33.0,23.0,52.0,41.0,58.0,38.0,33.0,40.0,67.0,72.0,49.0,51.0,60.0,43.0,67.0,35.0,63.0,37.0,44.0,64.0,60.0,33.0,58.0,59.0,33.0,38.0,67.0,54.0,50.0,54.0,66.0,38.0,32.0,39.0,63.0,64.0,37.0,26.0,44.0,40.0,54.0,58.0,44.0,42.0,22.0,27.0,26.0,27.0,22.0,20.0,30.0,20.0,20.0,33.0,48.0,61.0,41.0,32.0,54.0,56.0,23.0,36.0,45.0,45.0,20.0,47.0,28.0,22.0,51.0,46.0,42.0,62.0,28.0,36.0,39.0,26.0,31.0,46.0,44.0,54.0,38.0,52.0,64.0,52.0,31.0,42.0,54.0,79.0,56.0,18.0,28.0,28.0,55.0,56.0,29.0,26.0,61.0,27.0,15.0,37.0,58.0,63.0,58.0,40.0,65.0,27.0,69.0,57.0,70.0,40.0,17.0,47.0,50.0,23.0,66.0,27.0,74.0,30.0,73.0,43.0,66.0,66.0,78.0,30.0,63.0,47.0,18.0,23.0,65.0,26.0,1.0,37.0,21.0,26.0,22.0,29.0,67.0,34.0,56.0,19.0,58.0,37.0,34.0,51.0,52.0,26.0,72.0,35.0,71.0,58.0,67.0,38.0,18.0,53.0,43.0,53.0,40.0,55.0,46.0,65.0,41.0,34.0,56.0,49.0,46.0,35.0,22.0,42.0,61.0,24.0,53.0,40.0,55.0,39.0,23.0,44.0,26.0,68.0,35.0,42.0,21.0,55.0,50.0,77.0,61.0,68.0,24.0,32.0,29.0,39.0,63.0,51.0,43.0,19.0,31.0,33.0,30.0,25.0,61.0,28.0,35.0,37.0,29.0,52.0,41.0,29.0,55.0,1.0,55.0,32.0,42.0,25.0,49.0,35.0,51.0,30.0,51.0,44.0,60.0,63.0,41.0,44.0,35.0,19.0,25.0,35.0,26.0,25.0,66.0,30.0,70.0,47.0,73.0,44.0,31.0,57.0,47.0,41.0,30.0,37.0,32.0,46.0,35.0,42.0,26.0,16.0,44.0,66.0,57.0,49.0,41.0,53.0,36.0,66.0,35.0,17.0,50.0,30.0,32.0,22.0,56.0,65.0,24.0,79.0,74.0,28.0,51.0,46.0,30.0,41.0,30.0,25.0,63.0,52.0,42.0,68.0,28.0,54.0,25.0,45.0,57.0,67.0,71.0,40.0,66.0,50.0,57.0,32.0,52.0,38.0,28.0,62.0,41.0,58.0,24.0,32.0,63.0,53.0,31.0,47.0,26.0,35.0,42.0,61.0,59.0,63.0,39.0,64.0,50.0,64.0,52.0,18.0,37.0,24.0,24.0,40.0,22.0,66.0,25.0,56.0,24.0,50.0,62.0,58.0,30.0,39.0,65.0,31.0,28.0,59.0,25.0,41.0,53.0,34.0,36.0,61.0,47.0,46.0,54.0,41.0,59.0,34.0,50.0,26.0,30.0,34.0,56.0,35.0,56.0,30.0,28.0,33.0,42.0,56.0,59.0,33.0,53.0,29.0,18.0,34.0,30.0,35.0,21.0,58.0,73.0,44.0,28.0,57.0,42.0,52.0,39.0,40.0,28.0,32.0,71.0,20.0,77.0,26.0,66.0,44.0,58.0,37.0,55.0,61.0,59.0,69.0,39.0,36.0,26.0,55.0,36.0,51.0,40.0,59.0,37.0,23.0,35.0,68.0,28.0,25.0,83.0,49.0,52.0,48.0,38.0,33.0,51.0,28.0,58.0,56.0,36.0,37.0,43.0,57.0,51.0,49.0,31.0,65.0,38.0,41.0,58.0,60.0,54.0,54.0,61.0,56.0,69.0,22.0,53.0,41.0,47.0,25.0,48.0,40.0,33.0,72.0,49.0,26.0,27.0,23.0,33.0,20.0,45.0,35.0,55.0,19.0,67.0,20.0,61.0,36.0,30.0,43.0,20.0,48.0,27.0,36.0,30.0,24.0,59.0,25.0,56.0,39.0,35.0,31.0,27.0,51.0,57.0,61.0,73.0,34.0,51.0,25.0,50.0,28.0,23.0,76.0,32.0,26.0,28.0,58.0],\"type\":\"histogram\",\"xaxis\":\"x2\",\"yaxis\":\"y2\"},{\"marker\":{\"color\":\"orange\"},\"name\":\"\\u0412\\u043e\\u0437\\u0440\\u0430\\u0441\\u0442 \\u043c\\u0443\\u0436\\u0447\\u0438\\u043d\",\"nbinsx\":20,\"x\":[28.0,47.0,28.0,42.0,35.0,24.0,18.0,40.0,18.0,26.0,43.0,85.0,34.0,63.0,32.0,65.0,43.0,39.0,67.0,36.0,50.0,37.0,25.0,33.0,19.0,37.0,1.0,25.0,53.0,19.0,25.0,23.0,21.0,1.0,19.0,50.0,43.0,29.0,62.0,35.0,31.0,25.0,27.0,36.0,23.0,26.0,27.0,31.0,25.0,26.0,25.0,30.0,55.0,60.0,1.0,37.0,68.0,21.0,28.0,32.0,29.0,23.0,29.0,20.0,24.0,38.0,51.0,56.0,30.0,54.0,29.0,38.0,49.0,23.0,23.0,29.0,32.0,26.0,29.0,25.0,33.0,23.0,39.0,21.0,43.0,31.0,40.0,63.0,55.0,44.0,61.0,33.0,47.0,21.0,30.0,60.0,29.0,15.0,48.0,23.0,70.0,64.0,38.0,26.0,55.0,29.0,45.0,28.0,26.0,22.0,22.0,32.0,26.0,37.0,8.0,21.0,39.0,28.0,31.0,39.0,22.0,28.0,24.0,62.0,66.0,55.0,23.0,59.0,46.0,19.0,21.0,34.0,23.0,32.0,33.0,29.0,42.0,46.0,32.0,38.0,51.0,48.0,38.0,34.0,57.0,29.0,65.0,32.0,66.0,25.0,32.0,46.0,45.0,52.0,33.0,54.0,58.0,23.0,32.0,32.0,29.0,36.0,28.0,33.0,31.0,27.0,25.0,31.0,36.0,29.0,27.0,18.0,21.0,17.0,28.0,67.0,29.0,29.0,36.0,19.0,53.0,38.0,29.0,24.0,33.0,37.0,23.0,74.0,31.0,40.0,20.0,48.0,26.0,35.0,37.0,25.0,21.0,31.0,43.0,32.0,23.0,21.0,39.0,48.0,50.0,31.0,52.0,45.0,38.0,54.0,65.0,22.0,69.0,35.0,44.0,43.0,62.0,28.0,35.0,26.0,44.0,68.0,22.0,32.0,48.0,35.0,40.0,35.0,37.0,37.0,22.0,24.0,52.0,48.0,42.0,24.0,29.0,48.0,66.0,53.0,51.0,29.0,26.0,29.0,30.0,53.0,55.0,24.0,45.0,44.0,49.0,38.0,47.0,36.0,57.0,56.0,47.0,40.0,45.0,65.0,71.0,40.0,33.0,38.0,41.0,33.0,38.0,27.0,11.0,43.0,48.0,31.0,33.0,45.0,27.0,28.0,18.0,22.0,19.0,56.0,31.0,37.0,23.0,47.0,33.0,25.0,40.0,19.0,37.0,57.0,21.0,42.0,25.0,46.0,43.0,27.0,29.0,43.0,45.0,30.0,34.0,63.0,53.0,30.0,28.0,31.0,22.0,22.0,46.0,34.0,20.0,42.0,39.0,59.0,66.0,35.0,27.0,26.0,25.0,49.0,42.0,31.0,71.0,56.0,31.0,48.0,41.0,65.0,53.0,41.0,33.0,38.0,45.0,33.0,56.0,47.0,57.0,30.0,47.0,20.0,52.0,55.0,43.0,27.0,32.0,36.0,22.0,46.0,33.0,55.0,20.0,39.0,28.0,27.0,30.0,41.0,46.0,24.0,23.0,55.0,37.0,33.0,33.0,44.0,39.0,65.0,42.0,58.0,50.0,39.0,55.0,43.0,36.0,31.0,47.0,54.0,38.0,64.0,58.0,21.0,46.0,32.0,54.0,49.0,62.0,26.0,60.0,26.0,24.0,45.0,72.0,40.0,33.0,55.0,20.0,36.0,24.0,53.0,42.0,71.0,52.0,57.0,37.0,34.0,30.0,47.0,83.0,22.0,28.0,16.0,27.0,24.0,26.0,34.0,49.0,36.0,41.0,31.0,47.0,51.0,52.0,36.0,37.0,31.0,38.0,45.0,36.0,56.0,35.0,40.0,36.0,34.0,47.0,29.0,23.0,24.0,53.0,23.0,39.0,30.0,30.0,30.0,45.0,32.0,47.0,57.0,52.0,44.0,35.0,58.0,19.0,24.0,67.0,30.0,25.0,50.0,32.0,65.0,50.0,25.0,36.0,57.0,33.0,36.0,23.0,59.0,43.0,53.0,29.0,42.0,45.0,20.0,23.0,24.0,44.0,41.0,55.0,58.0,21.0,41.0,32.0,29.0,44.0,68.0,27.0,53.0,63.0,42.0,29.0,21.0,30.0,29.0,39.0,38.0,17.0,21.0,19.0],\"type\":\"histogram\",\"xaxis\":\"x3\",\"yaxis\":\"y3\"},{\"marker\":{\"color\":\"lightgreen\"},\"name\":\"\\u0421\\u0442\\u0430\\u0436\",\"y\":[5,12,9,11,6,12,9,4,12,12,4,10,10,3,7,12,6,10,11,12,9,10,11,11,5,4,9,7,12,10,10,11,10,12,12,9,10,5,11,12,12,10,12,5,8,7,12,10,11,10,5,9,8,9,11,12,11,9,11,10,9,5,9,10,11,5,8,10,6,11,9,12,11,8,11,10,11,11,10,8,12,10,12,11,6,12,12,10,12,12,11,5,11,11,11,11,8,11,9,6,5,12,12,8,12,11,11,12,4,9,6,6,12,7,12,11,4,9,9,11,9,10,8,9,11,12,9,9,11,12,8,12,8,6,12,12,6,7,6,8,11,2,9,12,12,10,11,7,3,9,8,11,8,6,10,10,7,3,9,5,10,9,10,10,5,10,9,11,12,2,9,11,11,12,9,9,12,10,8,7,6,9,9,8,9,9,8,8,2,2,7,6,6,9,11,10,7,12,8,5,7,4,5,6,6,4,7,5,7,9,3,6,5,12,11,8,2,9,10,7,12,8,12,7,9,7,5,8,8,7,9,9,4,8,7,4,6,5,5,7,3,9,9,8,7,8,8,4,8,6,5,11,11,9,3,8,8,8,3,9,7,4,5,9,8,10,9,7,7,10,7,5,5,3,9,9,4,12,12,9,10,10,8,10,12,8,12,6,12,9,10,8,10,11,6,6,12,12,10,11,11,9,7,8,9,11,8,7,12,2,12,10,12,8,12,8,6,4,12,10,12,12,3,12,7,10,9,12,9,5,10,7,7,9,7,11,12,12,8,10,8,9,12,9,8,11,12,12,11,10,8,12,7,10,8,12,12,9,9,12,11,12,4,8,7,9,12,12,8,7,12,9,5,7,5,11,6,12,10,11,11,12,12,10,12,12,11,10,10,8,11,7,12,10,10,9,12,10,9,5,9,9,5,11,9,5,12,12,10,8,12,7,8,11,9,8,9,12,10,11,3,3,12,7,11,11,4,9,9,8,12,9,4,9,7,12,9,9,10,10,12,8,6,10,9,10,9,4,5,11,12,12,11,8,12,11,12,11,12,12,12,11,3,12,12,12,7,9,9,12,9,7,5,9,8,7,4,12,12,10,12,12,12,12,7,12,10,12,9,11,7,12,12,10,6,12,6,9,7,11,5,11,10,12,11,5,6,11,12,11,12,10,5,7,11,9,11,11,12,11,8,11,8,5,6,8,12,12,12,11,11,12,5,11,8,12,9,12,4,11,5,12,12,12,12,12,7,11,12,11,8,9,11,12,9,10,10,7,11,7,9,10,10,11,12,11,6,12,5,12,11,5,6,12,4,9,11,12,12,9,12,7,12,6,12,7,10,12,11,4,7,11,12,7,9,12,7,11,12,12,12,12,4,9,9,8,8,12,8,12,3,5,12,12,6,11,7,11,11,12,12,11,12,5,10,10,6,12,5,5,12,10,12,10,11,12,10,10,12,7,3,7,12,11,11,12,12,12,10,6,12,12,12,12,5,12,12,10,11,9,5,5,12,6,12,10,5,12,11,12,12,11,6,10,10,9,11,12,12,8,8,7,7,9,10,10,11,10,8,12,7,8,9,11,12,10,7,6,8,8,9,6,4,11,10,12,5,12,7,11,11,12,10,12,8,11,9,6,12,7,10,9,10,10,12,9,11,11,6,5,11,9,11,12,11,9,9,5,6,11,6,10,9,9,12,9,3,12,10,11,12,7,9,5,7,12,10,11,11,9,8,7,12,6,12,12,12,9,7,12,5,11,11,12,9,11,12,7,8,12,12,6,6,12,9,10,12,12,10,7,12,12,10,12,11,12,4,9,12,12,12,8,8,11,7,12,11,11,11,9,11,9,3,9,7,11,12,12,6,2,11,7,11,10,8,6,10,12,12,3,9,11,11,12,6,5,9,11,8,4,10,10,10,5,8,10,8,2,12,6,8,11,10,9,11,8,8,9,8,9,12,10,8,11,8,7,10,12,6,6,8,8,11,11,11,4,10,10,10,11,5,11,12,12,11,8,5,9,9,8,8,8,6,6,4,9,11,10,5,9,8,9,12,8,8,8,11,10,11,11,10,8,3,11,8,9,11,11,6,11,8,12,4,8,8,8,7,11,8,11,6,12,7,3,6,11,6,8,11,11,11,11,10,11,11,7,5,10,8,11,6,8,8,9,9,11,11,10,10,10,11,11,8,5,9,9,7,7,7,7,10,11,10,5,10,10,8,7,7,9,10,8,11,12,10,9,11,8,7,9,11,8,11,6,8,9,11,11,8,9,12,10,10,11,11,11,5,8,11,10,10,10,11,5,8,11,11,11,6,9,11,6,9,8,10,11,7,10,11,11,11,11,8,11,9,9,11,10,11,10,11,12,9,5,11,8,11,6,11,4,9,6,10,7,9,10,10,7,10,7,11,10,9,8,11,11,10,11,9,3,8,6,5,11,8,9,10,11,3,11,11,11,10,7,8,5,11,7,11,11,9,9,11,8,10,11,11,11,11,8,11,11,11,11,11,11,11,10,10,11,11,12,10,8,10,11,10,10,6,9,8,6,11,11,10,9,10,6,8,11,7,8,7,10,11,5,11,11,11,9,11,8,5,11,11,11,8,11,12,10,11,8,11,7,10,9,6,10,7,10,12,9,10,11,6,4,9,9,6,12,9,6,10,11,7,7,10,11,11,10,11,9,9,11,6,3,6,7,10,9,10,6,8,11,7,9,11,10,6,10,9,10,10,10,11,4,9,11,8,12,11,10,11,9,9,9,7,7,10,9,7,10,8,8,10,8,10,10,6,6,9,4,10,10,8,11,7,5,6,10,3,9,9,10,8,10,10,5,9,9,10,10,5,10,8,10,10,8,8,11,8,8,9,8,10,8,9,10,10,10,10,7,10,7,10,9,6,9,5,4,9,10,8,10,10,6,6,10,9,10,6,6,5,8,9,5,8,8,6,6,10,4,7,6,6,9,6,4,7,10,8,9,7,10,5,9,9,9,7,9,8,9,7,8,9,7,7,8,5,7,10,5,8,10,8,10,7,8,8,9,9,6,8,8,4,7,9,9,9,9,6,11,10,8,4,9,4,10,8,8,10,8,9,9,9,7,9,12,10,9,6,8,7,9,4,9,9,10,9,8,8,9,9,9,9,9,10,4,8,9,3,5,9,8,4,9,9,9,9,11,12,3,6,8,4,6,2,6,6,9,10,8,5,10,10,10,9,9,4,8,9,7,5,9,9,5,8,9,9,6,6,7,9,4,7,5,7,10,9,9,4,9,9,5,6,9,11,6,6,9,9,8,9,8,7,8,6,8,7,8,9,6,2,9,5,7,6,6,4,7,4,7,5,6,6,7,5,7,7,4,7,2,6,7,5,7,7,7,7,6,4,7,5,7,7,4,9,7,6,5,2,7,7,6,7,7,6,6,4,6,5,7,7,7,11,5,4,6,7,5,6,5,7,6,7,7,7,6,6,6,7,2,5,3,2,7,7,4,5,6,6,7,6,5,7,7,5,5,6,4,7,7,7,7,4,5,6,6,5,7,5,6,5,7,7,6,11,7,7,2,5,4,7,7,5,7,3,5,6,6,5,7,9,8,3,5,6,3,6,7,7],\"type\":\"box\",\"xaxis\":\"x4\",\"yaxis\":\"y4\"},{\"marker\":{\"color\":\"gold\"},\"name\":\"\\u0413\\u043e\\u0440\\u043e\\u0434\\u0430\",\"x\":[\"1\",\"2\",\"3\"],\"y\":[1483,102,6],\"type\":\"bar\",\"xaxis\":\"x5\",\"yaxis\":\"y5\"},{\"marker\":{\"color\":\"purple\"},\"name\":\"\\u0420\\u0435\\u0430\\u043a\\u0446\\u0438\\u0438 \\u043d\\u0430 \\u043a\\u043e\\u043c\\u043c\\u0443\\u043d\\u0438\\u043a\\u0430\\u0446\\u0438\\u0438\",\"nbinsx\":3,\"x\":[1,0,0,1,1,1,1,1,0,0,0,0,0,1,0,1,0,1,1,1,0,1,1,1,1,1,1,1,1,0,1,1,1,0,1,1,0,0,1,1,0,1,1,1,1,1,1,1,1,1,0,1,1,0,0,1,1,0,1,1,1,1,1,1,0,1,1,1,1,1,1,1,1,1,1,1,0,0,1,1,0,1,0,1,1,0,0,1,1,1,1,1,0,0,0,1,1,1,1,1,1,0,1,1,1,0,1,0,1,1,1,1,0,0,0,1,1,1,1,1,1,1,1,1,0,1,0,0,1,1,1,0,1,1,0,0,0,1,1,1,1,1,1,1,1,1,1,1,1,1,1,1,1,1,0,0,1,1,1,1,0,1,1,0,1,1,1,0,0,1,1,1,0,0,1,1,1,1,1,1,1,1,1,1,1,1,1,1,1,1,0,1,0,1,0,0,1,1,1,1,1,1,1,1,1,1,0,1,1,1,1,1,1,1,1,1,1,1,1,0,0,1,0,1,0,0,0,1,1,1,1,0,1,1,0,1,1,1,0,1,1,0,0,0,1,0,0,0,1,1,1,0,1,0,1,1,1,1,1,1,1,1,0,0,0,0,1,0,1,1,0,1,1,1,0,1,1,1,1,1,0,1,1,1,0,1,0,1,1,0,1,1,1,1,1,1,0,0,0,0,1,1,1,1,1,0,1,1,1,1,0,0,0,1,0,1,1,1,0,1,1,1,1,0,1,1,1,1,1,1,1,0,1,1,1,0,0,0,1,0,1,1,1,1,1,0,1,0,0,1,1,0,1,1,1,1,1,1,1,1,1,0,0,1,1,1,0,1,1,0,0,0,0,1,1,1,1,1,1,0,0,0,0,1,0,1,1,1,1,1,1,1,1,1,1,1,0,1,1,1,1,1,0,1,1,1,1,1,1,0,1,1,0,0,1,1,1,1,1,1,1,1,1,1,1,1,1,1,0,1,0,0,1,1,0,0,0,1,1,0,0,0,1,1,1,0,1,1,1,1,1,0,1,1,0,0,0,0,1,0,1,1,1,0,1,0,1,1,1,0,1,1,1,1,1,1,1,0,0,1,1,1,0,1,1,1,1,0,1,1,1,0,0,1,1,1,1,1,1,1,1,1,1,1,1,0,1,1,0,1,0,1,1,1,0,0,0,0,0,1,1,1,1,1,1,1,0,0,1,1,1,1,1,1,1,1,1,1,1,1,1,0,1,1,0,1,1,1,1,0,1,1,1,0,1,1,1,1,1,1,1,1,1,1,0,0,1,0,1,1,0,1,1,1,1,1,1,0,0,0,0,1,1,1,1,1,1,0,0,1,1,1,0,1,1,1,1,1,0,0,1,1,1,1,1,0,1,0,1,1,1,1,0,0,1,1,1,0,1,0,0,1,0,1,1,0,1,0,1,1,1,0,1,1,1,1,1,1,1,1,1,1,1,1,1,1,1,1,1,1,0,0,1,1,1,1,0,1,1,0,1,1,1,0,1,1,1,1,1,0,0,0,0,0,1,1,1,1,0,1,1,1,1,1,1,1,0,1,1,0,1,0,1,1,1,0,1,1,1,1,1,1,1,1,0,1,1,1,1,1,0,0,1,1,1,1,1,1,1,1,1,1,1,1,0,1,1,1,1,1,0,1,1,1,1,0,0,1,1,1,1,0,1,1,1,0,1,1,0,1,1,1,1,1,1,1,1,0,0,1,1,1,1,1,1,1,1,1,1,0,1,1,0,1,1,0,0,1,1,0,1,1,1,1,1,1,0,0,1,1,0,1,1,1,1,1,1,1,1,0,1,0,1,1,1,1,1,1,0,1,1,1,1,1,1,0,1,0,1,1,1,1,1,1,1,1,1,0,1,1,1,1,1,0,1,1,1,1,1,1,1,1,0,1,1,1,1,1,1,1,0,0,0,1,0,0,1,0,1,1,0,1,1,1,0,1,1,0,1,1,0,1,1,1,1,1,0,0,1,0,1,0,0,1,1,1,1,1,0,1,1,1,1,1,1,1,0,1,1,1,1,1,0,0,1,1,1,1,0,1,1,0,1,1,1,1,0,0,1,0,1,0,0,1,1,1,1,0,1,0,1,0,1,1,1,0,1,0,1,1,1,1,0,1,1,1,1,0,0,1,0,1,0,0,0,1,1,1,1,1,1,1,1,0,1,1,1,1,0,1,1,1,1,1,1,1,0,0,0,1,0,1,1,1,0,1,1,0,1,1,1,1,1,0,1,0,1,1,0,1,1,1,1,1,1,1,0,1,1,1,1,1,1,0,0,1,1,1,0,0,1,1,1,0,1,1,0,1,1,1,1,1,0,1,1,0,1,1,1,1,1,1,0,1,1,1,1,1,0,0,1,0,1,1,1,1,1,0,0,1,1,1,0,1,1,1,0,1,1,1,1,0,1,1,0,0,1,1,1,1,1,1,1,0,0,0,1,0,1,1,1,1,1,0,1,1,1,1,1,1,1,1,1,1,1,1,1,1,1,1,1,1,1,0,1,0,1,1,1,1,1,1,1,1,1,0,1,1,0,1,1,1,1,1,0,1,1,1,1,0,1,0,0,1,0,1,0,1,1,1,1,0,1,0,1,1,0,1,1,1,1,0,1,1,0,1,1,1,0,1,1,1,1,1,0,1,0,1,1,1,1,1,0,1,1,0,0,1,1,1,1,0,1,1,1,1,1,1,0,0,1,1,1,1,1,1,0,1,0,1,1,1,1,0,1,1,1,0,1,0,0,1,0,0,1,0,0,1,0,0,1,0,1,0,0,0,0,0,1,1,0,1,1,0,0,1,1,1,1,0,1,0,0,0,0,1,0,1,1,1,0,1,0,0,1,0,0,1,1,1,1,0,1,0,0,0,1,0,0,1,0,1,1,0,1,0,0,1,0,1,1,1,0,0,1,0,0,0,1,0,1,0,0,0,1,1,0,0,0,1,1,1,0,0,1,0,1,1,1,1,1,0,0,0,1,1,0,1,0,0,1,0,0,0,0,1,0,0,1,1,0,0,0,1,0,1,0,1,1,0,0,1,1,1,0,0,1,1,0,1,1,0,0,0,1,0,0,0,0,1,1,1,1,1,0,0,1,0,1,0,0,1,1,1,1,1,1,0,0,1,1,1,1,1,0,1,1,1,1,0,0,0,1,0,0,0,0,0,0,1,1,0,0,0,1,1,0,1,0,1,1,0,1,1,1,0,0,0,1,1,1,1,1,1,1,1,1,1,1,0,0,0,1,1,1,1,0,1,1,1,1,1,0,0,0,1,0,1,0,0,0,0,0,0,1,1,1,1,1,0,1,1,1,1,1,0,1,0,1,1,0,1,1,0,1,0,1,0,0,1,1,1,1,1,1,1,0,1,1,1,1,1,0,1,1,0,1,1,1,1,1,1,1,1,0,1,1,1,0,1,1,1,0,1,1,0,1,1,1,1,1,1,1,1,1,1,0,1,1,1,1,0,1,1,1,1,1,1,1,1,1,0,1,0,1,1,1,0,1,1,1,1,1,1,1,1,1,0,1,1,1,1,1,1,1,1,1,1,1,1,1,0,0,1,1,1,1,1,1,1,0],\"type\":\"histogram\",\"xaxis\":\"x6\",\"yaxis\":\"y6\"}],                        {\"template\":{\"data\":{\"histogram2dcontour\":[{\"type\":\"histogram2dcontour\",\"colorbar\":{\"outlinewidth\":0,\"ticks\":\"\"},\"colorscale\":[[0.0,\"#0d0887\"],[0.1111111111111111,\"#46039f\"],[0.2222222222222222,\"#7201a8\"],[0.3333333333333333,\"#9c179e\"],[0.4444444444444444,\"#bd3786\"],[0.5555555555555556,\"#d8576b\"],[0.6666666666666666,\"#ed7953\"],[0.7777777777777778,\"#fb9f3a\"],[0.8888888888888888,\"#fdca26\"],[1.0,\"#f0f921\"]]}],\"choropleth\":[{\"type\":\"choropleth\",\"colorbar\":{\"outlinewidth\":0,\"ticks\":\"\"}}],\"histogram2d\":[{\"type\":\"histogram2d\",\"colorbar\":{\"outlinewidth\":0,\"ticks\":\"\"},\"colorscale\":[[0.0,\"#0d0887\"],[0.1111111111111111,\"#46039f\"],[0.2222222222222222,\"#7201a8\"],[0.3333333333333333,\"#9c179e\"],[0.4444444444444444,\"#bd3786\"],[0.5555555555555556,\"#d8576b\"],[0.6666666666666666,\"#ed7953\"],[0.7777777777777778,\"#fb9f3a\"],[0.8888888888888888,\"#fdca26\"],[1.0,\"#f0f921\"]]}],\"heatmap\":[{\"type\":\"heatmap\",\"colorbar\":{\"outlinewidth\":0,\"ticks\":\"\"},\"colorscale\":[[0.0,\"#0d0887\"],[0.1111111111111111,\"#46039f\"],[0.2222222222222222,\"#7201a8\"],[0.3333333333333333,\"#9c179e\"],[0.4444444444444444,\"#bd3786\"],[0.5555555555555556,\"#d8576b\"],[0.6666666666666666,\"#ed7953\"],[0.7777777777777778,\"#fb9f3a\"],[0.8888888888888888,\"#fdca26\"],[1.0,\"#f0f921\"]]}],\"heatmapgl\":[{\"type\":\"heatmapgl\",\"colorbar\":{\"outlinewidth\":0,\"ticks\":\"\"},\"colorscale\":[[0.0,\"#0d0887\"],[0.1111111111111111,\"#46039f\"],[0.2222222222222222,\"#7201a8\"],[0.3333333333333333,\"#9c179e\"],[0.4444444444444444,\"#bd3786\"],[0.5555555555555556,\"#d8576b\"],[0.6666666666666666,\"#ed7953\"],[0.7777777777777778,\"#fb9f3a\"],[0.8888888888888888,\"#fdca26\"],[1.0,\"#f0f921\"]]}],\"contourcarpet\":[{\"type\":\"contourcarpet\",\"colorbar\":{\"outlinewidth\":0,\"ticks\":\"\"}}],\"contour\":[{\"type\":\"contour\",\"colorbar\":{\"outlinewidth\":0,\"ticks\":\"\"},\"colorscale\":[[0.0,\"#0d0887\"],[0.1111111111111111,\"#46039f\"],[0.2222222222222222,\"#7201a8\"],[0.3333333333333333,\"#9c179e\"],[0.4444444444444444,\"#bd3786\"],[0.5555555555555556,\"#d8576b\"],[0.6666666666666666,\"#ed7953\"],[0.7777777777777778,\"#fb9f3a\"],[0.8888888888888888,\"#fdca26\"],[1.0,\"#f0f921\"]]}],\"surface\":[{\"type\":\"surface\",\"colorbar\":{\"outlinewidth\":0,\"ticks\":\"\"},\"colorscale\":[[0.0,\"#0d0887\"],[0.1111111111111111,\"#46039f\"],[0.2222222222222222,\"#7201a8\"],[0.3333333333333333,\"#9c179e\"],[0.4444444444444444,\"#bd3786\"],[0.5555555555555556,\"#d8576b\"],[0.6666666666666666,\"#ed7953\"],[0.7777777777777778,\"#fb9f3a\"],[0.8888888888888888,\"#fdca26\"],[1.0,\"#f0f921\"]]}],\"mesh3d\":[{\"type\":\"mesh3d\",\"colorbar\":{\"outlinewidth\":0,\"ticks\":\"\"}}],\"scatter\":[{\"fillpattern\":{\"fillmode\":\"overlay\",\"size\":10,\"solidity\":0.2},\"type\":\"scatter\"}],\"parcoords\":[{\"type\":\"parcoords\",\"line\":{\"colorbar\":{\"outlinewidth\":0,\"ticks\":\"\"}}}],\"scatterpolargl\":[{\"type\":\"scatterpolargl\",\"marker\":{\"colorbar\":{\"outlinewidth\":0,\"ticks\":\"\"}}}],\"bar\":[{\"error_x\":{\"color\":\"#2a3f5f\"},\"error_y\":{\"color\":\"#2a3f5f\"},\"marker\":{\"line\":{\"color\":\"#E5ECF6\",\"width\":0.5},\"pattern\":{\"fillmode\":\"overlay\",\"size\":10,\"solidity\":0.2}},\"type\":\"bar\"}],\"scattergeo\":[{\"type\":\"scattergeo\",\"marker\":{\"colorbar\":{\"outlinewidth\":0,\"ticks\":\"\"}}}],\"scatterpolar\":[{\"type\":\"scatterpolar\",\"marker\":{\"colorbar\":{\"outlinewidth\":0,\"ticks\":\"\"}}}],\"histogram\":[{\"marker\":{\"pattern\":{\"fillmode\":\"overlay\",\"size\":10,\"solidity\":0.2}},\"type\":\"histogram\"}],\"scattergl\":[{\"type\":\"scattergl\",\"marker\":{\"colorbar\":{\"outlinewidth\":0,\"ticks\":\"\"}}}],\"scatter3d\":[{\"type\":\"scatter3d\",\"line\":{\"colorbar\":{\"outlinewidth\":0,\"ticks\":\"\"}},\"marker\":{\"colorbar\":{\"outlinewidth\":0,\"ticks\":\"\"}}}],\"scattermapbox\":[{\"type\":\"scattermapbox\",\"marker\":{\"colorbar\":{\"outlinewidth\":0,\"ticks\":\"\"}}}],\"scatterternary\":[{\"type\":\"scatterternary\",\"marker\":{\"colorbar\":{\"outlinewidth\":0,\"ticks\":\"\"}}}],\"scattercarpet\":[{\"type\":\"scattercarpet\",\"marker\":{\"colorbar\":{\"outlinewidth\":0,\"ticks\":\"\"}}}],\"carpet\":[{\"aaxis\":{\"endlinecolor\":\"#2a3f5f\",\"gridcolor\":\"white\",\"linecolor\":\"white\",\"minorgridcolor\":\"white\",\"startlinecolor\":\"#2a3f5f\"},\"baxis\":{\"endlinecolor\":\"#2a3f5f\",\"gridcolor\":\"white\",\"linecolor\":\"white\",\"minorgridcolor\":\"white\",\"startlinecolor\":\"#2a3f5f\"},\"type\":\"carpet\"}],\"table\":[{\"cells\":{\"fill\":{\"color\":\"#EBF0F8\"},\"line\":{\"color\":\"white\"}},\"header\":{\"fill\":{\"color\":\"#C8D4E3\"},\"line\":{\"color\":\"white\"}},\"type\":\"table\"}],\"barpolar\":[{\"marker\":{\"line\":{\"color\":\"#E5ECF6\",\"width\":0.5},\"pattern\":{\"fillmode\":\"overlay\",\"size\":10,\"solidity\":0.2}},\"type\":\"barpolar\"}],\"pie\":[{\"automargin\":true,\"type\":\"pie\"}]},\"layout\":{\"autotypenumbers\":\"strict\",\"colorway\":[\"#636efa\",\"#EF553B\",\"#00cc96\",\"#ab63fa\",\"#FFA15A\",\"#19d3f3\",\"#FF6692\",\"#B6E880\",\"#FF97FF\",\"#FECB52\"],\"font\":{\"color\":\"#2a3f5f\"},\"hovermode\":\"closest\",\"hoverlabel\":{\"align\":\"left\"},\"paper_bgcolor\":\"white\",\"plot_bgcolor\":\"#E5ECF6\",\"polar\":{\"bgcolor\":\"#E5ECF6\",\"angularaxis\":{\"gridcolor\":\"white\",\"linecolor\":\"white\",\"ticks\":\"\"},\"radialaxis\":{\"gridcolor\":\"white\",\"linecolor\":\"white\",\"ticks\":\"\"}},\"ternary\":{\"bgcolor\":\"#E5ECF6\",\"aaxis\":{\"gridcolor\":\"white\",\"linecolor\":\"white\",\"ticks\":\"\"},\"baxis\":{\"gridcolor\":\"white\",\"linecolor\":\"white\",\"ticks\":\"\"},\"caxis\":{\"gridcolor\":\"white\",\"linecolor\":\"white\",\"ticks\":\"\"}},\"coloraxis\":{\"colorbar\":{\"outlinewidth\":0,\"ticks\":\"\"}},\"colorscale\":{\"sequential\":[[0.0,\"#0d0887\"],[0.1111111111111111,\"#46039f\"],[0.2222222222222222,\"#7201a8\"],[0.3333333333333333,\"#9c179e\"],[0.4444444444444444,\"#bd3786\"],[0.5555555555555556,\"#d8576b\"],[0.6666666666666666,\"#ed7953\"],[0.7777777777777778,\"#fb9f3a\"],[0.8888888888888888,\"#fdca26\"],[1.0,\"#f0f921\"]],\"sequentialminus\":[[0.0,\"#0d0887\"],[0.1111111111111111,\"#46039f\"],[0.2222222222222222,\"#7201a8\"],[0.3333333333333333,\"#9c179e\"],[0.4444444444444444,\"#bd3786\"],[0.5555555555555556,\"#d8576b\"],[0.6666666666666666,\"#ed7953\"],[0.7777777777777778,\"#fb9f3a\"],[0.8888888888888888,\"#fdca26\"],[1.0,\"#f0f921\"]],\"diverging\":[[0,\"#8e0152\"],[0.1,\"#c51b7d\"],[0.2,\"#de77ae\"],[0.3,\"#f1b6da\"],[0.4,\"#fde0ef\"],[0.5,\"#f7f7f7\"],[0.6,\"#e6f5d0\"],[0.7,\"#b8e186\"],[0.8,\"#7fbc41\"],[0.9,\"#4d9221\"],[1,\"#276419\"]]},\"xaxis\":{\"gridcolor\":\"white\",\"linecolor\":\"white\",\"ticks\":\"\",\"title\":{\"standoff\":15},\"zerolinecolor\":\"white\",\"automargin\":true,\"zerolinewidth\":2},\"yaxis\":{\"gridcolor\":\"white\",\"linecolor\":\"white\",\"ticks\":\"\",\"title\":{\"standoff\":15},\"zerolinecolor\":\"white\",\"automargin\":true,\"zerolinewidth\":2},\"scene\":{\"xaxis\":{\"backgroundcolor\":\"#E5ECF6\",\"gridcolor\":\"white\",\"linecolor\":\"white\",\"showbackground\":true,\"ticks\":\"\",\"zerolinecolor\":\"white\",\"gridwidth\":2},\"yaxis\":{\"backgroundcolor\":\"#E5ECF6\",\"gridcolor\":\"white\",\"linecolor\":\"white\",\"showbackground\":true,\"ticks\":\"\",\"zerolinecolor\":\"white\",\"gridwidth\":2},\"zaxis\":{\"backgroundcolor\":\"#E5ECF6\",\"gridcolor\":\"white\",\"linecolor\":\"white\",\"showbackground\":true,\"ticks\":\"\",\"zerolinecolor\":\"white\",\"gridwidth\":2}},\"shapedefaults\":{\"line\":{\"color\":\"#2a3f5f\"}},\"annotationdefaults\":{\"arrowcolor\":\"#2a3f5f\",\"arrowhead\":0,\"arrowwidth\":1},\"geo\":{\"bgcolor\":\"white\",\"landcolor\":\"#E5ECF6\",\"subunitcolor\":\"white\",\"showland\":true,\"showlakes\":true,\"lakecolor\":\"white\"},\"title\":{\"x\":0.05},\"mapbox\":{\"style\":\"light\"}}},\"xaxis\":{\"anchor\":\"y\",\"domain\":[0.0,0.2888888888888889]},\"yaxis\":{\"anchor\":\"x\",\"domain\":[0.625,1.0]},\"xaxis2\":{\"anchor\":\"y2\",\"domain\":[0.35555555555555557,0.6444444444444445]},\"yaxis2\":{\"anchor\":\"x2\",\"domain\":[0.625,1.0]},\"xaxis3\":{\"anchor\":\"y3\",\"domain\":[0.7111111111111111,1.0]},\"yaxis3\":{\"anchor\":\"x3\",\"domain\":[0.625,1.0]},\"xaxis4\":{\"anchor\":\"y4\",\"domain\":[0.0,0.2888888888888889]},\"yaxis4\":{\"anchor\":\"x4\",\"domain\":[0.0,0.375]},\"xaxis5\":{\"anchor\":\"y5\",\"domain\":[0.35555555555555557,0.6444444444444445]},\"yaxis5\":{\"anchor\":\"x5\",\"domain\":[0.0,0.375]},\"xaxis6\":{\"anchor\":\"y6\",\"domain\":[0.7111111111111111,1.0]},\"yaxis6\":{\"anchor\":\"x6\",\"domain\":[0.0,0.375]},\"annotations\":[{\"font\":{\"size\":16},\"showarrow\":false,\"text\":\"\\u0420\\u0430\\u0441\\u043f\\u0440\\u0435\\u0434\\u0435\\u043b\\u0435\\u043d\\u0438\\u0435 \\u043f\\u043e \\u043f\\u043e\\u043b\\u0443\",\"x\":0.14444444444444446,\"xanchor\":\"center\",\"xref\":\"paper\",\"y\":1.0,\"yanchor\":\"bottom\",\"yref\":\"paper\"},{\"font\":{\"size\":16},\"showarrow\":false,\"text\":\"\\u0420\\u0430\\u0441\\u043f\\u0440\\u0435\\u0434\\u0435\\u043b\\u0435\\u043d\\u0438\\u0435 \\u043f\\u043e \\u0432\\u043e\\u0437\\u0440\\u0430\\u0441\\u0442\\u0443 (\\u0436\\u0435\\u043d\\u0449\\u0438\\u043d\\u044b)\",\"x\":0.5,\"xanchor\":\"center\",\"xref\":\"paper\",\"y\":1.0,\"yanchor\":\"bottom\",\"yref\":\"paper\"},{\"font\":{\"size\":16},\"showarrow\":false,\"text\":\"\\u0420\\u0430\\u0441\\u043f\\u0440\\u0435\\u0434\\u0435\\u043b\\u0435\\u043d\\u0438\\u0435 \\u043f\\u043e \\u0432\\u043e\\u0437\\u0440\\u0430\\u0441\\u0442\\u0443 (\\u043c\\u0443\\u0436\\u0447\\u0438\\u043d\\u044b)\",\"x\":0.8555555555555556,\"xanchor\":\"center\",\"xref\":\"paper\",\"y\":1.0,\"yanchor\":\"bottom\",\"yref\":\"paper\"},{\"font\":{\"size\":16},\"showarrow\":false,\"text\":\"\\u0420\\u0430\\u0441\\u043f\\u0440\\u0435\\u0434\\u0435\\u043b\\u0435\\u043d\\u0438\\u0435 \\u0441\\u0442\\u0430\\u0436\\u0430 \\u043a\\u043b\\u0438\\u0435\\u043d\\u0442\\u043e\\u0432\",\"x\":0.14444444444444446,\"xanchor\":\"center\",\"xref\":\"paper\",\"y\":0.375,\"yanchor\":\"bottom\",\"yref\":\"paper\"},{\"font\":{\"size\":16},\"showarrow\":false,\"text\":\"\\u041a\\u043e\\u043b\\u0438\\u0447\\u0435\\u0441\\u0442\\u0432\\u043e \\u0433\\u043e\\u0440\\u043e\\u0434\\u043e\\u0432 \\u043f\\u043e\\u043a\\u0443\\u043f\\u043e\\u043a\",\"x\":0.5,\"xanchor\":\"center\",\"xref\":\"paper\",\"y\":0.375,\"yanchor\":\"bottom\",\"yref\":\"paper\"},{\"font\":{\"size\":16},\"showarrow\":false,\"text\":\"\\u0420\\u0430\\u0441\\u043f\\u0440\\u0435\\u0434\\u0435\\u043b\\u0435\\u043d\\u0438\\u0435 \\u043f\\u043e \\u0440\\u0435\\u0430\\u043a\\u0446\\u0438\\u044f\\u043c \\u043d\\u0430 \\u043a\\u043e\\u043c\\u043c\\u0443\\u043d\\u0438\\u043a\\u0430\\u0446\\u0438\\u0438\",\"x\":0.8555555555555556,\"xanchor\":\"center\",\"xref\":\"paper\",\"y\":0.375,\"yanchor\":\"bottom\",\"yref\":\"paper\"}],\"title\":{\"text\":\"\\u0418\\u043d\\u0444\\u043e\\u0440\\u043c\\u0430\\u0446\\u0438\\u044f \\u043e \\u043a\\u043b\\u044e\\u0447\\u0435\\u0432\\u044b\\u0445 \\u043a\\u043b\\u0438\\u0435\\u043d\\u0442\\u0430\\u0445\"},\"height\":800,\"showlegend\":false},                        {\"responsive\": true}                    ).then(function(){\n",
       "                            \n",
       "var gd = document.getElementById('09ca5d98-635c-48cc-a26c-6773b4aa2d9f');\n",
       "var x = new MutationObserver(function (mutations, observer) {{\n",
       "        var display = window.getComputedStyle(gd).display;\n",
       "        if (!display || display === 'none') {{\n",
       "            console.log([gd, 'removed!']);\n",
       "            Plotly.purge(gd);\n",
       "            observer.disconnect();\n",
       "        }}\n",
       "}});\n",
       "\n",
       "// Listen for the removal of the full notebook cells\n",
       "var notebookContainer = gd.closest('#notebook-container');\n",
       "if (notebookContainer) {{\n",
       "    x.observe(notebookContainer, {childList: true});\n",
       "}}\n",
       "\n",
       "// Listen for the clearing of the current output cell\n",
       "var outputEl = gd.closest('.output');\n",
       "if (outputEl) {{\n",
       "    x.observe(outputEl, {childList: true});\n",
       "}}\n",
       "\n",
       "                        })                };                });            </script>        </div>"
      ]
     },
     "metadata": {},
     "output_type": "display_data"
    }
   ],
   "source": [
    "# делаю визуализации с выводом инфы о ключевых клиентах\n",
    "# использую plotly как любимый инструмент :)\n",
    "fig = make_subplots(\n",
    "    rows=2, cols=3,\n",
    "    subplot_titles=(\n",
    "        'Распределение по полу',\n",
    "        'Распределение по возрасту (женщины)',\n",
    "        'Распределение по возрасту (мужчины)',\n",
    "        'Распределение стажа клиентов',\n",
    "        'Количество городов покупок',\n",
    "        'Распределение по реакциям на коммуникации'\n",
    "    )\n",
    ")\n",
    "\n",
    "### распределение по полу\n",
    "gender_dist = key_customers['Gender'].value_counts(normalize=True).mul(100).round(1)\n",
    "fig.add_trace(\n",
    "    go.Bar(\n",
    "        x=gender_dist.index,\n",
    "        y=gender_dist.values,\n",
    "        marker_color=['blue', 'pink'],\n",
    "        name='Пол'\n",
    "    ),\n",
    "    row=1, col=1\n",
    ")\n",
    "\n",
    "### распределение по возрасту (женщины)\n",
    "fig.add_trace(\n",
    "    go.Histogram(\n",
    "        x=key_customers[key_customers['Gender'] == 'F']['Age'],\n",
    "        nbinsx=20,\n",
    "        marker_color='salmon',\n",
    "        name='Возраст женщин'\n",
    "    ),\n",
    "    row=1, col=2\n",
    ")\n",
    "\n",
    "### распределение по возрасту (мужчины)\n",
    "fig.add_trace(\n",
    "    go.Histogram(\n",
    "        x=key_customers[key_customers['Gender'] == 'M']['Age'],\n",
    "        nbinsx=20,\n",
    "        marker_color='orange',\n",
    "        name='Возраст мужчин'\n",
    "    ),\n",
    "    row=1, col=3\n",
    ")\n",
    "\n",
    "### распределение стажа\n",
    "fig.add_trace(\n",
    "    go.Box(\n",
    "        y=key_customers['Tenure'],\n",
    "        name='Стаж',\n",
    "        marker_color='lightgreen'\n",
    "    ),\n",
    "    row=2, col=1\n",
    ")\n",
    "\n",
    "### количество городов\n",
    "city_counts = key_customers['Count_city'].value_counts().head(5)\n",
    "fig.add_trace(\n",
    "    go.Bar(\n",
    "        x=city_counts.index.astype(str),\n",
    "        y=city_counts.values,\n",
    "        marker_color='gold',\n",
    "        name='Города'\n",
    "    ),\n",
    "    row=2, col=2\n",
    ")\n",
    "\n",
    "### распределение реакций на коммуникации\n",
    "fig.add_trace(\n",
    "    go.Histogram(\n",
    "        x=key_customers['Response_communcation'],\n",
    "        nbinsx=3,\n",
    "        marker_color='purple',\n",
    "        name='Реакции на коммуникации'\n",
    "    ),\n",
    "    row=2, col=3\n",
    ")\n",
    "\n",
    "fig.update_layout(\n",
    "    title_text='Информация о ключевых клиентах',\n",
    "    height=800,\n",
    "    showlegend=False\n",
    ")\n",
    "fig.show()"
   ]
  },
  {
   "cell_type": "markdown",
   "id": "5ce1da08-0f35-4541-a0c0-3c7fff149c72",
   "metadata": {},
   "source": [
    "### **Общие выводы по ключевым клиентам**\n",
    "\n",
    "1. Доля клиентов, которые оформляли подписку 3 и более месяцев подряд, является незначительной: так, за период с июня 2015 по июнь 2016 доля ключевых клиентах среди всех, кто осуществлял транзакции, составляет 13%.\n",
    "2. Несмотря на малочисленность, эти клиенты приносят наибольшую прибыль — 96% выручки поступает от них.\n",
    "3. Большинство ключевых клиентов женского пола. Преобладающий возраст — от 25 до 29 лет. Однако распределение по возрасту для женщин и для мужчин различается: если у мужчин после 29 тренд убывающий, то для женщин тренд скачкообразный, например, женщины в возрасте 50-54 покупают активнее, чем женщины в возрасте 45-49.\n",
    "4. Медианный стаж ключевых клиентов составляет 9 месяцев.\n",
    "5. Преобладающее большинство ключевых клиентов осуществляло покупки в 1 городе.\n",
    "6. Число ключевых клиентов с положительной реакцией на коммуникации более чем в 2 раза больше, чем число неотреагировавших ключевых клиентов."
   ]
  },
  {
   "cell_type": "markdown",
   "id": "39e4bd40-397a-45e0-bfe1-9c18c2001209",
   "metadata": {},
   "source": [
    "### **2. Помесячный анализ. Рассчитайте среднюю сумму платежа, среднее количество транзакций, среднее количество активных клиентов, долю операций в каждом месяце от общего количества за год, долю месячной выручки от общей суммы, половой состав (M/F/NA) с их долей в каждом месяце. Сделайте краткие выводы с акцентом на интересные моменты**"
   ]
  },
  {
   "cell_type": "code",
   "execution_count": 196,
   "id": "b4b150bb-a2bb-4d96-82e7-a4d75f8daf8a",
   "metadata": {},
   "outputs": [],
   "source": [
    "# вывожу всякие статистики\n",
    "monthly_analysis = transactions.groupby(transactions['date_new']).agg(\n",
    "    avg_payment=('Sum_payment', 'mean'),\n",
    "    avg_transactions=('Id_check', 'count'),\n",
    "    n_active_clients=('ID_client', 'nunique'),\n",
    "    transaction_share=('Id_check', lambda x: len(x) / len(transactions) * 100),\n",
    "    revenue_share=('Sum_payment', lambda x: x.sum() / total_revenue * 100)\n",
    ").reset_index()"
   ]
  },
  {
   "cell_type": "code",
   "execution_count": 208,
   "id": "38ceb9c0-e6ba-439a-b768-fb8ef6f14717",
   "metadata": {},
   "outputs": [],
   "source": [
    "# по гендерам\n",
    "gender_monthly = pd.merge(transactions, customers, left_on='ID_client', right_on='Id_client', how='left')\n",
    "gender_monthly = gender_monthly.groupby(['date_new', 'Gender']).size().unstack().fillna(0)\n",
    "gender_monthly = gender_monthly.div(gender_monthly.sum(axis=1), axis=0) * 100"
   ]
  },
  {
   "cell_type": "code",
   "execution_count": 209,
   "id": "b47725c6-4313-417b-8bad-1a199f7ce692",
   "metadata": {},
   "outputs": [
    {
     "data": {
      "application/vnd.plotly.v1+json": {
       "config": {
        "plotlyServerURL": "https://plot.ly"
       },
       "data": [
        {
         "type": "scatter",
         "x": [
          "2015-06-01T00:00:00",
          "2015-07-01T00:00:00",
          "2015-08-01T00:00:00",
          "2015-09-01T00:00:00",
          "2015-10-01T00:00:00",
          "2015-11-01T00:00:00",
          "2015-12-01T00:00:00",
          "2016-01-01T00:00:00",
          "2016-02-01T00:00:00",
          "2016-03-01T00:00:00",
          "2016-04-01T00:00:00",
          "2016-05-01T00:00:00",
          "2016-06-01T00:00:00"
         ],
         "xaxis": "x",
         "y": [
          9.351090400745573,
          9.256186483483178,
          9.06225987331695,
          9.275304044431785,
          9.31989923839051,
          9.229525917255001,
          9.324652987130863,
          9.058434650956126,
          10.014683854361273,
          9.895857446611815,
          9.582738457570287,
          9.606621344756938,
          9.621797990481227
         ],
         "yaxis": "y"
        },
        {
         "type": "scatter",
         "x": [
          "2015-06-01T00:00:00",
          "2015-07-01T00:00:00",
          "2015-08-01T00:00:00",
          "2015-09-01T00:00:00",
          "2015-10-01T00:00:00",
          "2015-11-01T00:00:00",
          "2015-12-01T00:00:00",
          "2016-01-01T00:00:00",
          "2016-02-01T00:00:00",
          "2016-03-01T00:00:00",
          "2016-04-01T00:00:00",
          "2016-05-01T00:00:00",
          "2016-06-01T00:00:00"
         ],
         "xaxis": "x2",
         "y": [
          3219,
          29697,
          28891,
          28088,
          29674,
          27337,
          30849,
          30383,
          48174,
          43268,
          38770,
          42952,
          37820
         ],
         "yaxis": "y2"
        },
        {
         "type": "scatter",
         "x": [
          "2015-06-01T00:00:00",
          "2015-07-01T00:00:00",
          "2015-08-01T00:00:00",
          "2015-09-01T00:00:00",
          "2015-10-01T00:00:00",
          "2015-11-01T00:00:00",
          "2015-12-01T00:00:00",
          "2016-01-01T00:00:00",
          "2016-02-01T00:00:00",
          "2016-03-01T00:00:00",
          "2016-04-01T00:00:00",
          "2016-05-01T00:00:00",
          "2016-06-01T00:00:00"
         ],
         "xaxis": "x3",
         "y": [
          224,
          939,
          907,
          901,
          967,
          918,
          1032,
          991,
          1254,
          1181,
          1089,
          1179,
          1139
         ],
         "yaxis": "y3"
        },
        {
         "marker": {
          "color": "lightblue"
         },
         "type": "bar",
         "x": [
          "2015-06-01T00:00:00",
          "2015-07-01T00:00:00",
          "2015-08-01T00:00:00",
          "2015-09-01T00:00:00",
          "2015-10-01T00:00:00",
          "2015-11-01T00:00:00",
          "2015-12-01T00:00:00",
          "2016-01-01T00:00:00",
          "2016-02-01T00:00:00",
          "2016-03-01T00:00:00",
          "2016-04-01T00:00:00",
          "2016-05-01T00:00:00",
          "2016-06-01T00:00:00"
         ],
         "xaxis": "x4",
         "y": [
          0.7680341284876481,
          7.085526409971321,
          6.89321963533291,
          6.7016286427340965,
          7.080038747667744,
          6.522444538821631,
          7.360386713176593,
          7.24920190302585,
          11.494027991849629,
          10.323485763095231,
          9.250289891726036,
          10.248090054924342,
          9.023625579186966
         ],
         "yaxis": "y4"
        },
        {
         "type": "bar",
         "x": [
          "2015-06-01T00:00:00",
          "2015-07-01T00:00:00",
          "2015-08-01T00:00:00",
          "2015-09-01T00:00:00",
          "2015-10-01T00:00:00",
          "2015-11-01T00:00:00",
          "2015-12-01T00:00:00",
          "2016-01-01T00:00:00",
          "2016-02-01T00:00:00",
          "2016-03-01T00:00:00",
          "2016-04-01T00:00:00",
          "2016-05-01T00:00:00",
          "2016-06-01T00:00:00"
         ],
         "xaxis": "x5",
         "y": [
          0.7567414752040169,
          6.91049217848452,
          6.582083559889271,
          6.549577360963596,
          6.9526699652468675,
          6.342997664944184,
          7.231661247420738,
          6.919076212345954,
          12.128700091608193,
          10.764269354880202,
          9.340061613628269,
          10.373334176091292,
          9.148335099292884
         ],
         "yaxis": "y5"
        },
        {
         "marker": {
          "color": "pink"
         },
         "name": "F",
         "type": "bar",
         "x": [
          "2015-06-01",
          "2015-07-01",
          "2015-08-01",
          "2015-09-01",
          "2015-10-01",
          "2015-11-01",
          "2015-12-01",
          "2016-01-01",
          "2016-02-01",
          "2016-03-01",
          "2016-04-01",
          "2016-05-01",
          "2016-06-01"
         ],
         "xaxis": "x6",
         "y": [
          70.97902097902097,
          74.17300609273347,
          76.98471793780803,
          76.7686389448617,
          74.80344827586207,
          74.6899936312891,
          72.31520223152023,
          72.4337105218713,
          72.17642033319095,
          73.95694734841285,
          73.70486239991516,
          72.39626828278972,
          73.8636054514295
         ],
         "yaxis": "y6"
        },
        {
         "marker": {
          "color": "blue"
         },
         "name": "M",
         "type": "bar",
         "x": [
          "2015-06-01",
          "2015-07-01",
          "2015-08-01",
          "2015-09-01",
          "2015-10-01",
          "2015-11-01",
          "2015-12-01",
          "2016-01-01",
          "2016-02-01",
          "2016-03-01",
          "2016-04-01",
          "2016-05-01",
          "2016-06-01"
         ],
         "xaxis": "x6",
         "y": [
          29.02097902097902,
          25.826993907266534,
          23.015282062191964,
          23.231361055138304,
          25.196551724137933,
          25.310006368710898,
          27.684797768479775,
          27.5662894781287,
          27.823579666809056,
          26.04305265158715,
          26.29513760008484,
          27.603731717210277,
          26.136394548570497
         ],
         "yaxis": "y6"
        }
       ],
       "layout": {
        "annotations": [
         {
          "font": {
           "size": 16
          },
          "showarrow": false,
          "text": "Средняя сумма платежа",
          "x": 0.225,
          "xanchor": "center",
          "xref": "paper",
          "y": 1,
          "yanchor": "bottom",
          "yref": "paper"
         },
         {
          "font": {
           "size": 16
          },
          "showarrow": false,
          "text": "Среднее количество транзакций",
          "x": 0.775,
          "xanchor": "center",
          "xref": "paper",
          "y": 1,
          "yanchor": "bottom",
          "yref": "paper"
         },
         {
          "font": {
           "size": 16
          },
          "showarrow": false,
          "text": "Среднее количество активных клиентов",
          "x": 0.225,
          "xanchor": "center",
          "xref": "paper",
          "y": 0.6111111111111112,
          "yanchor": "bottom",
          "yref": "paper"
         },
         {
          "font": {
           "size": 16
          },
          "showarrow": false,
          "text": "Доля операций",
          "x": 0.775,
          "xanchor": "center",
          "xref": "paper",
          "y": 0.6111111111111112,
          "yanchor": "bottom",
          "yref": "paper"
         },
         {
          "font": {
           "size": 16
          },
          "showarrow": false,
          "text": "Доля выручки",
          "x": 0.225,
          "xanchor": "center",
          "xref": "paper",
          "y": 0.22222222222222224,
          "yanchor": "bottom",
          "yref": "paper"
         },
         {
          "font": {
           "size": 16
          },
          "showarrow": false,
          "text": "Половой состав",
          "x": 0.775,
          "xanchor": "center",
          "xref": "paper",
          "y": 0.22222222222222224,
          "yanchor": "bottom",
          "yref": "paper"
         }
        ],
        "autosize": true,
        "showlegend": false,
        "template": {
         "data": {
          "bar": [
           {
            "error_x": {
             "color": "#2a3f5f"
            },
            "error_y": {
             "color": "#2a3f5f"
            },
            "marker": {
             "line": {
              "color": "#E5ECF6",
              "width": 0.5
             },
             "pattern": {
              "fillmode": "overlay",
              "size": 10,
              "solidity": 0.2
             }
            },
            "type": "bar"
           }
          ],
          "barpolar": [
           {
            "marker": {
             "line": {
              "color": "#E5ECF6",
              "width": 0.5
             },
             "pattern": {
              "fillmode": "overlay",
              "size": 10,
              "solidity": 0.2
             }
            },
            "type": "barpolar"
           }
          ],
          "carpet": [
           {
            "aaxis": {
             "endlinecolor": "#2a3f5f",
             "gridcolor": "white",
             "linecolor": "white",
             "minorgridcolor": "white",
             "startlinecolor": "#2a3f5f"
            },
            "baxis": {
             "endlinecolor": "#2a3f5f",
             "gridcolor": "white",
             "linecolor": "white",
             "minorgridcolor": "white",
             "startlinecolor": "#2a3f5f"
            },
            "type": "carpet"
           }
          ],
          "choropleth": [
           {
            "colorbar": {
             "outlinewidth": 0,
             "ticks": ""
            },
            "type": "choropleth"
           }
          ],
          "contour": [
           {
            "colorbar": {
             "outlinewidth": 0,
             "ticks": ""
            },
            "colorscale": [
             [
              0,
              "#0d0887"
             ],
             [
              0.1111111111111111,
              "#46039f"
             ],
             [
              0.2222222222222222,
              "#7201a8"
             ],
             [
              0.3333333333333333,
              "#9c179e"
             ],
             [
              0.4444444444444444,
              "#bd3786"
             ],
             [
              0.5555555555555556,
              "#d8576b"
             ],
             [
              0.6666666666666666,
              "#ed7953"
             ],
             [
              0.7777777777777778,
              "#fb9f3a"
             ],
             [
              0.8888888888888888,
              "#fdca26"
             ],
             [
              1,
              "#f0f921"
             ]
            ],
            "type": "contour"
           }
          ],
          "contourcarpet": [
           {
            "colorbar": {
             "outlinewidth": 0,
             "ticks": ""
            },
            "type": "contourcarpet"
           }
          ],
          "heatmap": [
           {
            "colorbar": {
             "outlinewidth": 0,
             "ticks": ""
            },
            "colorscale": [
             [
              0,
              "#0d0887"
             ],
             [
              0.1111111111111111,
              "#46039f"
             ],
             [
              0.2222222222222222,
              "#7201a8"
             ],
             [
              0.3333333333333333,
              "#9c179e"
             ],
             [
              0.4444444444444444,
              "#bd3786"
             ],
             [
              0.5555555555555556,
              "#d8576b"
             ],
             [
              0.6666666666666666,
              "#ed7953"
             ],
             [
              0.7777777777777778,
              "#fb9f3a"
             ],
             [
              0.8888888888888888,
              "#fdca26"
             ],
             [
              1,
              "#f0f921"
             ]
            ],
            "type": "heatmap"
           }
          ],
          "heatmapgl": [
           {
            "colorbar": {
             "outlinewidth": 0,
             "ticks": ""
            },
            "colorscale": [
             [
              0,
              "#0d0887"
             ],
             [
              0.1111111111111111,
              "#46039f"
             ],
             [
              0.2222222222222222,
              "#7201a8"
             ],
             [
              0.3333333333333333,
              "#9c179e"
             ],
             [
              0.4444444444444444,
              "#bd3786"
             ],
             [
              0.5555555555555556,
              "#d8576b"
             ],
             [
              0.6666666666666666,
              "#ed7953"
             ],
             [
              0.7777777777777778,
              "#fb9f3a"
             ],
             [
              0.8888888888888888,
              "#fdca26"
             ],
             [
              1,
              "#f0f921"
             ]
            ],
            "type": "heatmapgl"
           }
          ],
          "histogram": [
           {
            "marker": {
             "pattern": {
              "fillmode": "overlay",
              "size": 10,
              "solidity": 0.2
             }
            },
            "type": "histogram"
           }
          ],
          "histogram2d": [
           {
            "colorbar": {
             "outlinewidth": 0,
             "ticks": ""
            },
            "colorscale": [
             [
              0,
              "#0d0887"
             ],
             [
              0.1111111111111111,
              "#46039f"
             ],
             [
              0.2222222222222222,
              "#7201a8"
             ],
             [
              0.3333333333333333,
              "#9c179e"
             ],
             [
              0.4444444444444444,
              "#bd3786"
             ],
             [
              0.5555555555555556,
              "#d8576b"
             ],
             [
              0.6666666666666666,
              "#ed7953"
             ],
             [
              0.7777777777777778,
              "#fb9f3a"
             ],
             [
              0.8888888888888888,
              "#fdca26"
             ],
             [
              1,
              "#f0f921"
             ]
            ],
            "type": "histogram2d"
           }
          ],
          "histogram2dcontour": [
           {
            "colorbar": {
             "outlinewidth": 0,
             "ticks": ""
            },
            "colorscale": [
             [
              0,
              "#0d0887"
             ],
             [
              0.1111111111111111,
              "#46039f"
             ],
             [
              0.2222222222222222,
              "#7201a8"
             ],
             [
              0.3333333333333333,
              "#9c179e"
             ],
             [
              0.4444444444444444,
              "#bd3786"
             ],
             [
              0.5555555555555556,
              "#d8576b"
             ],
             [
              0.6666666666666666,
              "#ed7953"
             ],
             [
              0.7777777777777778,
              "#fb9f3a"
             ],
             [
              0.8888888888888888,
              "#fdca26"
             ],
             [
              1,
              "#f0f921"
             ]
            ],
            "type": "histogram2dcontour"
           }
          ],
          "mesh3d": [
           {
            "colorbar": {
             "outlinewidth": 0,
             "ticks": ""
            },
            "type": "mesh3d"
           }
          ],
          "parcoords": [
           {
            "line": {
             "colorbar": {
              "outlinewidth": 0,
              "ticks": ""
             }
            },
            "type": "parcoords"
           }
          ],
          "pie": [
           {
            "automargin": true,
            "type": "pie"
           }
          ],
          "scatter": [
           {
            "fillpattern": {
             "fillmode": "overlay",
             "size": 10,
             "solidity": 0.2
            },
            "type": "scatter"
           }
          ],
          "scatter3d": [
           {
            "line": {
             "colorbar": {
              "outlinewidth": 0,
              "ticks": ""
             }
            },
            "marker": {
             "colorbar": {
              "outlinewidth": 0,
              "ticks": ""
             }
            },
            "type": "scatter3d"
           }
          ],
          "scattercarpet": [
           {
            "marker": {
             "colorbar": {
              "outlinewidth": 0,
              "ticks": ""
             }
            },
            "type": "scattercarpet"
           }
          ],
          "scattergeo": [
           {
            "marker": {
             "colorbar": {
              "outlinewidth": 0,
              "ticks": ""
             }
            },
            "type": "scattergeo"
           }
          ],
          "scattergl": [
           {
            "marker": {
             "colorbar": {
              "outlinewidth": 0,
              "ticks": ""
             }
            },
            "type": "scattergl"
           }
          ],
          "scattermapbox": [
           {
            "marker": {
             "colorbar": {
              "outlinewidth": 0,
              "ticks": ""
             }
            },
            "type": "scattermapbox"
           }
          ],
          "scatterpolar": [
           {
            "marker": {
             "colorbar": {
              "outlinewidth": 0,
              "ticks": ""
             }
            },
            "type": "scatterpolar"
           }
          ],
          "scatterpolargl": [
           {
            "marker": {
             "colorbar": {
              "outlinewidth": 0,
              "ticks": ""
             }
            },
            "type": "scatterpolargl"
           }
          ],
          "scatterternary": [
           {
            "marker": {
             "colorbar": {
              "outlinewidth": 0,
              "ticks": ""
             }
            },
            "type": "scatterternary"
           }
          ],
          "surface": [
           {
            "colorbar": {
             "outlinewidth": 0,
             "ticks": ""
            },
            "colorscale": [
             [
              0,
              "#0d0887"
             ],
             [
              0.1111111111111111,
              "#46039f"
             ],
             [
              0.2222222222222222,
              "#7201a8"
             ],
             [
              0.3333333333333333,
              "#9c179e"
             ],
             [
              0.4444444444444444,
              "#bd3786"
             ],
             [
              0.5555555555555556,
              "#d8576b"
             ],
             [
              0.6666666666666666,
              "#ed7953"
             ],
             [
              0.7777777777777778,
              "#fb9f3a"
             ],
             [
              0.8888888888888888,
              "#fdca26"
             ],
             [
              1,
              "#f0f921"
             ]
            ],
            "type": "surface"
           }
          ],
          "table": [
           {
            "cells": {
             "fill": {
              "color": "#EBF0F8"
             },
             "line": {
              "color": "white"
             }
            },
            "header": {
             "fill": {
              "color": "#C8D4E3"
             },
             "line": {
              "color": "white"
             }
            },
            "type": "table"
           }
          ]
         },
         "layout": {
          "annotationdefaults": {
           "arrowcolor": "#2a3f5f",
           "arrowhead": 0,
           "arrowwidth": 1
          },
          "autotypenumbers": "strict",
          "coloraxis": {
           "colorbar": {
            "outlinewidth": 0,
            "ticks": ""
           }
          },
          "colorscale": {
           "diverging": [
            [
             0,
             "#8e0152"
            ],
            [
             0.1,
             "#c51b7d"
            ],
            [
             0.2,
             "#de77ae"
            ],
            [
             0.3,
             "#f1b6da"
            ],
            [
             0.4,
             "#fde0ef"
            ],
            [
             0.5,
             "#f7f7f7"
            ],
            [
             0.6,
             "#e6f5d0"
            ],
            [
             0.7,
             "#b8e186"
            ],
            [
             0.8,
             "#7fbc41"
            ],
            [
             0.9,
             "#4d9221"
            ],
            [
             1,
             "#276419"
            ]
           ],
           "sequential": [
            [
             0,
             "#0d0887"
            ],
            [
             0.1111111111111111,
             "#46039f"
            ],
            [
             0.2222222222222222,
             "#7201a8"
            ],
            [
             0.3333333333333333,
             "#9c179e"
            ],
            [
             0.4444444444444444,
             "#bd3786"
            ],
            [
             0.5555555555555556,
             "#d8576b"
            ],
            [
             0.6666666666666666,
             "#ed7953"
            ],
            [
             0.7777777777777778,
             "#fb9f3a"
            ],
            [
             0.8888888888888888,
             "#fdca26"
            ],
            [
             1,
             "#f0f921"
            ]
           ],
           "sequentialminus": [
            [
             0,
             "#0d0887"
            ],
            [
             0.1111111111111111,
             "#46039f"
            ],
            [
             0.2222222222222222,
             "#7201a8"
            ],
            [
             0.3333333333333333,
             "#9c179e"
            ],
            [
             0.4444444444444444,
             "#bd3786"
            ],
            [
             0.5555555555555556,
             "#d8576b"
            ],
            [
             0.6666666666666666,
             "#ed7953"
            ],
            [
             0.7777777777777778,
             "#fb9f3a"
            ],
            [
             0.8888888888888888,
             "#fdca26"
            ],
            [
             1,
             "#f0f921"
            ]
           ]
          },
          "colorway": [
           "#636efa",
           "#EF553B",
           "#00cc96",
           "#ab63fa",
           "#FFA15A",
           "#19d3f3",
           "#FF6692",
           "#B6E880",
           "#FF97FF",
           "#FECB52"
          ],
          "font": {
           "color": "#2a3f5f"
          },
          "geo": {
           "bgcolor": "white",
           "lakecolor": "white",
           "landcolor": "#E5ECF6",
           "showlakes": true,
           "showland": true,
           "subunitcolor": "white"
          },
          "hoverlabel": {
           "align": "left"
          },
          "hovermode": "closest",
          "mapbox": {
           "style": "light"
          },
          "paper_bgcolor": "white",
          "plot_bgcolor": "#E5ECF6",
          "polar": {
           "angularaxis": {
            "gridcolor": "white",
            "linecolor": "white",
            "ticks": ""
           },
           "bgcolor": "#E5ECF6",
           "radialaxis": {
            "gridcolor": "white",
            "linecolor": "white",
            "ticks": ""
           }
          },
          "scene": {
           "xaxis": {
            "backgroundcolor": "#E5ECF6",
            "gridcolor": "white",
            "gridwidth": 2,
            "linecolor": "white",
            "showbackground": true,
            "ticks": "",
            "zerolinecolor": "white"
           },
           "yaxis": {
            "backgroundcolor": "#E5ECF6",
            "gridcolor": "white",
            "gridwidth": 2,
            "linecolor": "white",
            "showbackground": true,
            "ticks": "",
            "zerolinecolor": "white"
           },
           "zaxis": {
            "backgroundcolor": "#E5ECF6",
            "gridcolor": "white",
            "gridwidth": 2,
            "linecolor": "white",
            "showbackground": true,
            "ticks": "",
            "zerolinecolor": "white"
           }
          },
          "shapedefaults": {
           "line": {
            "color": "#2a3f5f"
           }
          },
          "ternary": {
           "aaxis": {
            "gridcolor": "white",
            "linecolor": "white",
            "ticks": ""
           },
           "baxis": {
            "gridcolor": "white",
            "linecolor": "white",
            "ticks": ""
           },
           "bgcolor": "#E5ECF6",
           "caxis": {
            "gridcolor": "white",
            "linecolor": "white",
            "ticks": ""
           }
          },
          "title": {
           "x": 0.05
          },
          "xaxis": {
           "automargin": true,
           "gridcolor": "white",
           "linecolor": "white",
           "ticks": "",
           "title": {
            "standoff": 15
           },
           "zerolinecolor": "white",
           "zerolinewidth": 2
          },
          "yaxis": {
           "automargin": true,
           "gridcolor": "white",
           "linecolor": "white",
           "ticks": "",
           "title": {
            "standoff": 15
           },
           "zerolinecolor": "white",
           "zerolinewidth": 2
          }
         }
        },
        "title": {
         "text": "Помесячный анализ"
        },
        "xaxis": {
         "anchor": "y",
         "autorange": true,
         "domain": [
          0,
          0.45
         ],
         "range": [
          "2015-05-07 15:48:29.6901",
          "2016-06-25 08:11:30.3099"
         ],
         "type": "date"
        },
        "xaxis2": {
         "anchor": "y2",
         "autorange": true,
         "domain": [
          0.55,
          1
         ],
         "range": [
          "2015-05-07 15:48:29.6901",
          "2016-06-25 08:11:30.3099"
         ],
         "type": "date"
        },
        "xaxis3": {
         "anchor": "y3",
         "autorange": true,
         "domain": [
          0,
          0.45
         ],
         "range": [
          "2015-05-07 15:48:29.6901",
          "2016-06-25 08:11:30.3099"
         ],
         "type": "date"
        },
        "xaxis4": {
         "anchor": "y4",
         "autorange": true,
         "domain": [
          0.55,
          1
         ],
         "range": [
          "2015-05-17 12:00",
          "2016-06-15 12:00"
         ],
         "type": "date"
        },
        "xaxis5": {
         "anchor": "y5",
         "autorange": true,
         "domain": [
          0,
          0.45
         ],
         "range": [
          "2015-05-17 12:00",
          "2016-06-15 12:00"
         ],
         "type": "date"
        },
        "xaxis6": {
         "anchor": "y6",
         "autorange": true,
         "domain": [
          0.55,
          1
         ],
         "range": [
          "2015-05-17 12:00",
          "2016-06-15 12:00"
         ],
         "type": "date"
        },
        "yaxis": {
         "anchor": "x",
         "autorange": true,
         "domain": [
          0.7777777777777778,
          1
         ],
         "range": [
          8.976120159087918,
          10.096998346229482
         ],
         "type": "linear"
        },
        "yaxis2": {
         "anchor": "x2",
         "autorange": true,
         "domain": [
          0.7777777777777778,
          1
         ],
         "range": [
          -650.7527472527472,
          52043.75274725274
         ],
         "type": "linear"
        },
        "yaxis3": {
         "anchor": "x3",
         "autorange": true,
         "domain": [
          0.3888888888888889,
          0.6111111111111112
         ],
         "range": [
          135.33699633699635,
          1342.6630036630036
         ],
         "type": "linear"
        },
        "yaxis4": {
         "anchor": "x4",
         "autorange": true,
         "domain": [
          0.3888888888888889,
          0.6111111111111112
         ],
         "range": [
          0,
          12.098976833525926
         ],
         "type": "linear"
        },
        "yaxis5": {
         "anchor": "x5",
         "autorange": true,
         "domain": [
          0,
          0.22222222222222224
         ],
         "range": [
          0,
          12.767052728008625
         ],
         "type": "linear"
        },
        "yaxis6": {
         "anchor": "x6",
         "autorange": true,
         "domain": [
          0,
          0.22222222222222224
         ],
         "range": [
          0,
          81.03654519769266
         ],
         "type": "linear"
        }
       }
      },
      "image/png": "[encoded data removed]",
      "text/html": [
       "<div>                            <div id=\"a0a22dad-8e65-4678-8e9d-491c920e469b\" class=\"plotly-graph-div\" style=\"height:900px; width:100%;\"></div>            <script type=\"text/javascript\">                require([\"plotly\"], function(Plotly) {                    window.PLOTLYENV=window.PLOTLYENV || {};                                    if (document.getElementById(\"a0a22dad-8e65-4678-8e9d-491c920e469b\")) {                    Plotly.newPlot(                        \"a0a22dad-8e65-4678-8e9d-491c920e469b\",                        [{\"x\":[\"2015-06-01T00:00:00\",\"2015-07-01T00:00:00\",\"2015-08-01T00:00:00\",\"2015-09-01T00:00:00\",\"2015-10-01T00:00:00\",\"2015-11-01T00:00:00\",\"2015-12-01T00:00:00\",\"2016-01-01T00:00:00\",\"2016-02-01T00:00:00\",\"2016-03-01T00:00:00\",\"2016-04-01T00:00:00\",\"2016-05-01T00:00:00\",\"2016-06-01T00:00:00\"],\"y\":[9.351090400745573,9.256186483483178,9.06225987331695,9.275304044431785,9.31989923839051,9.229525917255001,9.324652987130863,9.058434650956126,10.014683854361273,9.895857446611815,9.582738457570287,9.606621344756938,9.621797990481227],\"type\":\"scatter\",\"xaxis\":\"x\",\"yaxis\":\"y\"},{\"x\":[\"2015-06-01T00:00:00\",\"2015-07-01T00:00:00\",\"2015-08-01T00:00:00\",\"2015-09-01T00:00:00\",\"2015-10-01T00:00:00\",\"2015-11-01T00:00:00\",\"2015-12-01T00:00:00\",\"2016-01-01T00:00:00\",\"2016-02-01T00:00:00\",\"2016-03-01T00:00:00\",\"2016-04-01T00:00:00\",\"2016-05-01T00:00:00\",\"2016-06-01T00:00:00\"],\"y\":[3219,29697,28891,28088,29674,27337,30849,30383,48174,43268,38770,42952,37820],\"type\":\"scatter\",\"xaxis\":\"x2\",\"yaxis\":\"y2\"},{\"x\":[\"2015-06-01T00:00:00\",\"2015-07-01T00:00:00\",\"2015-08-01T00:00:00\",\"2015-09-01T00:00:00\",\"2015-10-01T00:00:00\",\"2015-11-01T00:00:00\",\"2015-12-01T00:00:00\",\"2016-01-01T00:00:00\",\"2016-02-01T00:00:00\",\"2016-03-01T00:00:00\",\"2016-04-01T00:00:00\",\"2016-05-01T00:00:00\",\"2016-06-01T00:00:00\"],\"y\":[224,939,907,901,967,918,1032,991,1254,1181,1089,1179,1139],\"type\":\"scatter\",\"xaxis\":\"x3\",\"yaxis\":\"y3\"},{\"marker\":{\"color\":\"lightblue\"},\"x\":[\"2015-06-01T00:00:00\",\"2015-07-01T00:00:00\",\"2015-08-01T00:00:00\",\"2015-09-01T00:00:00\",\"2015-10-01T00:00:00\",\"2015-11-01T00:00:00\",\"2015-12-01T00:00:00\",\"2016-01-01T00:00:00\",\"2016-02-01T00:00:00\",\"2016-03-01T00:00:00\",\"2016-04-01T00:00:00\",\"2016-05-01T00:00:00\",\"2016-06-01T00:00:00\"],\"y\":[0.7680341284876481,7.085526409971321,6.89321963533291,6.7016286427340965,7.080038747667744,6.522444538821631,7.360386713176593,7.24920190302585,11.494027991849629,10.323485763095231,9.250289891726036,10.248090054924342,9.023625579186966],\"type\":\"bar\",\"xaxis\":\"x4\",\"yaxis\":\"y4\"},{\"x\":[\"2015-06-01T00:00:00\",\"2015-07-01T00:00:00\",\"2015-08-01T00:00:00\",\"2015-09-01T00:00:00\",\"2015-10-01T00:00:00\",\"2015-11-01T00:00:00\",\"2015-12-01T00:00:00\",\"2016-01-01T00:00:00\",\"2016-02-01T00:00:00\",\"2016-03-01T00:00:00\",\"2016-04-01T00:00:00\",\"2016-05-01T00:00:00\",\"2016-06-01T00:00:00\"],\"y\":[0.7567414752040169,6.91049217848452,6.582083559889271,6.549577360963596,6.9526699652468675,6.342997664944184,7.231661247420738,6.919076212345954,12.128700091608193,10.764269354880202,9.340061613628269,10.373334176091292,9.148335099292884],\"type\":\"bar\",\"xaxis\":\"x5\",\"yaxis\":\"y5\"},{\"marker\":{\"color\":\"pink\"},\"name\":\"F\",\"x\":[\"2015-06-01\",\"2015-07-01\",\"2015-08-01\",\"2015-09-01\",\"2015-10-01\",\"2015-11-01\",\"2015-12-01\",\"2016-01-01\",\"2016-02-01\",\"2016-03-01\",\"2016-04-01\",\"2016-05-01\",\"2016-06-01\"],\"y\":[70.97902097902097,74.17300609273347,76.98471793780803,76.7686389448617,74.80344827586207,74.6899936312891,72.31520223152023,72.4337105218713,72.17642033319095,73.95694734841285,73.70486239991516,72.39626828278972,73.8636054514295],\"type\":\"bar\",\"xaxis\":\"x6\",\"yaxis\":\"y6\"},{\"marker\":{\"color\":\"blue\"},\"name\":\"M\",\"x\":[\"2015-06-01\",\"2015-07-01\",\"2015-08-01\",\"2015-09-01\",\"2015-10-01\",\"2015-11-01\",\"2015-12-01\",\"2016-01-01\",\"2016-02-01\",\"2016-03-01\",\"2016-04-01\",\"2016-05-01\",\"2016-06-01\"],\"y\":[29.02097902097902,25.826993907266534,23.015282062191964,23.231361055138304,25.196551724137933,25.310006368710898,27.684797768479775,27.5662894781287,27.823579666809056,26.04305265158715,26.29513760008484,27.603731717210277,26.136394548570497],\"type\":\"bar\",\"xaxis\":\"x6\",\"yaxis\":\"y6\"}],                        {\"template\":{\"data\":{\"histogram2dcontour\":[{\"type\":\"histogram2dcontour\",\"colorbar\":{\"outlinewidth\":0,\"ticks\":\"\"},\"colorscale\":[[0.0,\"#0d0887\"],[0.1111111111111111,\"#46039f\"],[0.2222222222222222,\"#7201a8\"],[0.3333333333333333,\"#9c179e\"],[0.4444444444444444,\"#bd3786\"],[0.5555555555555556,\"#d8576b\"],[0.6666666666666666,\"#ed7953\"],[0.7777777777777778,\"#fb9f3a\"],[0.8888888888888888,\"#fdca26\"],[1.0,\"#f0f921\"]]}],\"choropleth\":[{\"type\":\"choropleth\",\"colorbar\":{\"outlinewidth\":0,\"ticks\":\"\"}}],\"histogram2d\":[{\"type\":\"histogram2d\",\"colorbar\":{\"outlinewidth\":0,\"ticks\":\"\"},\"colorscale\":[[0.0,\"#0d0887\"],[0.1111111111111111,\"#46039f\"],[0.2222222222222222,\"#7201a8\"],[0.3333333333333333,\"#9c179e\"],[0.4444444444444444,\"#bd3786\"],[0.5555555555555556,\"#d8576b\"],[0.6666666666666666,\"#ed7953\"],[0.7777777777777778,\"#fb9f3a\"],[0.8888888888888888,\"#fdca26\"],[1.0,\"#f0f921\"]]}],\"heatmap\":[{\"type\":\"heatmap\",\"colorbar\":{\"outlinewidth\":0,\"ticks\":\"\"},\"colorscale\":[[0.0,\"#0d0887\"],[0.1111111111111111,\"#46039f\"],[0.2222222222222222,\"#7201a8\"],[0.3333333333333333,\"#9c179e\"],[0.4444444444444444,\"#bd3786\"],[0.5555555555555556,\"#d8576b\"],[0.6666666666666666,\"#ed7953\"],[0.7777777777777778,\"#fb9f3a\"],[0.8888888888888888,\"#fdca26\"],[1.0,\"#f0f921\"]]}],\"heatmapgl\":[{\"type\":\"heatmapgl\",\"colorbar\":{\"outlinewidth\":0,\"ticks\":\"\"},\"colorscale\":[[0.0,\"#0d0887\"],[0.1111111111111111,\"#46039f\"],[0.2222222222222222,\"#7201a8\"],[0.3333333333333333,\"#9c179e\"],[0.4444444444444444,\"#bd3786\"],[0.5555555555555556,\"#d8576b\"],[0.6666666666666666,\"#ed7953\"],[0.7777777777777778,\"#fb9f3a\"],[0.8888888888888888,\"#fdca26\"],[1.0,\"#f0f921\"]]}],\"contourcarpet\":[{\"type\":\"contourcarpet\",\"colorbar\":{\"outlinewidth\":0,\"ticks\":\"\"}}],\"contour\":[{\"type\":\"contour\",\"colorbar\":{\"outlinewidth\":0,\"ticks\":\"\"},\"colorscale\":[[0.0,\"#0d0887\"],[0.1111111111111111,\"#46039f\"],[0.2222222222222222,\"#7201a8\"],[0.3333333333333333,\"#9c179e\"],[0.4444444444444444,\"#bd3786\"],[0.5555555555555556,\"#d8576b\"],[0.6666666666666666,\"#ed7953\"],[0.7777777777777778,\"#fb9f3a\"],[0.8888888888888888,\"#fdca26\"],[1.0,\"#f0f921\"]]}],\"surface\":[{\"type\":\"surface\",\"colorbar\":{\"outlinewidth\":0,\"ticks\":\"\"},\"colorscale\":[[0.0,\"#0d0887\"],[0.1111111111111111,\"#46039f\"],[0.2222222222222222,\"#7201a8\"],[0.3333333333333333,\"#9c179e\"],[0.4444444444444444,\"#bd3786\"],[0.5555555555555556,\"#d8576b\"],[0.6666666666666666,\"#ed7953\"],[0.7777777777777778,\"#fb9f3a\"],[0.8888888888888888,\"#fdca26\"],[1.0,\"#f0f921\"]]}],\"mesh3d\":[{\"type\":\"mesh3d\",\"colorbar\":{\"outlinewidth\":0,\"ticks\":\"\"}}],\"scatter\":[{\"fillpattern\":{\"fillmode\":\"overlay\",\"size\":10,\"solidity\":0.2},\"type\":\"scatter\"}],\"parcoords\":[{\"type\":\"parcoords\",\"line\":{\"colorbar\":{\"outlinewidth\":0,\"ticks\":\"\"}}}],\"scatterpolargl\":[{\"type\":\"scatterpolargl\",\"marker\":{\"colorbar\":{\"outlinewidth\":0,\"ticks\":\"\"}}}],\"bar\":[{\"error_x\":{\"color\":\"#2a3f5f\"},\"error_y\":{\"color\":\"#2a3f5f\"},\"marker\":{\"line\":{\"color\":\"#E5ECF6\",\"width\":0.5},\"pattern\":{\"fillmode\":\"overlay\",\"size\":10,\"solidity\":0.2}},\"type\":\"bar\"}],\"scattergeo\":[{\"type\":\"scattergeo\",\"marker\":{\"colorbar\":{\"outlinewidth\":0,\"ticks\":\"\"}}}],\"scatterpolar\":[{\"type\":\"scatterpolar\",\"marker\":{\"colorbar\":{\"outlinewidth\":0,\"ticks\":\"\"}}}],\"histogram\":[{\"marker\":{\"pattern\":{\"fillmode\":\"overlay\",\"size\":10,\"solidity\":0.2}},\"type\":\"histogram\"}],\"scattergl\":[{\"type\":\"scattergl\",\"marker\":{\"colorbar\":{\"outlinewidth\":0,\"ticks\":\"\"}}}],\"scatter3d\":[{\"type\":\"scatter3d\",\"line\":{\"colorbar\":{\"outlinewidth\":0,\"ticks\":\"\"}},\"marker\":{\"colorbar\":{\"outlinewidth\":0,\"ticks\":\"\"}}}],\"scattermapbox\":[{\"type\":\"scattermapbox\",\"marker\":{\"colorbar\":{\"outlinewidth\":0,\"ticks\":\"\"}}}],\"scatterternary\":[{\"type\":\"scatterternary\",\"marker\":{\"colorbar\":{\"outlinewidth\":0,\"ticks\":\"\"}}}],\"scattercarpet\":[{\"type\":\"scattercarpet\",\"marker\":{\"colorbar\":{\"outlinewidth\":0,\"ticks\":\"\"}}}],\"carpet\":[{\"aaxis\":{\"endlinecolor\":\"#2a3f5f\",\"gridcolor\":\"white\",\"linecolor\":\"white\",\"minorgridcolor\":\"white\",\"startlinecolor\":\"#2a3f5f\"},\"baxis\":{\"endlinecolor\":\"#2a3f5f\",\"gridcolor\":\"white\",\"linecolor\":\"white\",\"minorgridcolor\":\"white\",\"startlinecolor\":\"#2a3f5f\"},\"type\":\"carpet\"}],\"table\":[{\"cells\":{\"fill\":{\"color\":\"#EBF0F8\"},\"line\":{\"color\":\"white\"}},\"header\":{\"fill\":{\"color\":\"#C8D4E3\"},\"line\":{\"color\":\"white\"}},\"type\":\"table\"}],\"barpolar\":[{\"marker\":{\"line\":{\"color\":\"#E5ECF6\",\"width\":0.5},\"pattern\":{\"fillmode\":\"overlay\",\"size\":10,\"solidity\":0.2}},\"type\":\"barpolar\"}],\"pie\":[{\"automargin\":true,\"type\":\"pie\"}]},\"layout\":{\"autotypenumbers\":\"strict\",\"colorway\":[\"#636efa\",\"#EF553B\",\"#00cc96\",\"#ab63fa\",\"#FFA15A\",\"#19d3f3\",\"#FF6692\",\"#B6E880\",\"#FF97FF\",\"#FECB52\"],\"font\":{\"color\":\"#2a3f5f\"},\"hovermode\":\"closest\",\"hoverlabel\":{\"align\":\"left\"},\"paper_bgcolor\":\"white\",\"plot_bgcolor\":\"#E5ECF6\",\"polar\":{\"bgcolor\":\"#E5ECF6\",\"angularaxis\":{\"gridcolor\":\"white\",\"linecolor\":\"white\",\"ticks\":\"\"},\"radialaxis\":{\"gridcolor\":\"white\",\"linecolor\":\"white\",\"ticks\":\"\"}},\"ternary\":{\"bgcolor\":\"#E5ECF6\",\"aaxis\":{\"gridcolor\":\"white\",\"linecolor\":\"white\",\"ticks\":\"\"},\"baxis\":{\"gridcolor\":\"white\",\"linecolor\":\"white\",\"ticks\":\"\"},\"caxis\":{\"gridcolor\":\"white\",\"linecolor\":\"white\",\"ticks\":\"\"}},\"coloraxis\":{\"colorbar\":{\"outlinewidth\":0,\"ticks\":\"\"}},\"colorscale\":{\"sequential\":[[0.0,\"#0d0887\"],[0.1111111111111111,\"#46039f\"],[0.2222222222222222,\"#7201a8\"],[0.3333333333333333,\"#9c179e\"],[0.4444444444444444,\"#bd3786\"],[0.5555555555555556,\"#d8576b\"],[0.6666666666666666,\"#ed7953\"],[0.7777777777777778,\"#fb9f3a\"],[0.8888888888888888,\"#fdca26\"],[1.0,\"#f0f921\"]],\"sequentialminus\":[[0.0,\"#0d0887\"],[0.1111111111111111,\"#46039f\"],[0.2222222222222222,\"#7201a8\"],[0.3333333333333333,\"#9c179e\"],[0.4444444444444444,\"#bd3786\"],[0.5555555555555556,\"#d8576b\"],[0.6666666666666666,\"#ed7953\"],[0.7777777777777778,\"#fb9f3a\"],[0.8888888888888888,\"#fdca26\"],[1.0,\"#f0f921\"]],\"diverging\":[[0,\"#8e0152\"],[0.1,\"#c51b7d\"],[0.2,\"#de77ae\"],[0.3,\"#f1b6da\"],[0.4,\"#fde0ef\"],[0.5,\"#f7f7f7\"],[0.6,\"#e6f5d0\"],[0.7,\"#b8e186\"],[0.8,\"#7fbc41\"],[0.9,\"#4d9221\"],[1,\"#276419\"]]},\"xaxis\":{\"gridcolor\":\"white\",\"linecolor\":\"white\",\"ticks\":\"\",\"title\":{\"standoff\":15},\"zerolinecolor\":\"white\",\"automargin\":true,\"zerolinewidth\":2},\"yaxis\":{\"gridcolor\":\"white\",\"linecolor\":\"white\",\"ticks\":\"\",\"title\":{\"standoff\":15},\"zerolinecolor\":\"white\",\"automargin\":true,\"zerolinewidth\":2},\"scene\":{\"xaxis\":{\"backgroundcolor\":\"#E5ECF6\",\"gridcolor\":\"white\",\"linecolor\":\"white\",\"showbackground\":true,\"ticks\":\"\",\"zerolinecolor\":\"white\",\"gridwidth\":2},\"yaxis\":{\"backgroundcolor\":\"#E5ECF6\",\"gridcolor\":\"white\",\"linecolor\":\"white\",\"showbackground\":true,\"ticks\":\"\",\"zerolinecolor\":\"white\",\"gridwidth\":2},\"zaxis\":{\"backgroundcolor\":\"#E5ECF6\",\"gridcolor\":\"white\",\"linecolor\":\"white\",\"showbackground\":true,\"ticks\":\"\",\"zerolinecolor\":\"white\",\"gridwidth\":2}},\"shapedefaults\":{\"line\":{\"color\":\"#2a3f5f\"}},\"annotationdefaults\":{\"arrowcolor\":\"#2a3f5f\",\"arrowhead\":0,\"arrowwidth\":1},\"geo\":{\"bgcolor\":\"white\",\"landcolor\":\"#E5ECF6\",\"subunitcolor\":\"white\",\"showland\":true,\"showlakes\":true,\"lakecolor\":\"white\"},\"title\":{\"x\":0.05},\"mapbox\":{\"style\":\"light\"}}},\"xaxis\":{\"anchor\":\"y\",\"domain\":[0.0,0.45]},\"yaxis\":{\"anchor\":\"x\",\"domain\":[0.7777777777777778,1.0]},\"xaxis2\":{\"anchor\":\"y2\",\"domain\":[0.55,1.0]},\"yaxis2\":{\"anchor\":\"x2\",\"domain\":[0.7777777777777778,1.0]},\"xaxis3\":{\"anchor\":\"y3\",\"domain\":[0.0,0.45]},\"yaxis3\":{\"anchor\":\"x3\",\"domain\":[0.3888888888888889,0.6111111111111112]},\"xaxis4\":{\"anchor\":\"y4\",\"domain\":[0.55,1.0]},\"yaxis4\":{\"anchor\":\"x4\",\"domain\":[0.3888888888888889,0.6111111111111112]},\"xaxis5\":{\"anchor\":\"y5\",\"domain\":[0.0,0.45]},\"yaxis5\":{\"anchor\":\"x5\",\"domain\":[0.0,0.22222222222222224]},\"xaxis6\":{\"anchor\":\"y6\",\"domain\":[0.55,1.0]},\"yaxis6\":{\"anchor\":\"x6\",\"domain\":[0.0,0.22222222222222224]},\"annotations\":[{\"font\":{\"size\":16},\"showarrow\":false,\"text\":\"\\u0421\\u0440\\u0435\\u0434\\u043d\\u044f\\u044f \\u0441\\u0443\\u043c\\u043c\\u0430 \\u043f\\u043b\\u0430\\u0442\\u0435\\u0436\\u0430\",\"x\":0.225,\"xanchor\":\"center\",\"xref\":\"paper\",\"y\":1.0,\"yanchor\":\"bottom\",\"yref\":\"paper\"},{\"font\":{\"size\":16},\"showarrow\":false,\"text\":\"\\u0421\\u0440\\u0435\\u0434\\u043d\\u0435\\u0435 \\u043a\\u043e\\u043b\\u0438\\u0447\\u0435\\u0441\\u0442\\u0432\\u043e \\u0442\\u0440\\u0430\\u043d\\u0437\\u0430\\u043a\\u0446\\u0438\\u0439\",\"x\":0.775,\"xanchor\":\"center\",\"xref\":\"paper\",\"y\":1.0,\"yanchor\":\"bottom\",\"yref\":\"paper\"},{\"font\":{\"size\":16},\"showarrow\":false,\"text\":\"\\u0421\\u0440\\u0435\\u0434\\u043d\\u0435\\u0435 \\u043a\\u043e\\u043b\\u0438\\u0447\\u0435\\u0441\\u0442\\u0432\\u043e \\u0430\\u043a\\u0442\\u0438\\u0432\\u043d\\u044b\\u0445 \\u043a\\u043b\\u0438\\u0435\\u043d\\u0442\\u043e\\u0432\",\"x\":0.225,\"xanchor\":\"center\",\"xref\":\"paper\",\"y\":0.6111111111111112,\"yanchor\":\"bottom\",\"yref\":\"paper\"},{\"font\":{\"size\":16},\"showarrow\":false,\"text\":\"\\u0414\\u043e\\u043b\\u044f \\u043e\\u043f\\u0435\\u0440\\u0430\\u0446\\u0438\\u0439\",\"x\":0.775,\"xanchor\":\"center\",\"xref\":\"paper\",\"y\":0.6111111111111112,\"yanchor\":\"bottom\",\"yref\":\"paper\"},{\"font\":{\"size\":16},\"showarrow\":false,\"text\":\"\\u0414\\u043e\\u043b\\u044f \\u0432\\u044b\\u0440\\u0443\\u0447\\u043a\\u0438\",\"x\":0.225,\"xanchor\":\"center\",\"xref\":\"paper\",\"y\":0.22222222222222224,\"yanchor\":\"bottom\",\"yref\":\"paper\"},{\"font\":{\"size\":16},\"showarrow\":false,\"text\":\"\\u041f\\u043e\\u043b\\u043e\\u0432\\u043e\\u0439 \\u0441\\u043e\\u0441\\u0442\\u0430\\u0432\",\"x\":0.775,\"xanchor\":\"center\",\"xref\":\"paper\",\"y\":0.22222222222222224,\"yanchor\":\"bottom\",\"yref\":\"paper\"}],\"title\":{\"text\":\"\\u041f\\u043e\\u043c\\u0435\\u0441\\u044f\\u0447\\u043d\\u044b\\u0439 \\u0430\\u043d\\u0430\\u043b\\u0438\\u0437\"},\"height\":900,\"showlegend\":false},                        {\"responsive\": true}                    ).then(function(){\n",
       "                            \n",
       "var gd = document.getElementById('a0a22dad-8e65-4678-8e9d-491c920e469b');\n",
       "var x = new MutationObserver(function (mutations, observer) {{\n",
       "        var display = window.getComputedStyle(gd).display;\n",
       "        if (!display || display === 'none') {{\n",
       "            console.log([gd, 'removed!']);\n",
       "            Plotly.purge(gd);\n",
       "            observer.disconnect();\n",
       "        }}\n",
       "}});\n",
       "\n",
       "// Listen for the removal of the full notebook cells\n",
       "var notebookContainer = gd.closest('#notebook-container');\n",
       "if (notebookContainer) {{\n",
       "    x.observe(notebookContainer, {childList: true});\n",
       "}}\n",
       "\n",
       "// Listen for the clearing of the current output cell\n",
       "var outputEl = gd.closest('.output');\n",
       "if (outputEl) {{\n",
       "    x.observe(outputEl, {childList: true});\n",
       "}}\n",
       "\n",
       "                        })                };                });            </script>        </div>"
      ]
     },
     "metadata": {},
     "output_type": "display_data"
    }
   ],
   "source": [
    "# в идеале скорректировала бы масштаб + отобразила бы все месяца, но не успела(\n",
    "fig = make_subplots(\n",
    "    rows=3, cols=2,\n",
    "    subplot_titles=(\n",
    "        'Средняя сумма платежа', \n",
    "        'Среднее количество транзакций',\n",
    "        'Среднее количество активных клиентов',\n",
    "        'Доля операций',\n",
    "        'Доля выручки', \n",
    "        'Половой состав'\n",
    "    )\n",
    ")\n",
    "\n",
    "fig.add_trace(\n",
    "    go.Scatter(\n",
    "        x=monthly_analysis['date_new'],\n",
    "        y=monthly_analysis['avg_payment'],\n",
    "    ), \n",
    "    row=1, col=1\n",
    ")\n",
    "\n",
    "\n",
    "fig.add_trace(\n",
    "    go.Scatter(\n",
    "        x=monthly_analysis['date_new'],\n",
    "        y=monthly_analysis['avg_transactions'],\n",
    "    ),\n",
    "    row=1, col=2\n",
    ")\n",
    "\n",
    "\n",
    "fig.add_trace(\n",
    "    go.Scatter(\n",
    "        x=monthly_analysis['date_new'],\n",
    "        y=monthly_analysis['n_active_clients'],\n",
    "    ),\n",
    "    row=2, col=1\n",
    ")\n",
    "\n",
    "fig.add_trace(\n",
    "    go.Bar(\n",
    "        x=monthly_analysis['date_new'],\n",
    "        y=monthly_analysis['transaction_share'],\n",
    "        marker_color='lightblue'\n",
    "    ),\n",
    "    row=2, col=2\n",
    ")\n",
    "\n",
    "fig.add_trace(\n",
    "    go.Bar(\n",
    "        x=monthly_analysis['date_new'],\n",
    "        y=monthly_analysis['revenue_share'],\n",
    "    ),\n",
    "    row=3, col=1\n",
    ")\n",
    "\n",
    "for gender in gender_monthly.columns:\n",
    "    fig.add_trace(\n",
    "        go.Bar(\n",
    "            x=gender_monthly.index.astype(str),\n",
    "            y=gender_monthly[gender],\n",
    "            name=gender,\n",
    "            marker_color={'M': 'blue', 'F': 'pink', 'NA': 'gray'}[gender]\n",
    "        ),\n",
    "        row=3, col=2\n",
    "    )\n",
    "\n",
    "fig.update_layout(\n",
    "    height=900, \n",
    "    title_text=\"Помесячный анализ\",\n",
    "    showlegend=False\n",
    ")\n",
    "fig.show()"
   ]
  },
  {
   "cell_type": "markdown",
   "id": "5c83c331-da49-4a7d-bf2c-87accc08339d",
   "metadata": {},
   "source": [
    "### **Общие выводы в результате помесячного анализа**\n",
    "\n",
    "1. Наибольшая клиентская активность замечена в феврале 2016 года: в этот месяц зафиксирована максимальные средняя сумма платежа, среднее количество транзакций, среднее число активных клиентов, наибольшая доля операция и наибольшая доля выручки.\n",
    "2. По графикам можно сказать, что с июня 2015 работа сервиса только начиналась, поскольку и среднее число транзакций, и среднее число активных клиентов были минимальными.\n",
    "3. Соотношение мужчин и женщин в течение года практически не менялось и оставалось на уровне 70:30 или 75:25. "
   ]
  },
  {
   "cell_type": "markdown",
   "id": "e01e5593-22bc-4125-b48c-b6c41eb760af",
   "metadata": {},
   "source": [
    "### **3. Анализ возрастных групп. Разбейте клиентов по возрастным группам с шагом 10 лет, отдельно выделите клиентов без данных о возрасте. Для каждой группы и неизвестного возраста рассчитайте сумму платежей за весь период, количество транзакций, средние показатели по кварталам и долю каждой группы**"
   ]
  },
  {
   "cell_type": "code",
   "execution_count": 217,
   "id": "3682572e-ec35-4b83-8fe0-57a87276e5f1",
   "metadata": {},
   "outputs": [],
   "source": [
    "df = pd.merge(transactions, customers, left_on='ID_client', right_on='Id_client')\n",
    "df['quarter'] = df['date_new'].dt.to_period('Q') # добавила квартал"
   ]
  },
  {
   "cell_type": "code",
   "execution_count": 218,
   "id": "85fe9374-b9c3-4b15-97bb-a4842617ec47",
   "metadata": {},
   "outputs": [],
   "source": [
    "# создаю возрастные группы\n",
    "bins = [0, 18, 25, 35, 45, 55, 65, 100]\n",
    "labels = ['0-18', '19-25', '26-35', '36-45', '46-55', '56-65', '65+']\n",
    "df['age_group'] = pd.cut(df['Age'], bins=bins, labels=labels, right=False)\n",
    "df['age_group'] = df['age_group'].cat.add_categories('Unknown').fillna('Unknown')\n",
    "\n",
    "age_analysis = df.groupby('age_group').agg({\n",
    "    'Sum_payment': ['sum', 'count', 'mean'],\n",
    "    'ID_client': 'nunique'\n",
    "}).reset_index()\n",
    "\n",
    "age_analysis.columns = ['age_group', 'total_payment', 'transaction_count', 'avg_payment', 'unique_clients']"
   ]
  },
  {
   "cell_type": "code",
   "execution_count": 219,
   "id": "efbc079a-eb4b-4ee7-93db-91aeafe6a3f7",
   "metadata": {},
   "outputs": [],
   "source": [
    "age_analysis['payment_share'] = age_analysis['total_payment'] / age_analysis['total_payment'].sum() * 100\n",
    "age_analysis['transaction_share'] = age_analysis['transaction_count'] / age_analysis['transaction_count'].sum() * 100\n",
    "quarterly_analysis = df.groupby(['age_group', 'quarter']).agg({\n",
    "    'Sum_payment': ['sum', 'count']\n",
    "}).reset_index()\n",
    "quarterly_analysis.columns = ['age_group', 'quarter', 'quarterly_payment', 'quarterly_transactions']"
   ]
  },
  {
   "cell_type": "code",
   "execution_count": 241,
   "id": "6db29b02-6cbe-4f23-88ae-3acd544704f5",
   "metadata": {},
   "outputs": [
    {
     "data": {
      "application/vnd.plotly.v1+json": {
       "config": {
        "plotlyServerURL": "https://plot.ly"
       },
       "data": [
        {
         "marker": {
          "color": "#636EFA"
         },
         "name": "Сумма платежей",
         "type": "bar",
         "x": [
          "0-18",
          "19-25",
          "26-35",
          "36-45",
          "46-55",
          "56-65",
          "65+",
          "Unknown"
         ],
         "xaxis": "x",
         "y": [
          54482.07,
          480373.79,
          834150,
          670480.17,
          500637.55,
          467244.11,
          905724.68,
          64641.24
         ],
         "yaxis": "y"
        },
        {
         "marker": {
          "color": "#EF553B"
         },
         "name": "Транзакции",
         "type": "bar",
         "x": [
          "0-18",
          "19-25",
          "26-35",
          "36-45",
          "46-55",
          "56-65",
          "65+",
          "Unknown"
         ],
         "xaxis": "x2",
         "y": [
          6099,
          47926,
          88652,
          69710,
          50738,
          50149,
          99299,
          6549
         ],
         "yaxis": "y2"
        },
        {
         "marker": {
          "color": "#00CC96"
         },
         "name": "Средний платеж",
         "type": "bar",
         "x": [
          "0-18",
          "19-25",
          "26-35",
          "36-45",
          "46-55",
          "56-65",
          "65+",
          "Unknown"
         ],
         "xaxis": "x3",
         "y": [
          8.932951303492375,
          10.02323978633727,
          9.409263186391733,
          9.618134700903745,
          9.867112420670898,
          9.317117190771501,
          9.121186316075692,
          9.870398534127347
         ],
         "yaxis": "y3"
        },
        {
         "domain": {
          "x": [
           0.55,
           1
          ],
          "y": [
           0,
           0.375
          ]
         },
         "labels": [
          "0-18",
          "19-25",
          "26-35",
          "36-45",
          "46-55",
          "56-65",
          "65+",
          "Unknown"
         ],
         "marker": {
          "colors": [
           "#636EFA",
           "#EF553B",
           "#00CC96",
           "#AB63FA",
           "#FFA15A",
           "#19D3F3",
           "#FF6692",
           "#B6E880",
           "#FF97FF",
           "#FECB52"
          ]
         },
         "name": "Доли клиентов",
         "type": "pie",
         "values": [
          34,
          304,
          614,
          519,
          385,
          338,
          200,
          35
         ]
        }
       ],
       "layout": {
        "annotations": [
         {
          "font": {
           "size": 16
          },
          "showarrow": false,
          "text": "Общая сумма платежей по возрастным группам",
          "x": 0.225,
          "xanchor": "center",
          "xref": "paper",
          "y": 1,
          "yanchor": "bottom",
          "yref": "paper"
         },
         {
          "font": {
           "size": 16
          },
          "showarrow": false,
          "text": "Количество транзакций по возрастным группам",
          "x": 0.775,
          "xanchor": "center",
          "xref": "paper",
          "y": 1,
          "yanchor": "bottom",
          "yref": "paper"
         },
         {
          "font": {
           "size": 16
          },
          "showarrow": false,
          "text": "Средний платеж по возрастным группам",
          "x": 0.225,
          "xanchor": "center",
          "xref": "paper",
          "y": 0.375,
          "yanchor": "bottom",
          "yref": "paper"
         },
         {
          "font": {
           "size": 16
          },
          "showarrow": false,
          "text": "Доля клиентов по возрастным группам",
          "x": 0.775,
          "xanchor": "center",
          "xref": "paper",
          "y": 0.375,
          "yanchor": "bottom",
          "yref": "paper"
         }
        ],
        "autosize": true,
        "showlegend": true,
        "template": {
         "data": {
          "bar": [
           {
            "error_x": {
             "color": "#2a3f5f"
            },
            "error_y": {
             "color": "#2a3f5f"
            },
            "marker": {
             "line": {
              "color": "#E5ECF6",
              "width": 0.5
             },
             "pattern": {
              "fillmode": "overlay",
              "size": 10,
              "solidity": 0.2
             }
            },
            "type": "bar"
           }
          ],
          "barpolar": [
           {
            "marker": {
             "line": {
              "color": "#E5ECF6",
              "width": 0.5
             },
             "pattern": {
              "fillmode": "overlay",
              "size": 10,
              "solidity": 0.2
             }
            },
            "type": "barpolar"
           }
          ],
          "carpet": [
           {
            "aaxis": {
             "endlinecolor": "#2a3f5f",
             "gridcolor": "white",
             "linecolor": "white",
             "minorgridcolor": "white",
             "startlinecolor": "#2a3f5f"
            },
            "baxis": {
             "endlinecolor": "#2a3f5f",
             "gridcolor": "white",
             "linecolor": "white",
             "minorgridcolor": "white",
             "startlinecolor": "#2a3f5f"
            },
            "type": "carpet"
           }
          ],
          "choropleth": [
           {
            "colorbar": {
             "outlinewidth": 0,
             "ticks": ""
            },
            "type": "choropleth"
           }
          ],
          "contour": [
           {
            "colorbar": {
             "outlinewidth": 0,
             "ticks": ""
            },
            "colorscale": [
             [
              0,
              "#0d0887"
             ],
             [
              0.1111111111111111,
              "#46039f"
             ],
             [
              0.2222222222222222,
              "#7201a8"
             ],
             [
              0.3333333333333333,
              "#9c179e"
             ],
             [
              0.4444444444444444,
              "#bd3786"
             ],
             [
              0.5555555555555556,
              "#d8576b"
             ],
             [
              0.6666666666666666,
              "#ed7953"
             ],
             [
              0.7777777777777778,
              "#fb9f3a"
             ],
             [
              0.8888888888888888,
              "#fdca26"
             ],
             [
              1,
              "#f0f921"
             ]
            ],
            "type": "contour"
           }
          ],
          "contourcarpet": [
           {
            "colorbar": {
             "outlinewidth": 0,
             "ticks": ""
            },
            "type": "contourcarpet"
           }
          ],
          "heatmap": [
           {
            "colorbar": {
             "outlinewidth": 0,
             "ticks": ""
            },
            "colorscale": [
             [
              0,
              "#0d0887"
             ],
             [
              0.1111111111111111,
              "#46039f"
             ],
             [
              0.2222222222222222,
              "#7201a8"
             ],
             [
              0.3333333333333333,
              "#9c179e"
             ],
             [
              0.4444444444444444,
              "#bd3786"
             ],
             [
              0.5555555555555556,
              "#d8576b"
             ],
             [
              0.6666666666666666,
              "#ed7953"
             ],
             [
              0.7777777777777778,
              "#fb9f3a"
             ],
             [
              0.8888888888888888,
              "#fdca26"
             ],
             [
              1,
              "#f0f921"
             ]
            ],
            "type": "heatmap"
           }
          ],
          "heatmapgl": [
           {
            "colorbar": {
             "outlinewidth": 0,
             "ticks": ""
            },
            "colorscale": [
             [
              0,
              "#0d0887"
             ],
             [
              0.1111111111111111,
              "#46039f"
             ],
             [
              0.2222222222222222,
              "#7201a8"
             ],
             [
              0.3333333333333333,
              "#9c179e"
             ],
             [
              0.4444444444444444,
              "#bd3786"
             ],
             [
              0.5555555555555556,
              "#d8576b"
             ],
             [
              0.6666666666666666,
              "#ed7953"
             ],
             [
              0.7777777777777778,
              "#fb9f3a"
             ],
             [
              0.8888888888888888,
              "#fdca26"
             ],
             [
              1,
              "#f0f921"
             ]
            ],
            "type": "heatmapgl"
           }
          ],
          "histogram": [
           {
            "marker": {
             "pattern": {
              "fillmode": "overlay",
              "size": 10,
              "solidity": 0.2
             }
            },
            "type": "histogram"
           }
          ],
          "histogram2d": [
           {
            "colorbar": {
             "outlinewidth": 0,
             "ticks": ""
            },
            "colorscale": [
             [
              0,
              "#0d0887"
             ],
             [
              0.1111111111111111,
              "#46039f"
             ],
             [
              0.2222222222222222,
              "#7201a8"
             ],
             [
              0.3333333333333333,
              "#9c179e"
             ],
             [
              0.4444444444444444,
              "#bd3786"
             ],
             [
              0.5555555555555556,
              "#d8576b"
             ],
             [
              0.6666666666666666,
              "#ed7953"
             ],
             [
              0.7777777777777778,
              "#fb9f3a"
             ],
             [
              0.8888888888888888,
              "#fdca26"
             ],
             [
              1,
              "#f0f921"
             ]
            ],
            "type": "histogram2d"
           }
          ],
          "histogram2dcontour": [
           {
            "colorbar": {
             "outlinewidth": 0,
             "ticks": ""
            },
            "colorscale": [
             [
              0,
              "#0d0887"
             ],
             [
              0.1111111111111111,
              "#46039f"
             ],
             [
              0.2222222222222222,
              "#7201a8"
             ],
             [
              0.3333333333333333,
              "#9c179e"
             ],
             [
              0.4444444444444444,
              "#bd3786"
             ],
             [
              0.5555555555555556,
              "#d8576b"
             ],
             [
              0.6666666666666666,
              "#ed7953"
             ],
             [
              0.7777777777777778,
              "#fb9f3a"
             ],
             [
              0.8888888888888888,
              "#fdca26"
             ],
             [
              1,
              "#f0f921"
             ]
            ],
            "type": "histogram2dcontour"
           }
          ],
          "mesh3d": [
           {
            "colorbar": {
             "outlinewidth": 0,
             "ticks": ""
            },
            "type": "mesh3d"
           }
          ],
          "parcoords": [
           {
            "line": {
             "colorbar": {
              "outlinewidth": 0,
              "ticks": ""
             }
            },
            "type": "parcoords"
           }
          ],
          "pie": [
           {
            "automargin": true,
            "type": "pie"
           }
          ],
          "scatter": [
           {
            "fillpattern": {
             "fillmode": "overlay",
             "size": 10,
             "solidity": 0.2
            },
            "type": "scatter"
           }
          ],
          "scatter3d": [
           {
            "line": {
             "colorbar": {
              "outlinewidth": 0,
              "ticks": ""
             }
            },
            "marker": {
             "colorbar": {
              "outlinewidth": 0,
              "ticks": ""
             }
            },
            "type": "scatter3d"
           }
          ],
          "scattercarpet": [
           {
            "marker": {
             "colorbar": {
              "outlinewidth": 0,
              "ticks": ""
             }
            },
            "type": "scattercarpet"
           }
          ],
          "scattergeo": [
           {
            "marker": {
             "colorbar": {
              "outlinewidth": 0,
              "ticks": ""
             }
            },
            "type": "scattergeo"
           }
          ],
          "scattergl": [
           {
            "marker": {
             "colorbar": {
              "outlinewidth": 0,
              "ticks": ""
             }
            },
            "type": "scattergl"
           }
          ],
          "scattermapbox": [
           {
            "marker": {
             "colorbar": {
              "outlinewidth": 0,
              "ticks": ""
             }
            },
            "type": "scattermapbox"
           }
          ],
          "scatterpolar": [
           {
            "marker": {
             "colorbar": {
              "outlinewidth": 0,
              "ticks": ""
             }
            },
            "type": "scatterpolar"
           }
          ],
          "scatterpolargl": [
           {
            "marker": {
             "colorbar": {
              "outlinewidth": 0,
              "ticks": ""
             }
            },
            "type": "scatterpolargl"
           }
          ],
          "scatterternary": [
           {
            "marker": {
             "colorbar": {
              "outlinewidth": 0,
              "ticks": ""
             }
            },
            "type": "scatterternary"
           }
          ],
          "surface": [
           {
            "colorbar": {
             "outlinewidth": 0,
             "ticks": ""
            },
            "colorscale": [
             [
              0,
              "#0d0887"
             ],
             [
              0.1111111111111111,
              "#46039f"
             ],
             [
              0.2222222222222222,
              "#7201a8"
             ],
             [
              0.3333333333333333,
              "#9c179e"
             ],
             [
              0.4444444444444444,
              "#bd3786"
             ],
             [
              0.5555555555555556,
              "#d8576b"
             ],
             [
              0.6666666666666666,
              "#ed7953"
             ],
             [
              0.7777777777777778,
              "#fb9f3a"
             ],
             [
              0.8888888888888888,
              "#fdca26"
             ],
             [
              1,
              "#f0f921"
             ]
            ],
            "type": "surface"
           }
          ],
          "table": [
           {
            "cells": {
             "fill": {
              "color": "#EBF0F8"
             },
             "line": {
              "color": "white"
             }
            },
            "header": {
             "fill": {
              "color": "#C8D4E3"
             },
             "line": {
              "color": "white"
             }
            },
            "type": "table"
           }
          ]
         },
         "layout": {
          "annotationdefaults": {
           "arrowcolor": "#2a3f5f",
           "arrowhead": 0,
           "arrowwidth": 1
          },
          "autotypenumbers": "strict",
          "coloraxis": {
           "colorbar": {
            "outlinewidth": 0,
            "ticks": ""
           }
          },
          "colorscale": {
           "diverging": [
            [
             0,
             "#8e0152"
            ],
            [
             0.1,
             "#c51b7d"
            ],
            [
             0.2,
             "#de77ae"
            ],
            [
             0.3,
             "#f1b6da"
            ],
            [
             0.4,
             "#fde0ef"
            ],
            [
             0.5,
             "#f7f7f7"
            ],
            [
             0.6,
             "#e6f5d0"
            ],
            [
             0.7,
             "#b8e186"
            ],
            [
             0.8,
             "#7fbc41"
            ],
            [
             0.9,
             "#4d9221"
            ],
            [
             1,
             "#276419"
            ]
           ],
           "sequential": [
            [
             0,
             "#0d0887"
            ],
            [
             0.1111111111111111,
             "#46039f"
            ],
            [
             0.2222222222222222,
             "#7201a8"
            ],
            [
             0.3333333333333333,
             "#9c179e"
            ],
            [
             0.4444444444444444,
             "#bd3786"
            ],
            [
             0.5555555555555556,
             "#d8576b"
            ],
            [
             0.6666666666666666,
             "#ed7953"
            ],
            [
             0.7777777777777778,
             "#fb9f3a"
            ],
            [
             0.8888888888888888,
             "#fdca26"
            ],
            [
             1,
             "#f0f921"
            ]
           ],
           "sequentialminus": [
            [
             0,
             "#0d0887"
            ],
            [
             0.1111111111111111,
             "#46039f"
            ],
            [
             0.2222222222222222,
             "#7201a8"
            ],
            [
             0.3333333333333333,
             "#9c179e"
            ],
            [
             0.4444444444444444,
             "#bd3786"
            ],
            [
             0.5555555555555556,
             "#d8576b"
            ],
            [
             0.6666666666666666,
             "#ed7953"
            ],
            [
             0.7777777777777778,
             "#fb9f3a"
            ],
            [
             0.8888888888888888,
             "#fdca26"
            ],
            [
             1,
             "#f0f921"
            ]
           ]
          },
          "colorway": [
           "#636efa",
           "#EF553B",
           "#00cc96",
           "#ab63fa",
           "#FFA15A",
           "#19d3f3",
           "#FF6692",
           "#B6E880",
           "#FF97FF",
           "#FECB52"
          ],
          "font": {
           "color": "#2a3f5f"
          },
          "geo": {
           "bgcolor": "white",
           "lakecolor": "white",
           "landcolor": "#E5ECF6",
           "showlakes": true,
           "showland": true,
           "subunitcolor": "white"
          },
          "hoverlabel": {
           "align": "left"
          },
          "hovermode": "closest",
          "mapbox": {
           "style": "light"
          },
          "paper_bgcolor": "white",
          "plot_bgcolor": "#E5ECF6",
          "polar": {
           "angularaxis": {
            "gridcolor": "white",
            "linecolor": "white",
            "ticks": ""
           },
           "bgcolor": "#E5ECF6",
           "radialaxis": {
            "gridcolor": "white",
            "linecolor": "white",
            "ticks": ""
           }
          },
          "scene": {
           "xaxis": {
            "backgroundcolor": "#E5ECF6",
            "gridcolor": "white",
            "gridwidth": 2,
            "linecolor": "white",
            "showbackground": true,
            "ticks": "",
            "zerolinecolor": "white"
           },
           "yaxis": {
            "backgroundcolor": "#E5ECF6",
            "gridcolor": "white",
            "gridwidth": 2,
            "linecolor": "white",
            "showbackground": true,
            "ticks": "",
            "zerolinecolor": "white"
           },
           "zaxis": {
            "backgroundcolor": "#E5ECF6",
            "gridcolor": "white",
            "gridwidth": 2,
            "linecolor": "white",
            "showbackground": true,
            "ticks": "",
            "zerolinecolor": "white"
           }
          },
          "shapedefaults": {
           "line": {
            "color": "#2a3f5f"
           }
          },
          "ternary": {
           "aaxis": {
            "gridcolor": "white",
            "linecolor": "white",
            "ticks": ""
           },
           "baxis": {
            "gridcolor": "white",
            "linecolor": "white",
            "ticks": ""
           },
           "bgcolor": "#E5ECF6",
           "caxis": {
            "gridcolor": "white",
            "linecolor": "white",
            "ticks": ""
           }
          },
          "title": {
           "x": 0.05
          },
          "xaxis": {
           "automargin": true,
           "gridcolor": "white",
           "linecolor": "white",
           "ticks": "",
           "title": {
            "standoff": 15
           },
           "zerolinecolor": "white",
           "zerolinewidth": 2
          },
          "yaxis": {
           "automargin": true,
           "gridcolor": "white",
           "linecolor": "white",
           "ticks": "",
           "title": {
            "standoff": 15
           },
           "zerolinecolor": "white",
           "zerolinewidth": 2
          }
         }
        },
        "title": {
         "text": "Анализ возрастных групп клиентов"
        },
        "xaxis": {
         "anchor": "y",
         "autorange": true,
         "domain": [
          0,
          0.45
         ],
         "range": [
          -0.5,
          7.5
         ],
         "type": "category"
        },
        "xaxis2": {
         "anchor": "y2",
         "autorange": true,
         "domain": [
          0.55,
          1
         ],
         "range": [
          -0.5,
          7.5
         ],
         "type": "category"
        },
        "xaxis3": {
         "anchor": "y3",
         "autorange": true,
         "domain": [
          0,
          0.45
         ],
         "range": [
          -0.5,
          7.5
         ],
         "type": "category"
        },
        "yaxis": {
         "anchor": "x",
         "autorange": true,
         "domain": [
          0.625,
          1
         ],
         "range": [
          0,
          953394.4
         ],
         "type": "linear"
        },
        "yaxis2": {
         "anchor": "x2",
         "autorange": true,
         "domain": [
          0.625,
          1
         ],
         "range": [
          0,
          104525.26315789473
         ],
         "type": "linear"
        },
        "yaxis3": {
         "anchor": "x3",
         "autorange": true,
         "domain": [
          0,
          0.375
         ],
         "range": [
          0,
          10.550778722460283
         ],
         "type": "linear"
        }
       }
      },
      "image/png": "[encoded data removed]",
      "text/html": [
       "<div>                            <div id=\"9a51ef55-1868-44c7-a0c6-3c725e3f582f\" class=\"plotly-graph-div\" style=\"height:800px; width:100%;\"></div>            <script type=\"text/javascript\">                require([\"plotly\"], function(Plotly) {                    window.PLOTLYENV=window.PLOTLYENV || {};                                    if (document.getElementById(\"9a51ef55-1868-44c7-a0c6-3c725e3f582f\")) {                    Plotly.newPlot(                        \"9a51ef55-1868-44c7-a0c6-3c725e3f582f\",                        [{\"marker\":{\"color\":\"#636EFA\"},\"name\":\"\\u0421\\u0443\\u043c\\u043c\\u0430 \\u043f\\u043b\\u0430\\u0442\\u0435\\u0436\\u0435\\u0439\",\"x\":[\"0-18\",\"19-25\",\"26-35\",\"36-45\",\"46-55\",\"56-65\",\"65+\",\"Unknown\"],\"y\":[54482.07,480373.79,834150.0,670480.17,500637.55,467244.11,905724.68,64641.24],\"type\":\"bar\",\"xaxis\":\"x\",\"yaxis\":\"y\"},{\"marker\":{\"color\":\"#EF553B\"},\"name\":\"\\u0422\\u0440\\u0430\\u043d\\u0437\\u0430\\u043a\\u0446\\u0438\\u0438\",\"x\":[\"0-18\",\"19-25\",\"26-35\",\"36-45\",\"46-55\",\"56-65\",\"65+\",\"Unknown\"],\"y\":[6099,47926,88652,69710,50738,50149,99299,6549],\"type\":\"bar\",\"xaxis\":\"x2\",\"yaxis\":\"y2\"},{\"marker\":{\"color\":\"#00CC96\"},\"name\":\"\\u0421\\u0440\\u0435\\u0434\\u043d\\u0438\\u0439 \\u043f\\u043b\\u0430\\u0442\\u0435\\u0436\",\"x\":[\"0-18\",\"19-25\",\"26-35\",\"36-45\",\"46-55\",\"56-65\",\"65+\",\"Unknown\"],\"y\":[8.932951303492375,10.02323978633727,9.409263186391733,9.618134700903745,9.867112420670898,9.317117190771501,9.121186316075692,9.870398534127347],\"type\":\"bar\",\"xaxis\":\"x3\",\"yaxis\":\"y3\"},{\"labels\":[\"0-18\",\"19-25\",\"26-35\",\"36-45\",\"46-55\",\"56-65\",\"65+\",\"Unknown\"],\"marker\":{\"colors\":[\"#636EFA\",\"#EF553B\",\"#00CC96\",\"#AB63FA\",\"#FFA15A\",\"#19D3F3\",\"#FF6692\",\"#B6E880\",\"#FF97FF\",\"#FECB52\"]},\"name\":\"\\u0414\\u043e\\u043b\\u0438 \\u043a\\u043b\\u0438\\u0435\\u043d\\u0442\\u043e\\u0432\",\"values\":[34,304,614,519,385,338,200,35],\"type\":\"pie\",\"domain\":{\"x\":[0.55,1.0],\"y\":[0.0,0.375]}}],                        {\"template\":{\"data\":{\"histogram2dcontour\":[{\"type\":\"histogram2dcontour\",\"colorbar\":{\"outlinewidth\":0,\"ticks\":\"\"},\"colorscale\":[[0.0,\"#0d0887\"],[0.1111111111111111,\"#46039f\"],[0.2222222222222222,\"#7201a8\"],[0.3333333333333333,\"#9c179e\"],[0.4444444444444444,\"#bd3786\"],[0.5555555555555556,\"#d8576b\"],[0.6666666666666666,\"#ed7953\"],[0.7777777777777778,\"#fb9f3a\"],[0.8888888888888888,\"#fdca26\"],[1.0,\"#f0f921\"]]}],\"choropleth\":[{\"type\":\"choropleth\",\"colorbar\":{\"outlinewidth\":0,\"ticks\":\"\"}}],\"histogram2d\":[{\"type\":\"histogram2d\",\"colorbar\":{\"outlinewidth\":0,\"ticks\":\"\"},\"colorscale\":[[0.0,\"#0d0887\"],[0.1111111111111111,\"#46039f\"],[0.2222222222222222,\"#7201a8\"],[0.3333333333333333,\"#9c179e\"],[0.4444444444444444,\"#bd3786\"],[0.5555555555555556,\"#d8576b\"],[0.6666666666666666,\"#ed7953\"],[0.7777777777777778,\"#fb9f3a\"],[0.8888888888888888,\"#fdca26\"],[1.0,\"#f0f921\"]]}],\"heatmap\":[{\"type\":\"heatmap\",\"colorbar\":{\"outlinewidth\":0,\"ticks\":\"\"},\"colorscale\":[[0.0,\"#0d0887\"],[0.1111111111111111,\"#46039f\"],[0.2222222222222222,\"#7201a8\"],[0.3333333333333333,\"#9c179e\"],[0.4444444444444444,\"#bd3786\"],[0.5555555555555556,\"#d8576b\"],[0.6666666666666666,\"#ed7953\"],[0.7777777777777778,\"#fb9f3a\"],[0.8888888888888888,\"#fdca26\"],[1.0,\"#f0f921\"]]}],\"heatmapgl\":[{\"type\":\"heatmapgl\",\"colorbar\":{\"outlinewidth\":0,\"ticks\":\"\"},\"colorscale\":[[0.0,\"#0d0887\"],[0.1111111111111111,\"#46039f\"],[0.2222222222222222,\"#7201a8\"],[0.3333333333333333,\"#9c179e\"],[0.4444444444444444,\"#bd3786\"],[0.5555555555555556,\"#d8576b\"],[0.6666666666666666,\"#ed7953\"],[0.7777777777777778,\"#fb9f3a\"],[0.8888888888888888,\"#fdca26\"],[1.0,\"#f0f921\"]]}],\"contourcarpet\":[{\"type\":\"contourcarpet\",\"colorbar\":{\"outlinewidth\":0,\"ticks\":\"\"}}],\"contour\":[{\"type\":\"contour\",\"colorbar\":{\"outlinewidth\":0,\"ticks\":\"\"},\"colorscale\":[[0.0,\"#0d0887\"],[0.1111111111111111,\"#46039f\"],[0.2222222222222222,\"#7201a8\"],[0.3333333333333333,\"#9c179e\"],[0.4444444444444444,\"#bd3786\"],[0.5555555555555556,\"#d8576b\"],[0.6666666666666666,\"#ed7953\"],[0.7777777777777778,\"#fb9f3a\"],[0.8888888888888888,\"#fdca26\"],[1.0,\"#f0f921\"]]}],\"surface\":[{\"type\":\"surface\",\"colorbar\":{\"outlinewidth\":0,\"ticks\":\"\"},\"colorscale\":[[0.0,\"#0d0887\"],[0.1111111111111111,\"#46039f\"],[0.2222222222222222,\"#7201a8\"],[0.3333333333333333,\"#9c179e\"],[0.4444444444444444,\"#bd3786\"],[0.5555555555555556,\"#d8576b\"],[0.6666666666666666,\"#ed7953\"],[0.7777777777777778,\"#fb9f3a\"],[0.8888888888888888,\"#fdca26\"],[1.0,\"#f0f921\"]]}],\"mesh3d\":[{\"type\":\"mesh3d\",\"colorbar\":{\"outlinewidth\":0,\"ticks\":\"\"}}],\"scatter\":[{\"fillpattern\":{\"fillmode\":\"overlay\",\"size\":10,\"solidity\":0.2},\"type\":\"scatter\"}],\"parcoords\":[{\"type\":\"parcoords\",\"line\":{\"colorbar\":{\"outlinewidth\":0,\"ticks\":\"\"}}}],\"scatterpolargl\":[{\"type\":\"scatterpolargl\",\"marker\":{\"colorbar\":{\"outlinewidth\":0,\"ticks\":\"\"}}}],\"bar\":[{\"error_x\":{\"color\":\"#2a3f5f\"},\"error_y\":{\"color\":\"#2a3f5f\"},\"marker\":{\"line\":{\"color\":\"#E5ECF6\",\"width\":0.5},\"pattern\":{\"fillmode\":\"overlay\",\"size\":10,\"solidity\":0.2}},\"type\":\"bar\"}],\"scattergeo\":[{\"type\":\"scattergeo\",\"marker\":{\"colorbar\":{\"outlinewidth\":0,\"ticks\":\"\"}}}],\"scatterpolar\":[{\"type\":\"scatterpolar\",\"marker\":{\"colorbar\":{\"outlinewidth\":0,\"ticks\":\"\"}}}],\"histogram\":[{\"marker\":{\"pattern\":{\"fillmode\":\"overlay\",\"size\":10,\"solidity\":0.2}},\"type\":\"histogram\"}],\"scattergl\":[{\"type\":\"scattergl\",\"marker\":{\"colorbar\":{\"outlinewidth\":0,\"ticks\":\"\"}}}],\"scatter3d\":[{\"type\":\"scatter3d\",\"line\":{\"colorbar\":{\"outlinewidth\":0,\"ticks\":\"\"}},\"marker\":{\"colorbar\":{\"outlinewidth\":0,\"ticks\":\"\"}}}],\"scattermapbox\":[{\"type\":\"scattermapbox\",\"marker\":{\"colorbar\":{\"outlinewidth\":0,\"ticks\":\"\"}}}],\"scatterternary\":[{\"type\":\"scatterternary\",\"marker\":{\"colorbar\":{\"outlinewidth\":0,\"ticks\":\"\"}}}],\"scattercarpet\":[{\"type\":\"scattercarpet\",\"marker\":{\"colorbar\":{\"outlinewidth\":0,\"ticks\":\"\"}}}],\"carpet\":[{\"aaxis\":{\"endlinecolor\":\"#2a3f5f\",\"gridcolor\":\"white\",\"linecolor\":\"white\",\"minorgridcolor\":\"white\",\"startlinecolor\":\"#2a3f5f\"},\"baxis\":{\"endlinecolor\":\"#2a3f5f\",\"gridcolor\":\"white\",\"linecolor\":\"white\",\"minorgridcolor\":\"white\",\"startlinecolor\":\"#2a3f5f\"},\"type\":\"carpet\"}],\"table\":[{\"cells\":{\"fill\":{\"color\":\"#EBF0F8\"},\"line\":{\"color\":\"white\"}},\"header\":{\"fill\":{\"color\":\"#C8D4E3\"},\"line\":{\"color\":\"white\"}},\"type\":\"table\"}],\"barpolar\":[{\"marker\":{\"line\":{\"color\":\"#E5ECF6\",\"width\":0.5},\"pattern\":{\"fillmode\":\"overlay\",\"size\":10,\"solidity\":0.2}},\"type\":\"barpolar\"}],\"pie\":[{\"automargin\":true,\"type\":\"pie\"}]},\"layout\":{\"autotypenumbers\":\"strict\",\"colorway\":[\"#636efa\",\"#EF553B\",\"#00cc96\",\"#ab63fa\",\"#FFA15A\",\"#19d3f3\",\"#FF6692\",\"#B6E880\",\"#FF97FF\",\"#FECB52\"],\"font\":{\"color\":\"#2a3f5f\"},\"hovermode\":\"closest\",\"hoverlabel\":{\"align\":\"left\"},\"paper_bgcolor\":\"white\",\"plot_bgcolor\":\"#E5ECF6\",\"polar\":{\"bgcolor\":\"#E5ECF6\",\"angularaxis\":{\"gridcolor\":\"white\",\"linecolor\":\"white\",\"ticks\":\"\"},\"radialaxis\":{\"gridcolor\":\"white\",\"linecolor\":\"white\",\"ticks\":\"\"}},\"ternary\":{\"bgcolor\":\"#E5ECF6\",\"aaxis\":{\"gridcolor\":\"white\",\"linecolor\":\"white\",\"ticks\":\"\"},\"baxis\":{\"gridcolor\":\"white\",\"linecolor\":\"white\",\"ticks\":\"\"},\"caxis\":{\"gridcolor\":\"white\",\"linecolor\":\"white\",\"ticks\":\"\"}},\"coloraxis\":{\"colorbar\":{\"outlinewidth\":0,\"ticks\":\"\"}},\"colorscale\":{\"sequential\":[[0.0,\"#0d0887\"],[0.1111111111111111,\"#46039f\"],[0.2222222222222222,\"#7201a8\"],[0.3333333333333333,\"#9c179e\"],[0.4444444444444444,\"#bd3786\"],[0.5555555555555556,\"#d8576b\"],[0.6666666666666666,\"#ed7953\"],[0.7777777777777778,\"#fb9f3a\"],[0.8888888888888888,\"#fdca26\"],[1.0,\"#f0f921\"]],\"sequentialminus\":[[0.0,\"#0d0887\"],[0.1111111111111111,\"#46039f\"],[0.2222222222222222,\"#7201a8\"],[0.3333333333333333,\"#9c179e\"],[0.4444444444444444,\"#bd3786\"],[0.5555555555555556,\"#d8576b\"],[0.6666666666666666,\"#ed7953\"],[0.7777777777777778,\"#fb9f3a\"],[0.8888888888888888,\"#fdca26\"],[1.0,\"#f0f921\"]],\"diverging\":[[0,\"#8e0152\"],[0.1,\"#c51b7d\"],[0.2,\"#de77ae\"],[0.3,\"#f1b6da\"],[0.4,\"#fde0ef\"],[0.5,\"#f7f7f7\"],[0.6,\"#e6f5d0\"],[0.7,\"#b8e186\"],[0.8,\"#7fbc41\"],[0.9,\"#4d9221\"],[1,\"#276419\"]]},\"xaxis\":{\"gridcolor\":\"white\",\"linecolor\":\"white\",\"ticks\":\"\",\"title\":{\"standoff\":15},\"zerolinecolor\":\"white\",\"automargin\":true,\"zerolinewidth\":2},\"yaxis\":{\"gridcolor\":\"white\",\"linecolor\":\"white\",\"ticks\":\"\",\"title\":{\"standoff\":15},\"zerolinecolor\":\"white\",\"automargin\":true,\"zerolinewidth\":2},\"scene\":{\"xaxis\":{\"backgroundcolor\":\"#E5ECF6\",\"gridcolor\":\"white\",\"linecolor\":\"white\",\"showbackground\":true,\"ticks\":\"\",\"zerolinecolor\":\"white\",\"gridwidth\":2},\"yaxis\":{\"backgroundcolor\":\"#E5ECF6\",\"gridcolor\":\"white\",\"linecolor\":\"white\",\"showbackground\":true,\"ticks\":\"\",\"zerolinecolor\":\"white\",\"gridwidth\":2},\"zaxis\":{\"backgroundcolor\":\"#E5ECF6\",\"gridcolor\":\"white\",\"linecolor\":\"white\",\"showbackground\":true,\"ticks\":\"\",\"zerolinecolor\":\"white\",\"gridwidth\":2}},\"shapedefaults\":{\"line\":{\"color\":\"#2a3f5f\"}},\"annotationdefaults\":{\"arrowcolor\":\"#2a3f5f\",\"arrowhead\":0,\"arrowwidth\":1},\"geo\":{\"bgcolor\":\"white\",\"landcolor\":\"#E5ECF6\",\"subunitcolor\":\"white\",\"showland\":true,\"showlakes\":true,\"lakecolor\":\"white\"},\"title\":{\"x\":0.05},\"mapbox\":{\"style\":\"light\"}}},\"xaxis\":{\"anchor\":\"y\",\"domain\":[0.0,0.45]},\"yaxis\":{\"anchor\":\"x\",\"domain\":[0.625,1.0]},\"xaxis2\":{\"anchor\":\"y2\",\"domain\":[0.55,1.0]},\"yaxis2\":{\"anchor\":\"x2\",\"domain\":[0.625,1.0]},\"xaxis3\":{\"anchor\":\"y3\",\"domain\":[0.0,0.45]},\"yaxis3\":{\"anchor\":\"x3\",\"domain\":[0.0,0.375]},\"annotations\":[{\"font\":{\"size\":16},\"showarrow\":false,\"text\":\"\\u041e\\u0431\\u0449\\u0430\\u044f \\u0441\\u0443\\u043c\\u043c\\u0430 \\u043f\\u043b\\u0430\\u0442\\u0435\\u0436\\u0435\\u0439 \\u043f\\u043e \\u0432\\u043e\\u0437\\u0440\\u0430\\u0441\\u0442\\u043d\\u044b\\u043c \\u0433\\u0440\\u0443\\u043f\\u043f\\u0430\\u043c\",\"x\":0.225,\"xanchor\":\"center\",\"xref\":\"paper\",\"y\":1.0,\"yanchor\":\"bottom\",\"yref\":\"paper\"},{\"font\":{\"size\":16},\"showarrow\":false,\"text\":\"\\u041a\\u043e\\u043b\\u0438\\u0447\\u0435\\u0441\\u0442\\u0432\\u043e \\u0442\\u0440\\u0430\\u043d\\u0437\\u0430\\u043a\\u0446\\u0438\\u0439 \\u043f\\u043e \\u0432\\u043e\\u0437\\u0440\\u0430\\u0441\\u0442\\u043d\\u044b\\u043c \\u0433\\u0440\\u0443\\u043f\\u043f\\u0430\\u043c\",\"x\":0.775,\"xanchor\":\"center\",\"xref\":\"paper\",\"y\":1.0,\"yanchor\":\"bottom\",\"yref\":\"paper\"},{\"font\":{\"size\":16},\"showarrow\":false,\"text\":\"\\u0421\\u0440\\u0435\\u0434\\u043d\\u0438\\u0439 \\u043f\\u043b\\u0430\\u0442\\u0435\\u0436 \\u043f\\u043e \\u0432\\u043e\\u0437\\u0440\\u0430\\u0441\\u0442\\u043d\\u044b\\u043c \\u0433\\u0440\\u0443\\u043f\\u043f\\u0430\\u043c\",\"x\":0.225,\"xanchor\":\"center\",\"xref\":\"paper\",\"y\":0.375,\"yanchor\":\"bottom\",\"yref\":\"paper\"},{\"font\":{\"size\":16},\"showarrow\":false,\"text\":\"\\u0414\\u043e\\u043b\\u044f \\u043a\\u043b\\u0438\\u0435\\u043d\\u0442\\u043e\\u0432 \\u043f\\u043e \\u0432\\u043e\\u0437\\u0440\\u0430\\u0441\\u0442\\u043d\\u044b\\u043c \\u0433\\u0440\\u0443\\u043f\\u043f\\u0430\\u043c\",\"x\":0.775,\"xanchor\":\"center\",\"xref\":\"paper\",\"y\":0.375,\"yanchor\":\"bottom\",\"yref\":\"paper\"}],\"title\":{\"text\":\"\\u0410\\u043d\\u0430\\u043b\\u0438\\u0437 \\u0432\\u043e\\u0437\\u0440\\u0430\\u0441\\u0442\\u043d\\u044b\\u0445 \\u0433\\u0440\\u0443\\u043f\\u043f \\u043a\\u043b\\u0438\\u0435\\u043d\\u0442\\u043e\\u0432\"},\"height\":800,\"showlegend\":true},                        {\"responsive\": true}                    ).then(function(){\n",
       "                            \n",
       "var gd = document.getElementById('9a51ef55-1868-44c7-a0c6-3c725e3f582f');\n",
       "var x = new MutationObserver(function (mutations, observer) {{\n",
       "        var display = window.getComputedStyle(gd).display;\n",
       "        if (!display || display === 'none') {{\n",
       "            console.log([gd, 'removed!']);\n",
       "            Plotly.purge(gd);\n",
       "            observer.disconnect();\n",
       "        }}\n",
       "}});\n",
       "\n",
       "// Listen for the removal of the full notebook cells\n",
       "var notebookContainer = gd.closest('#notebook-container');\n",
       "if (notebookContainer) {{\n",
       "    x.observe(notebookContainer, {childList: true});\n",
       "}}\n",
       "\n",
       "// Listen for the clearing of the current output cell\n",
       "var outputEl = gd.closest('.output');\n",
       "if (outputEl) {{\n",
       "    x.observe(outputEl, {childList: true});\n",
       "}}\n",
       "\n",
       "                        })                };                });            </script>        </div>"
      ]
     },
     "metadata": {},
     "output_type": "display_data"
    }
   ],
   "source": [
    "# в идеале скорректирвала бы легенду, оставив только возрастные сегменты\n",
    "fig = make_subplots(rows=2, cols=2, \n",
    "                   subplot_titles=('Общая сумма платежей по возрастным группам',\n",
    "                                   'Количество транзакций по возрастным группам',\n",
    "                                   'Средний платеж по возрастным группам',\n",
    "                                   'Доля клиентов по возрастным группам'),\n",
    "                   specs=[[{\"type\": \"xy\"}, {\"type\": \"xy\"}],  # !!! вот эту штуку добавила тк pie не в декартовом сабплоте должен быть\n",
    "                         [{\"type\": \"xy\"}, {\"type\": \"domain\"}]]\n",
    "                   )\n",
    "\n",
    "fig.add_trace(\n",
    "    go.Bar(\n",
    "        x=age_analysis['age_group'],\n",
    "        y=age_analysis['total_payment'],\n",
    "        name='Сумма платежей',\n",
    "        marker_color=px.colors.qualitative.Plotly[0]\n",
    "    ),\n",
    "    row=1, col=1\n",
    ")\n",
    "\n",
    "fig.add_trace(\n",
    "    go.Bar(\n",
    "        x=age_analysis['age_group'],\n",
    "        y=age_analysis['transaction_count'],\n",
    "        name='Транзакции',\n",
    "        marker_color=px.colors.qualitative.Plotly[1]\n",
    "    ),\n",
    "    row=1, col=2\n",
    ")\n",
    "\n",
    "fig.add_trace(\n",
    "    go.Bar(\n",
    "        x=age_analysis['age_group'],\n",
    "        y=age_analysis['avg_payment'],\n",
    "        name='Средний платеж',\n",
    "        marker_color=px.colors.qualitative.Plotly[2]\n",
    "    ),\n",
    "    row=2, col=1\n",
    ")\n",
    "\n",
    "fig.add_trace(\n",
    "    go.Pie(\n",
    "        labels=age_analysis['age_group'],\n",
    "        values=age_analysis['unique_clients'],\n",
    "        name='Доли клиентов',\n",
    "        marker_colors=px.colors.qualitative.Plotly,\n",
    "    ),\n",
    "    row=2, col=2\n",
    ")\n",
    "\n",
    "fig.update_layout(\n",
    "    title_text='Анализ возрастных групп клиентов',\n",
    "    height=800,\n",
    "    showlegend=True\n",
    ")\n",
    "fig.show()"
   ]
  },
  {
   "cell_type": "code",
   "execution_count": 229,
   "id": "24fb93ce-091e-4845-ad65-c44a807b5081",
   "metadata": {},
   "outputs": [],
   "source": [
    "quarterly_payment = quarterly_analysis.pivot(index='quarter', columns='age_group', values='quarterly_payment')\n",
    "quarterly_transactions = quarterly_analysis.pivot(index='quarter', columns='age_group', values='quarterly_transactions')"
   ]
  },
  {
   "cell_type": "markdown",
   "id": "817762cb-057c-42e4-a3ea-927ad92a80b9",
   "metadata": {},
   "source": [
    "**здесь я провожу ээээксперименты и делаю анимированный график с кнопочками**"
   ]
  },
  {
   "cell_type": "code",
   "execution_count": 230,
   "id": "f1482eb5-94ae-40b3-ab9d-5850e52ca337",
   "metadata": {},
   "outputs": [
    {
     "data": {
      "application/vnd.plotly.v1+json": {
       "config": {
        "plotlyServerURL": "https://plot.ly"
       },
       "data": [
        {
         "hovertemplate": "Квартал: %{x}<br>Сумма: %{y:,.0f} руб",
         "marker": {
          "color": "#636EFA"
         },
         "name": "0-18",
         "type": "scatter",
         "visible": true,
         "x": [
          "2015Q2",
          "2015Q3",
          "2015Q4",
          "2016Q1",
          "2016Q2"
         ],
         "y": [
          242.27,
          10994.24,
          13329.87,
          16771.66,
          13144.03
         ]
        },
        {
         "hovertemplate": "Квартал: %{x}<br>Сумма: %{y:,.0f} руб",
         "marker": {
          "color": "#EF553B"
         },
         "name": "19-25",
         "type": "scatter",
         "visible": true,
         "x": [
          "2015Q2",
          "2015Q3",
          "2015Q4",
          "2016Q1",
          "2016Q2"
         ],
         "y": [
          3515.57,
          84925.86,
          98993.42,
          143688.71,
          149250.23
         ]
        },
        {
         "hovertemplate": "Квартал: %{x}<br>Сумма: %{y:,.0f} руб",
         "marker": {
          "color": "#00CC96"
         },
         "name": "26-35",
         "type": "scatter",
         "visible": true,
         "x": [
          "2015Q2",
          "2015Q3",
          "2015Q4",
          "2016Q1",
          "2016Q2"
         ],
         "y": [
          5513.22,
          159672.64,
          175486.39,
          246094.16,
          247383.59
         ]
        },
        {
         "hovertemplate": "Квартал: %{x}<br>Сумма: %{y:,.0f} руб",
         "marker": {
          "color": "#AB63FA"
         },
         "name": "36-45",
         "type": "scatter",
         "visible": true,
         "x": [
          "2015Q2",
          "2015Q3",
          "2015Q4",
          "2016Q1",
          "2016Q2"
         ],
         "y": [
          6016.76,
          141156.2,
          138095.29,
          195405.42,
          189806.5
         ]
        },
        {
         "hovertemplate": "Квартал: %{x}<br>Сумма: %{y:,.0f} руб",
         "marker": {
          "color": "#FFA15A"
         },
         "name": "46-55",
         "type": "scatter",
         "visible": true,
         "x": [
          "2015Q2",
          "2015Q3",
          "2015Q4",
          "2016Q1",
          "2016Q2"
         ],
         "y": [
          3460.29,
          101130.99,
          102205.34,
          153389.14,
          140451.79
         ]
        },
        {
         "hovertemplate": "Квартал: %{x}<br>Сумма: %{y:,.0f} руб",
         "marker": {
          "color": "#19D3F3"
         },
         "name": "56-65",
         "type": "scatter",
         "visible": true,
         "x": [
          "2015Q2",
          "2015Q3",
          "2015Q4",
          "2016Q1",
          "2016Q2"
         ],
         "y": [
          3370.33,
          90302.02,
          95578.09,
          138741.04,
          139252.63
         ]
        },
        {
         "hovertemplate": "Квартал: %{x}<br>Сумма: %{y:,.0f} руб",
         "marker": {
          "color": "#FF6692"
         },
         "name": "65+",
         "type": "scatter",
         "visible": true,
         "x": [
          "2015Q2",
          "2015Q3",
          "2015Q4",
          "2016Q1",
          "2016Q2"
         ],
         "y": [
          7572.94,
          197564.47,
          181385.42,
          271488.29,
          247713.56
         ]
        },
        {
         "hovertemplate": "Квартал: %{x}<br>Сумма: %{y:,.0f} руб",
         "marker": {
          "color": "#B6E880"
         },
         "name": "Unknown",
         "type": "scatter",
         "visible": true,
         "x": [
          "2015Q2",
          "2015Q3",
          "2015Q4",
          "2016Q1",
          "2016Q2"
         ],
         "y": [
          409.78,
          11477.04,
          11448.64,
          20265.34,
          21040.44
         ]
        }
       ],
       "layout": {
        "autosize": true,
        "template": {
         "data": {
          "bar": [
           {
            "error_x": {
             "color": "#2a3f5f"
            },
            "error_y": {
             "color": "#2a3f5f"
            },
            "marker": {
             "line": {
              "color": "#E5ECF6",
              "width": 0.5
             },
             "pattern": {
              "fillmode": "overlay",
              "size": 10,
              "solidity": 0.2
             }
            },
            "type": "bar"
           }
          ],
          "barpolar": [
           {
            "marker": {
             "line": {
              "color": "#E5ECF6",
              "width": 0.5
             },
             "pattern": {
              "fillmode": "overlay",
              "size": 10,
              "solidity": 0.2
             }
            },
            "type": "barpolar"
           }
          ],
          "carpet": [
           {
            "aaxis": {
             "endlinecolor": "#2a3f5f",
             "gridcolor": "white",
             "linecolor": "white",
             "minorgridcolor": "white",
             "startlinecolor": "#2a3f5f"
            },
            "baxis": {
             "endlinecolor": "#2a3f5f",
             "gridcolor": "white",
             "linecolor": "white",
             "minorgridcolor": "white",
             "startlinecolor": "#2a3f5f"
            },
            "type": "carpet"
           }
          ],
          "choropleth": [
           {
            "colorbar": {
             "outlinewidth": 0,
             "ticks": ""
            },
            "type": "choropleth"
           }
          ],
          "contour": [
           {
            "colorbar": {
             "outlinewidth": 0,
             "ticks": ""
            },
            "colorscale": [
             [
              0,
              "#0d0887"
             ],
             [
              0.1111111111111111,
              "#46039f"
             ],
             [
              0.2222222222222222,
              "#7201a8"
             ],
             [
              0.3333333333333333,
              "#9c179e"
             ],
             [
              0.4444444444444444,
              "#bd3786"
             ],
             [
              0.5555555555555556,
              "#d8576b"
             ],
             [
              0.6666666666666666,
              "#ed7953"
             ],
             [
              0.7777777777777778,
              "#fb9f3a"
             ],
             [
              0.8888888888888888,
              "#fdca26"
             ],
             [
              1,
              "#f0f921"
             ]
            ],
            "type": "contour"
           }
          ],
          "contourcarpet": [
           {
            "colorbar": {
             "outlinewidth": 0,
             "ticks": ""
            },
            "type": "contourcarpet"
           }
          ],
          "heatmap": [
           {
            "colorbar": {
             "outlinewidth": 0,
             "ticks": ""
            },
            "colorscale": [
             [
              0,
              "#0d0887"
             ],
             [
              0.1111111111111111,
              "#46039f"
             ],
             [
              0.2222222222222222,
              "#7201a8"
             ],
             [
              0.3333333333333333,
              "#9c179e"
             ],
             [
              0.4444444444444444,
              "#bd3786"
             ],
             [
              0.5555555555555556,
              "#d8576b"
             ],
             [
              0.6666666666666666,
              "#ed7953"
             ],
             [
              0.7777777777777778,
              "#fb9f3a"
             ],
             [
              0.8888888888888888,
              "#fdca26"
             ],
             [
              1,
              "#f0f921"
             ]
            ],
            "type": "heatmap"
           }
          ],
          "heatmapgl": [
           {
            "colorbar": {
             "outlinewidth": 0,
             "ticks": ""
            },
            "colorscale": [
             [
              0,
              "#0d0887"
             ],
             [
              0.1111111111111111,
              "#46039f"
             ],
             [
              0.2222222222222222,
              "#7201a8"
             ],
             [
              0.3333333333333333,
              "#9c179e"
             ],
             [
              0.4444444444444444,
              "#bd3786"
             ],
             [
              0.5555555555555556,
              "#d8576b"
             ],
             [
              0.6666666666666666,
              "#ed7953"
             ],
             [
              0.7777777777777778,
              "#fb9f3a"
             ],
             [
              0.8888888888888888,
              "#fdca26"
             ],
             [
              1,
              "#f0f921"
             ]
            ],
            "type": "heatmapgl"
           }
          ],
          "histogram": [
           {
            "marker": {
             "pattern": {
              "fillmode": "overlay",
              "size": 10,
              "solidity": 0.2
             }
            },
            "type": "histogram"
           }
          ],
          "histogram2d": [
           {
            "colorbar": {
             "outlinewidth": 0,
             "ticks": ""
            },
            "colorscale": [
             [
              0,
              "#0d0887"
             ],
             [
              0.1111111111111111,
              "#46039f"
             ],
             [
              0.2222222222222222,
              "#7201a8"
             ],
             [
              0.3333333333333333,
              "#9c179e"
             ],
             [
              0.4444444444444444,
              "#bd3786"
             ],
             [
              0.5555555555555556,
              "#d8576b"
             ],
             [
              0.6666666666666666,
              "#ed7953"
             ],
             [
              0.7777777777777778,
              "#fb9f3a"
             ],
             [
              0.8888888888888888,
              "#fdca26"
             ],
             [
              1,
              "#f0f921"
             ]
            ],
            "type": "histogram2d"
           }
          ],
          "histogram2dcontour": [
           {
            "colorbar": {
             "outlinewidth": 0,
             "ticks": ""
            },
            "colorscale": [
             [
              0,
              "#0d0887"
             ],
             [
              0.1111111111111111,
              "#46039f"
             ],
             [
              0.2222222222222222,
              "#7201a8"
             ],
             [
              0.3333333333333333,
              "#9c179e"
             ],
             [
              0.4444444444444444,
              "#bd3786"
             ],
             [
              0.5555555555555556,
              "#d8576b"
             ],
             [
              0.6666666666666666,
              "#ed7953"
             ],
             [
              0.7777777777777778,
              "#fb9f3a"
             ],
             [
              0.8888888888888888,
              "#fdca26"
             ],
             [
              1,
              "#f0f921"
             ]
            ],
            "type": "histogram2dcontour"
           }
          ],
          "mesh3d": [
           {
            "colorbar": {
             "outlinewidth": 0,
             "ticks": ""
            },
            "type": "mesh3d"
           }
          ],
          "parcoords": [
           {
            "line": {
             "colorbar": {
              "outlinewidth": 0,
              "ticks": ""
             }
            },
            "type": "parcoords"
           }
          ],
          "pie": [
           {
            "automargin": true,
            "type": "pie"
           }
          ],
          "scatter": [
           {
            "fillpattern": {
             "fillmode": "overlay",
             "size": 10,
             "solidity": 0.2
            },
            "type": "scatter"
           }
          ],
          "scatter3d": [
           {
            "line": {
             "colorbar": {
              "outlinewidth": 0,
              "ticks": ""
             }
            },
            "marker": {
             "colorbar": {
              "outlinewidth": 0,
              "ticks": ""
             }
            },
            "type": "scatter3d"
           }
          ],
          "scattercarpet": [
           {
            "marker": {
             "colorbar": {
              "outlinewidth": 0,
              "ticks": ""
             }
            },
            "type": "scattercarpet"
           }
          ],
          "scattergeo": [
           {
            "marker": {
             "colorbar": {
              "outlinewidth": 0,
              "ticks": ""
             }
            },
            "type": "scattergeo"
           }
          ],
          "scattergl": [
           {
            "marker": {
             "colorbar": {
              "outlinewidth": 0,
              "ticks": ""
             }
            },
            "type": "scattergl"
           }
          ],
          "scattermapbox": [
           {
            "marker": {
             "colorbar": {
              "outlinewidth": 0,
              "ticks": ""
             }
            },
            "type": "scattermapbox"
           }
          ],
          "scatterpolar": [
           {
            "marker": {
             "colorbar": {
              "outlinewidth": 0,
              "ticks": ""
             }
            },
            "type": "scatterpolar"
           }
          ],
          "scatterpolargl": [
           {
            "marker": {
             "colorbar": {
              "outlinewidth": 0,
              "ticks": ""
             }
            },
            "type": "scatterpolargl"
           }
          ],
          "scatterternary": [
           {
            "marker": {
             "colorbar": {
              "outlinewidth": 0,
              "ticks": ""
             }
            },
            "type": "scatterternary"
           }
          ],
          "surface": [
           {
            "colorbar": {
             "outlinewidth": 0,
             "ticks": ""
            },
            "colorscale": [
             [
              0,
              "#0d0887"
             ],
             [
              0.1111111111111111,
              "#46039f"
             ],
             [
              0.2222222222222222,
              "#7201a8"
             ],
             [
              0.3333333333333333,
              "#9c179e"
             ],
             [
              0.4444444444444444,
              "#bd3786"
             ],
             [
              0.5555555555555556,
              "#d8576b"
             ],
             [
              0.6666666666666666,
              "#ed7953"
             ],
             [
              0.7777777777777778,
              "#fb9f3a"
             ],
             [
              0.8888888888888888,
              "#fdca26"
             ],
             [
              1,
              "#f0f921"
             ]
            ],
            "type": "surface"
           }
          ],
          "table": [
           {
            "cells": {
             "fill": {
              "color": "#EBF0F8"
             },
             "line": {
              "color": "white"
             }
            },
            "header": {
             "fill": {
              "color": "#C8D4E3"
             },
             "line": {
              "color": "white"
             }
            },
            "type": "table"
           }
          ]
         },
         "layout": {
          "annotationdefaults": {
           "arrowcolor": "#2a3f5f",
           "arrowhead": 0,
           "arrowwidth": 1
          },
          "autotypenumbers": "strict",
          "coloraxis": {
           "colorbar": {
            "outlinewidth": 0,
            "ticks": ""
           }
          },
          "colorscale": {
           "diverging": [
            [
             0,
             "#8e0152"
            ],
            [
             0.1,
             "#c51b7d"
            ],
            [
             0.2,
             "#de77ae"
            ],
            [
             0.3,
             "#f1b6da"
            ],
            [
             0.4,
             "#fde0ef"
            ],
            [
             0.5,
             "#f7f7f7"
            ],
            [
             0.6,
             "#e6f5d0"
            ],
            [
             0.7,
             "#b8e186"
            ],
            [
             0.8,
             "#7fbc41"
            ],
            [
             0.9,
             "#4d9221"
            ],
            [
             1,
             "#276419"
            ]
           ],
           "sequential": [
            [
             0,
             "#0d0887"
            ],
            [
             0.1111111111111111,
             "#46039f"
            ],
            [
             0.2222222222222222,
             "#7201a8"
            ],
            [
             0.3333333333333333,
             "#9c179e"
            ],
            [
             0.4444444444444444,
             "#bd3786"
            ],
            [
             0.5555555555555556,
             "#d8576b"
            ],
            [
             0.6666666666666666,
             "#ed7953"
            ],
            [
             0.7777777777777778,
             "#fb9f3a"
            ],
            [
             0.8888888888888888,
             "#fdca26"
            ],
            [
             1,
             "#f0f921"
            ]
           ],
           "sequentialminus": [
            [
             0,
             "#0d0887"
            ],
            [
             0.1111111111111111,
             "#46039f"
            ],
            [
             0.2222222222222222,
             "#7201a8"
            ],
            [
             0.3333333333333333,
             "#9c179e"
            ],
            [
             0.4444444444444444,
             "#bd3786"
            ],
            [
             0.5555555555555556,
             "#d8576b"
            ],
            [
             0.6666666666666666,
             "#ed7953"
            ],
            [
             0.7777777777777778,
             "#fb9f3a"
            ],
            [
             0.8888888888888888,
             "#fdca26"
            ],
            [
             1,
             "#f0f921"
            ]
           ]
          },
          "colorway": [
           "#636efa",
           "#EF553B",
           "#00cc96",
           "#ab63fa",
           "#FFA15A",
           "#19d3f3",
           "#FF6692",
           "#B6E880",
           "#FF97FF",
           "#FECB52"
          ],
          "font": {
           "color": "#2a3f5f"
          },
          "geo": {
           "bgcolor": "white",
           "lakecolor": "white",
           "landcolor": "#E5ECF6",
           "showlakes": true,
           "showland": true,
           "subunitcolor": "white"
          },
          "hoverlabel": {
           "align": "left"
          },
          "hovermode": "closest",
          "mapbox": {
           "style": "light"
          },
          "paper_bgcolor": "white",
          "plot_bgcolor": "#E5ECF6",
          "polar": {
           "angularaxis": {
            "gridcolor": "white",
            "linecolor": "white",
            "ticks": ""
           },
           "bgcolor": "#E5ECF6",
           "radialaxis": {
            "gridcolor": "white",
            "linecolor": "white",
            "ticks": ""
           }
          },
          "scene": {
           "xaxis": {
            "backgroundcolor": "#E5ECF6",
            "gridcolor": "white",
            "gridwidth": 2,
            "linecolor": "white",
            "showbackground": true,
            "ticks": "",
            "zerolinecolor": "white"
           },
           "yaxis": {
            "backgroundcolor": "#E5ECF6",
            "gridcolor": "white",
            "gridwidth": 2,
            "linecolor": "white",
            "showbackground": true,
            "ticks": "",
            "zerolinecolor": "white"
           },
           "zaxis": {
            "backgroundcolor": "#E5ECF6",
            "gridcolor": "white",
            "gridwidth": 2,
            "linecolor": "white",
            "showbackground": true,
            "ticks": "",
            "zerolinecolor": "white"
           }
          },
          "shapedefaults": {
           "line": {
            "color": "#2a3f5f"
           }
          },
          "ternary": {
           "aaxis": {
            "gridcolor": "white",
            "linecolor": "white",
            "ticks": ""
           },
           "baxis": {
            "gridcolor": "white",
            "linecolor": "white",
            "ticks": ""
           },
           "bgcolor": "#E5ECF6",
           "caxis": {
            "gridcolor": "white",
            "linecolor": "white",
            "ticks": ""
           }
          },
          "title": {
           "x": 0.05
          },
          "xaxis": {
           "automargin": true,
           "gridcolor": "white",
           "linecolor": "white",
           "ticks": "",
           "title": {
            "standoff": 15
           },
           "zerolinecolor": "white",
           "zerolinewidth": 2
          },
          "yaxis": {
           "automargin": true,
           "gridcolor": "white",
           "linecolor": "white",
           "ticks": "",
           "title": {
            "standoff": 15
           },
           "zerolinecolor": "white",
           "zerolinewidth": 2
          }
         }
        },
        "title": {
         "text": "Квартальная динамика по возрастным группам"
        },
        "updatemenus": [
         {
          "active": 0,
          "buttons": [
           {
            "args": [
             {
              "y": [
               [
                242.27,
                10994.24,
                13329.87,
                16771.66,
                13144.03
               ],
               [
                3515.57,
                84925.86,
                98993.42,
                143688.71,
                149250.23
               ],
               [
                5513.22,
                159672.64,
                175486.39,
                246094.16,
                247383.59
               ],
               [
                6016.76,
                141156.2,
                138095.29,
                195405.42,
                189806.5
               ],
               [
                3460.29,
                101130.99,
                102205.34,
                153389.14,
                140451.79
               ],
               [
                3370.33,
                90302.02,
                95578.09,
                138741.04,
                139252.63
               ],
               [
                7572.94,
                197564.47,
                181385.42,
                271488.29,
                247713.56
               ],
               [
                409.78,
                11477.04,
                11448.64,
                20265.34,
                21040.44
               ]
              ]
             },
             {
              "yaxis": {
               "autorange": true,
               "range": [
                -17877.40340080971,
                289607.9634008097
               ],
               "title": {
                "text": "Сумма платежей, руб"
               },
               "type": "linear"
              }
             }
            ],
            "label": "Сумма платежей",
            "method": "update"
           },
           {
            "args": [
             {
              "y": [
               [
                22,
                1303,
                1554,
                1770,
                1450
               ],
               [
                380,
                9111,
                10293,
                13661,
                14481
               ],
               [
                621,
                17444,
                19216,
                25654,
                25717
               ],
               [
                628,
                14770,
                14765,
                19921,
                19626
               ],
               [
                343,
                10371,
                10784,
                15197,
                14043
               ],
               [
                326,
                10108,
                10470,
                14163,
                15082
               ],
               [
                859,
                22330,
                19553,
                29506,
                27051
               ],
               [
                40,
                1239,
                1225,
                1953,
                2092
               ]
              ]
             },
             {
              "yaxis": {
               "autorange": true,
               "range": [
                -1947.578947368421,
                31475.57894736842
               ],
               "title": {
                "text": "Количество транзакций"
               },
               "type": "linear"
              }
             }
            ],
            "label": "Количество транзакций",
            "method": "update"
           }
          ],
          "direction": "right",
          "type": "buttons",
          "x": 0.5,
          "y": 1.15
         }
        ],
        "xaxis": {
         "autorange": true,
         "range": [
          -0.2428288822947577,
          4.2428288822947575
         ],
         "title": {
          "text": "Квартал"
         },
         "type": "category"
        },
        "yaxis": {
         "autorange": true,
         "range": [
          -17877.40340080971,
          289607.9634008097
         ],
         "title": {
          "text": "Сумма платежей, руб"
         },
         "type": "linear"
        }
       }
      },
      "image/png": "[encoded data removed]",
      "text/html": [
       "<div>                            <div id=\"91a4ae38-8e72-4bd5-a152-8255271d27fe\" class=\"plotly-graph-div\" style=\"height:600px; width:100%;\"></div>            <script type=\"text/javascript\">                require([\"plotly\"], function(Plotly) {                    window.PLOTLYENV=window.PLOTLYENV || {};                                    if (document.getElementById(\"91a4ae38-8e72-4bd5-a152-8255271d27fe\")) {                    Plotly.newPlot(                        \"91a4ae38-8e72-4bd5-a152-8255271d27fe\",                        [{\"hovertemplate\":\"\\u041a\\u0432\\u0430\\u0440\\u0442\\u0430\\u043b: %{x}\\u003cbr\\u003e\\u0421\\u0443\\u043c\\u043c\\u0430: %{y:,.0f} \\u0440\\u0443\\u0431\",\"marker\":{\"color\":\"#636EFA\"},\"name\":\"0-18\",\"visible\":true,\"x\":[\"2015Q2\",\"2015Q3\",\"2015Q4\",\"2016Q1\",\"2016Q2\"],\"y\":[242.27,10994.24,13329.87,16771.66,13144.03],\"type\":\"scatter\"},{\"hovertemplate\":\"\\u041a\\u0432\\u0430\\u0440\\u0442\\u0430\\u043b: %{x}\\u003cbr\\u003e\\u0421\\u0443\\u043c\\u043c\\u0430: %{y:,.0f} \\u0440\\u0443\\u0431\",\"marker\":{\"color\":\"#EF553B\"},\"name\":\"19-25\",\"visible\":true,\"x\":[\"2015Q2\",\"2015Q3\",\"2015Q4\",\"2016Q1\",\"2016Q2\"],\"y\":[3515.57,84925.86,98993.42,143688.71,149250.23],\"type\":\"scatter\"},{\"hovertemplate\":\"\\u041a\\u0432\\u0430\\u0440\\u0442\\u0430\\u043b: %{x}\\u003cbr\\u003e\\u0421\\u0443\\u043c\\u043c\\u0430: %{y:,.0f} \\u0440\\u0443\\u0431\",\"marker\":{\"color\":\"#00CC96\"},\"name\":\"26-35\",\"visible\":true,\"x\":[\"2015Q2\",\"2015Q3\",\"2015Q4\",\"2016Q1\",\"2016Q2\"],\"y\":[5513.22,159672.64,175486.39,246094.16,247383.59],\"type\":\"scatter\"},{\"hovertemplate\":\"\\u041a\\u0432\\u0430\\u0440\\u0442\\u0430\\u043b: %{x}\\u003cbr\\u003e\\u0421\\u0443\\u043c\\u043c\\u0430: %{y:,.0f} \\u0440\\u0443\\u0431\",\"marker\":{\"color\":\"#AB63FA\"},\"name\":\"36-45\",\"visible\":true,\"x\":[\"2015Q2\",\"2015Q3\",\"2015Q4\",\"2016Q1\",\"2016Q2\"],\"y\":[6016.76,141156.2,138095.29,195405.42,189806.5],\"type\":\"scatter\"},{\"hovertemplate\":\"\\u041a\\u0432\\u0430\\u0440\\u0442\\u0430\\u043b: %{x}\\u003cbr\\u003e\\u0421\\u0443\\u043c\\u043c\\u0430: %{y:,.0f} \\u0440\\u0443\\u0431\",\"marker\":{\"color\":\"#FFA15A\"},\"name\":\"46-55\",\"visible\":true,\"x\":[\"2015Q2\",\"2015Q3\",\"2015Q4\",\"2016Q1\",\"2016Q2\"],\"y\":[3460.29,101130.99,102205.34,153389.14,140451.79],\"type\":\"scatter\"},{\"hovertemplate\":\"\\u041a\\u0432\\u0430\\u0440\\u0442\\u0430\\u043b: %{x}\\u003cbr\\u003e\\u0421\\u0443\\u043c\\u043c\\u0430: %{y:,.0f} \\u0440\\u0443\\u0431\",\"marker\":{\"color\":\"#19D3F3\"},\"name\":\"56-65\",\"visible\":true,\"x\":[\"2015Q2\",\"2015Q3\",\"2015Q4\",\"2016Q1\",\"2016Q2\"],\"y\":[3370.33,90302.02,95578.09,138741.04,139252.63],\"type\":\"scatter\"},{\"hovertemplate\":\"\\u041a\\u0432\\u0430\\u0440\\u0442\\u0430\\u043b: %{x}\\u003cbr\\u003e\\u0421\\u0443\\u043c\\u043c\\u0430: %{y:,.0f} \\u0440\\u0443\\u0431\",\"marker\":{\"color\":\"#FF6692\"},\"name\":\"65+\",\"visible\":true,\"x\":[\"2015Q2\",\"2015Q3\",\"2015Q4\",\"2016Q1\",\"2016Q2\"],\"y\":[7572.94,197564.47,181385.42,271488.29,247713.56],\"type\":\"scatter\"},{\"hovertemplate\":\"\\u041a\\u0432\\u0430\\u0440\\u0442\\u0430\\u043b: %{x}\\u003cbr\\u003e\\u0421\\u0443\\u043c\\u043c\\u0430: %{y:,.0f} \\u0440\\u0443\\u0431\",\"marker\":{\"color\":\"#B6E880\"},\"name\":\"Unknown\",\"visible\":true,\"x\":[\"2015Q2\",\"2015Q3\",\"2015Q4\",\"2016Q1\",\"2016Q2\"],\"y\":[409.78,11477.04,11448.64,20265.34,21040.44],\"type\":\"scatter\"}],                        {\"template\":{\"data\":{\"histogram2dcontour\":[{\"type\":\"histogram2dcontour\",\"colorbar\":{\"outlinewidth\":0,\"ticks\":\"\"},\"colorscale\":[[0.0,\"#0d0887\"],[0.1111111111111111,\"#46039f\"],[0.2222222222222222,\"#7201a8\"],[0.3333333333333333,\"#9c179e\"],[0.4444444444444444,\"#bd3786\"],[0.5555555555555556,\"#d8576b\"],[0.6666666666666666,\"#ed7953\"],[0.7777777777777778,\"#fb9f3a\"],[0.8888888888888888,\"#fdca26\"],[1.0,\"#f0f921\"]]}],\"choropleth\":[{\"type\":\"choropleth\",\"colorbar\":{\"outlinewidth\":0,\"ticks\":\"\"}}],\"histogram2d\":[{\"type\":\"histogram2d\",\"colorbar\":{\"outlinewidth\":0,\"ticks\":\"\"},\"colorscale\":[[0.0,\"#0d0887\"],[0.1111111111111111,\"#46039f\"],[0.2222222222222222,\"#7201a8\"],[0.3333333333333333,\"#9c179e\"],[0.4444444444444444,\"#bd3786\"],[0.5555555555555556,\"#d8576b\"],[0.6666666666666666,\"#ed7953\"],[0.7777777777777778,\"#fb9f3a\"],[0.8888888888888888,\"#fdca26\"],[1.0,\"#f0f921\"]]}],\"heatmap\":[{\"type\":\"heatmap\",\"colorbar\":{\"outlinewidth\":0,\"ticks\":\"\"},\"colorscale\":[[0.0,\"#0d0887\"],[0.1111111111111111,\"#46039f\"],[0.2222222222222222,\"#7201a8\"],[0.3333333333333333,\"#9c179e\"],[0.4444444444444444,\"#bd3786\"],[0.5555555555555556,\"#d8576b\"],[0.6666666666666666,\"#ed7953\"],[0.7777777777777778,\"#fb9f3a\"],[0.8888888888888888,\"#fdca26\"],[1.0,\"#f0f921\"]]}],\"heatmapgl\":[{\"type\":\"heatmapgl\",\"colorbar\":{\"outlinewidth\":0,\"ticks\":\"\"},\"colorscale\":[[0.0,\"#0d0887\"],[0.1111111111111111,\"#46039f\"],[0.2222222222222222,\"#7201a8\"],[0.3333333333333333,\"#9c179e\"],[0.4444444444444444,\"#bd3786\"],[0.5555555555555556,\"#d8576b\"],[0.6666666666666666,\"#ed7953\"],[0.7777777777777778,\"#fb9f3a\"],[0.8888888888888888,\"#fdca26\"],[1.0,\"#f0f921\"]]}],\"contourcarpet\":[{\"type\":\"contourcarpet\",\"colorbar\":{\"outlinewidth\":0,\"ticks\":\"\"}}],\"contour\":[{\"type\":\"contour\",\"colorbar\":{\"outlinewidth\":0,\"ticks\":\"\"},\"colorscale\":[[0.0,\"#0d0887\"],[0.1111111111111111,\"#46039f\"],[0.2222222222222222,\"#7201a8\"],[0.3333333333333333,\"#9c179e\"],[0.4444444444444444,\"#bd3786\"],[0.5555555555555556,\"#d8576b\"],[0.6666666666666666,\"#ed7953\"],[0.7777777777777778,\"#fb9f3a\"],[0.8888888888888888,\"#fdca26\"],[1.0,\"#f0f921\"]]}],\"surface\":[{\"type\":\"surface\",\"colorbar\":{\"outlinewidth\":0,\"ticks\":\"\"},\"colorscale\":[[0.0,\"#0d0887\"],[0.1111111111111111,\"#46039f\"],[0.2222222222222222,\"#7201a8\"],[0.3333333333333333,\"#9c179e\"],[0.4444444444444444,\"#bd3786\"],[0.5555555555555556,\"#d8576b\"],[0.6666666666666666,\"#ed7953\"],[0.7777777777777778,\"#fb9f3a\"],[0.8888888888888888,\"#fdca26\"],[1.0,\"#f0f921\"]]}],\"mesh3d\":[{\"type\":\"mesh3d\",\"colorbar\":{\"outlinewidth\":0,\"ticks\":\"\"}}],\"scatter\":[{\"fillpattern\":{\"fillmode\":\"overlay\",\"size\":10,\"solidity\":0.2},\"type\":\"scatter\"}],\"parcoords\":[{\"type\":\"parcoords\",\"line\":{\"colorbar\":{\"outlinewidth\":0,\"ticks\":\"\"}}}],\"scatterpolargl\":[{\"type\":\"scatterpolargl\",\"marker\":{\"colorbar\":{\"outlinewidth\":0,\"ticks\":\"\"}}}],\"bar\":[{\"error_x\":{\"color\":\"#2a3f5f\"},\"error_y\":{\"color\":\"#2a3f5f\"},\"marker\":{\"line\":{\"color\":\"#E5ECF6\",\"width\":0.5},\"pattern\":{\"fillmode\":\"overlay\",\"size\":10,\"solidity\":0.2}},\"type\":\"bar\"}],\"scattergeo\":[{\"type\":\"scattergeo\",\"marker\":{\"colorbar\":{\"outlinewidth\":0,\"ticks\":\"\"}}}],\"scatterpolar\":[{\"type\":\"scatterpolar\",\"marker\":{\"colorbar\":{\"outlinewidth\":0,\"ticks\":\"\"}}}],\"histogram\":[{\"marker\":{\"pattern\":{\"fillmode\":\"overlay\",\"size\":10,\"solidity\":0.2}},\"type\":\"histogram\"}],\"scattergl\":[{\"type\":\"scattergl\",\"marker\":{\"colorbar\":{\"outlinewidth\":0,\"ticks\":\"\"}}}],\"scatter3d\":[{\"type\":\"scatter3d\",\"line\":{\"colorbar\":{\"outlinewidth\":0,\"ticks\":\"\"}},\"marker\":{\"colorbar\":{\"outlinewidth\":0,\"ticks\":\"\"}}}],\"scattermapbox\":[{\"type\":\"scattermapbox\",\"marker\":{\"colorbar\":{\"outlinewidth\":0,\"ticks\":\"\"}}}],\"scatterternary\":[{\"type\":\"scatterternary\",\"marker\":{\"colorbar\":{\"outlinewidth\":0,\"ticks\":\"\"}}}],\"scattercarpet\":[{\"type\":\"scattercarpet\",\"marker\":{\"colorbar\":{\"outlinewidth\":0,\"ticks\":\"\"}}}],\"carpet\":[{\"aaxis\":{\"endlinecolor\":\"#2a3f5f\",\"gridcolor\":\"white\",\"linecolor\":\"white\",\"minorgridcolor\":\"white\",\"startlinecolor\":\"#2a3f5f\"},\"baxis\":{\"endlinecolor\":\"#2a3f5f\",\"gridcolor\":\"white\",\"linecolor\":\"white\",\"minorgridcolor\":\"white\",\"startlinecolor\":\"#2a3f5f\"},\"type\":\"carpet\"}],\"table\":[{\"cells\":{\"fill\":{\"color\":\"#EBF0F8\"},\"line\":{\"color\":\"white\"}},\"header\":{\"fill\":{\"color\":\"#C8D4E3\"},\"line\":{\"color\":\"white\"}},\"type\":\"table\"}],\"barpolar\":[{\"marker\":{\"line\":{\"color\":\"#E5ECF6\",\"width\":0.5},\"pattern\":{\"fillmode\":\"overlay\",\"size\":10,\"solidity\":0.2}},\"type\":\"barpolar\"}],\"pie\":[{\"automargin\":true,\"type\":\"pie\"}]},\"layout\":{\"autotypenumbers\":\"strict\",\"colorway\":[\"#636efa\",\"#EF553B\",\"#00cc96\",\"#ab63fa\",\"#FFA15A\",\"#19d3f3\",\"#FF6692\",\"#B6E880\",\"#FF97FF\",\"#FECB52\"],\"font\":{\"color\":\"#2a3f5f\"},\"hovermode\":\"closest\",\"hoverlabel\":{\"align\":\"left\"},\"paper_bgcolor\":\"white\",\"plot_bgcolor\":\"#E5ECF6\",\"polar\":{\"bgcolor\":\"#E5ECF6\",\"angularaxis\":{\"gridcolor\":\"white\",\"linecolor\":\"white\",\"ticks\":\"\"},\"radialaxis\":{\"gridcolor\":\"white\",\"linecolor\":\"white\",\"ticks\":\"\"}},\"ternary\":{\"bgcolor\":\"#E5ECF6\",\"aaxis\":{\"gridcolor\":\"white\",\"linecolor\":\"white\",\"ticks\":\"\"},\"baxis\":{\"gridcolor\":\"white\",\"linecolor\":\"white\",\"ticks\":\"\"},\"caxis\":{\"gridcolor\":\"white\",\"linecolor\":\"white\",\"ticks\":\"\"}},\"coloraxis\":{\"colorbar\":{\"outlinewidth\":0,\"ticks\":\"\"}},\"colorscale\":{\"sequential\":[[0.0,\"#0d0887\"],[0.1111111111111111,\"#46039f\"],[0.2222222222222222,\"#7201a8\"],[0.3333333333333333,\"#9c179e\"],[0.4444444444444444,\"#bd3786\"],[0.5555555555555556,\"#d8576b\"],[0.6666666666666666,\"#ed7953\"],[0.7777777777777778,\"#fb9f3a\"],[0.8888888888888888,\"#fdca26\"],[1.0,\"#f0f921\"]],\"sequentialminus\":[[0.0,\"#0d0887\"],[0.1111111111111111,\"#46039f\"],[0.2222222222222222,\"#7201a8\"],[0.3333333333333333,\"#9c179e\"],[0.4444444444444444,\"#bd3786\"],[0.5555555555555556,\"#d8576b\"],[0.6666666666666666,\"#ed7953\"],[0.7777777777777778,\"#fb9f3a\"],[0.8888888888888888,\"#fdca26\"],[1.0,\"#f0f921\"]],\"diverging\":[[0,\"#8e0152\"],[0.1,\"#c51b7d\"],[0.2,\"#de77ae\"],[0.3,\"#f1b6da\"],[0.4,\"#fde0ef\"],[0.5,\"#f7f7f7\"],[0.6,\"#e6f5d0\"],[0.7,\"#b8e186\"],[0.8,\"#7fbc41\"],[0.9,\"#4d9221\"],[1,\"#276419\"]]},\"xaxis\":{\"gridcolor\":\"white\",\"linecolor\":\"white\",\"ticks\":\"\",\"title\":{\"standoff\":15},\"zerolinecolor\":\"white\",\"automargin\":true,\"zerolinewidth\":2},\"yaxis\":{\"gridcolor\":\"white\",\"linecolor\":\"white\",\"ticks\":\"\",\"title\":{\"standoff\":15},\"zerolinecolor\":\"white\",\"automargin\":true,\"zerolinewidth\":2},\"scene\":{\"xaxis\":{\"backgroundcolor\":\"#E5ECF6\",\"gridcolor\":\"white\",\"linecolor\":\"white\",\"showbackground\":true,\"ticks\":\"\",\"zerolinecolor\":\"white\",\"gridwidth\":2},\"yaxis\":{\"backgroundcolor\":\"#E5ECF6\",\"gridcolor\":\"white\",\"linecolor\":\"white\",\"showbackground\":true,\"ticks\":\"\",\"zerolinecolor\":\"white\",\"gridwidth\":2},\"zaxis\":{\"backgroundcolor\":\"#E5ECF6\",\"gridcolor\":\"white\",\"linecolor\":\"white\",\"showbackground\":true,\"ticks\":\"\",\"zerolinecolor\":\"white\",\"gridwidth\":2}},\"shapedefaults\":{\"line\":{\"color\":\"#2a3f5f\"}},\"annotationdefaults\":{\"arrowcolor\":\"#2a3f5f\",\"arrowhead\":0,\"arrowwidth\":1},\"geo\":{\"bgcolor\":\"white\",\"landcolor\":\"#E5ECF6\",\"subunitcolor\":\"white\",\"showland\":true,\"showlakes\":true,\"lakecolor\":\"white\"},\"title\":{\"x\":0.05},\"mapbox\":{\"style\":\"light\"}}},\"title\":{\"text\":\"\\u041a\\u0432\\u0430\\u0440\\u0442\\u0430\\u043b\\u044c\\u043d\\u0430\\u044f \\u0434\\u0438\\u043d\\u0430\\u043c\\u0438\\u043a\\u0430 \\u043f\\u043e \\u0432\\u043e\\u0437\\u0440\\u0430\\u0441\\u0442\\u043d\\u044b\\u043c \\u0433\\u0440\\u0443\\u043f\\u043f\\u0430\\u043c\"},\"xaxis\":{\"title\":{\"text\":\"\\u041a\\u0432\\u0430\\u0440\\u0442\\u0430\\u043b\"}},\"yaxis\":{\"title\":{\"text\":\"\\u0421\\u0443\\u043c\\u043c\\u0430 \\u043f\\u043b\\u0430\\u0442\\u0435\\u0436\\u0435\\u0439, \\u0440\\u0443\\u0431\"}},\"updatemenus\":[{\"buttons\":[{\"args\":[{\"y\":[[242.27,10994.24,13329.87,16771.66,13144.03],[3515.57,84925.86,98993.42,143688.71,149250.23],[5513.22,159672.64,175486.39,246094.16,247383.59],[6016.76,141156.2,138095.29,195405.42,189806.5],[3460.29,101130.99,102205.34,153389.14,140451.79],[3370.33,90302.02,95578.09,138741.04,139252.63],[7572.94,197564.47,181385.42,271488.29,247713.56],[409.78,11477.04,11448.64,20265.34,21040.44]]},{\"yaxis\":{\"title\":{\"text\":\"\\u0421\\u0443\\u043c\\u043c\\u0430 \\u043f\\u043b\\u0430\\u0442\\u0435\\u0436\\u0435\\u0439, \\u0440\\u0443\\u0431\"}}}],\"label\":\"\\u0421\\u0443\\u043c\\u043c\\u0430 \\u043f\\u043b\\u0430\\u0442\\u0435\\u0436\\u0435\\u0439\",\"method\":\"update\"},{\"args\":[{\"y\":[[22,1303,1554,1770,1450],[380,9111,10293,13661,14481],[621,17444,19216,25654,25717],[628,14770,14765,19921,19626],[343,10371,10784,15197,14043],[326,10108,10470,14163,15082],[859,22330,19553,29506,27051],[40,1239,1225,1953,2092]]},{\"yaxis\":{\"title\":{\"text\":\"\\u041a\\u043e\\u043b\\u0438\\u0447\\u0435\\u0441\\u0442\\u0432\\u043e \\u0442\\u0440\\u0430\\u043d\\u0437\\u0430\\u043a\\u0446\\u0438\\u0439\"}}}],\"label\":\"\\u041a\\u043e\\u043b\\u0438\\u0447\\u0435\\u0441\\u0442\\u0432\\u043e \\u0442\\u0440\\u0430\\u043d\\u0437\\u0430\\u043a\\u0446\\u0438\\u0439\",\"method\":\"update\"}],\"direction\":\"right\",\"type\":\"buttons\",\"x\":0.5,\"y\":1.15}],\"height\":600},                        {\"responsive\": true}                    ).then(function(){\n",
       "                            \n",
       "var gd = document.getElementById('91a4ae38-8e72-4bd5-a152-8255271d27fe');\n",
       "var x = new MutationObserver(function (mutations, observer) {{\n",
       "        var display = window.getComputedStyle(gd).display;\n",
       "        if (!display || display === 'none') {{\n",
       "            console.log([gd, 'removed!']);\n",
       "            Plotly.purge(gd);\n",
       "            observer.disconnect();\n",
       "        }}\n",
       "}});\n",
       "\n",
       "// Listen for the removal of the full notebook cells\n",
       "var notebookContainer = gd.closest('#notebook-container');\n",
       "if (notebookContainer) {{\n",
       "    x.observe(notebookContainer, {childList: true});\n",
       "}}\n",
       "\n",
       "// Listen for the clearing of the current output cell\n",
       "var outputEl = gd.closest('.output');\n",
       "if (outputEl) {{\n",
       "    x.observe(outputEl, {childList: true});\n",
       "}}\n",
       "\n",
       "                        })                };                });            </script>        </div>"
      ]
     },
     "metadata": {},
     "output_type": "display_data"
    }
   ],
   "source": [
    "fig = go.Figure()\n",
    "\n",
    "# для каждого возрастного сегмента\n",
    "for i, age_group in enumerate(labels + ['Unknown']):\n",
    "    fig.add_trace(\n",
    "        go.Scatter(\n",
    "            x=quarterly_payment.index.astype(str),\n",
    "            y=quarterly_payment[age_group],\n",
    "            name=age_group,\n",
    "            visible=True,\n",
    "            marker_color=px.colors.qualitative.Plotly[i],\n",
    "            hovertemplate='Квартал: %{x}<br>Сумма: %{y:,.0f} руб'\n",
    "        )\n",
    "    )\n",
    "\n",
    "# кнопки!!!\n",
    "buttons = [\n",
    "    dict(\n",
    "        label=\"Сумма платежей\",\n",
    "        method=\"update\",\n",
    "        args=[{\"y\": [quarterly_payment[col].values for col in labels + ['Unknown']]},\n",
    "              {\"yaxis\": {\"title\": {\"text\": \"Сумма платежей, руб\"}}}]\n",
    "    ),\n",
    "    dict(\n",
    "        label=\"Количество транзакций\",\n",
    "        method=\"update\",\n",
    "        args=[{\"y\": [quarterly_transactions[col].values for col in labels + ['Unknown']]},\n",
    "              {\"yaxis\": {\"title\": {\"text\": \"Количество транзакций\"}}}]\n",
    "    )\n",
    "]\n",
    "\n",
    "fig.update_layout(\n",
    "    title='Квартальная динамика по возрастным группам',\n",
    "    xaxis_title='Квартал',\n",
    "    yaxis_title='Сумма платежей, руб',\n",
    "    updatemenus=[dict(\n",
    "        type=\"buttons\",\n",
    "        direction=\"right\",\n",
    "        x=0.5,\n",
    "        y=1.15,\n",
    "        buttons=buttons\n",
    "    )],\n",
    "    height=600\n",
    ")\n",
    "\n",
    "fig.show()"
   ]
  },
  {
   "cell_type": "markdown",
   "id": "e3007732-179d-4040-8b85-97d1c6361242",
   "metadata": {},
   "source": [
    "### **Общие выводы в результате помесячного анализа**\n",
    "\n",
    "1. Наибольшие сумма платажей и число транзакций приходится на сегмент 65+. Есть гипотеза, что данный сегмент можно раздробить ещё, и при наличии времени я бы провела аналитику по более детализированным сегментам :)\n",
    "2. Наименьшие сумма платежей и число транзакций приходится на сегмент 0-18, а также на группу Unknown. Это связано с тем, что такие клиенты в меньшинстве, их доли минимальны.\n",
    "3. Средний платёж в зависимости от возрастных групп не сильно разнится. Это может быть связано с тем, что, возможно, платёж имеет примерно фиксированную стоимость вне зависимости от возраста.\n",
    "4. Наиболее популярные сегменты: 26-35 лет (25.3% от общего числа клиентов), 36-45 лет (21.4% от общего числа клиентов). Можно сказать, что взрослые люди отдают в наибольшей степени отдают предпочтение подпискам.\n",
    "5. По квартальной динамике видно, что с течением времени как сумма платежей, так и количество транзакций растут. Возможно, сервис начинает обретать популярность и узнаваемость, появляется больше новых клиентов."
   ]
  },
  {
   "cell_type": "code",
   "execution_count": null,
   "id": "71eac712-33d0-479d-9e77-fdce82de51e7",
   "metadata": {},
   "outputs": [],
   "source": []
  }
 ],
 "metadata": {
  "kernelspec": {
   "display_name": "Python 3 (ipykernel)",
   "language": "python",
   "name": "python3"
  },
  "language_info": {
   "codemirror_mode": {
    "name": "ipython",
    "version": 3
   },
   "file_extension": ".py",
   "mimetype": "text/x-python",
   "name": "python",
   "nbconvert_exporter": "python",
   "pygments_lexer": "ipython3",
   "version": "3.12.3"
  }
 },
 "nbformat": 4,
 "nbformat_minor": 5
}
